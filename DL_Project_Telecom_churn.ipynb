{
  "nbformat": 4,
  "nbformat_minor": 0,
  "metadata": {
    "colab": {
      "name": "DL Project Telecom_churn.ipynb",
      "provenance": []
    },
    "kernelspec": {
      "name": "python3",
      "display_name": "Python 3"
    },
    "language_info": {
      "name": "python"
    }
  },
  "cells": [
    {
      "cell_type": "code",
      "metadata": {
        "id": "TVzbKM_SP65g"
      },
      "source": [
        "#important libararies\n",
        "import numpy as np\n",
        "import pandas as pd\n",
        "import matplotlib.pyplot as plt \n",
        "import seaborn as sns\n",
        "import warnings\n",
        "warnings.filterwarnings \n",
        "import tensorflow as tf \n",
        "from sklearn.model_selection import train_test_split\n",
        "from sklearn.metrics import classification_report\n",
        "from sklearn.preprocessing import StandardScaler,LabelEncoder\n"
      ],
      "execution_count": null,
      "outputs": []
    },
    {
      "cell_type": "code",
      "metadata": {
        "colab": {
          "base_uri": "https://localhost:8080/",
          "height": 307
        },
        "id": "B5J3-d73WpWA",
        "outputId": "7481f1a7-3c55-4209-dce5-6827b64d6e57"
      },
      "source": [
        "#load dataset\n",
        "df=pd.read_csv('telecom_churn.csv')\n",
        "df.head()"
      ],
      "execution_count": null,
      "outputs": [
        {
          "output_type": "execute_result",
          "data": {
            "text/html": [
              "<div>\n",
              "<style scoped>\n",
              "    .dataframe tbody tr th:only-of-type {\n",
              "        vertical-align: middle;\n",
              "    }\n",
              "\n",
              "    .dataframe tbody tr th {\n",
              "        vertical-align: top;\n",
              "    }\n",
              "\n",
              "    .dataframe thead th {\n",
              "        text-align: right;\n",
              "    }\n",
              "</style>\n",
              "<table border=\"1\" class=\"dataframe\">\n",
              "  <thead>\n",
              "    <tr style=\"text-align: right;\">\n",
              "      <th></th>\n",
              "      <th>customerID</th>\n",
              "      <th>gender</th>\n",
              "      <th>SeniorCitizen</th>\n",
              "      <th>Partner</th>\n",
              "      <th>Dependents</th>\n",
              "      <th>tenure</th>\n",
              "      <th>PhoneService</th>\n",
              "      <th>MultipleLines</th>\n",
              "      <th>InternetService</th>\n",
              "      <th>OnlineSecurity</th>\n",
              "      <th>OnlineBackup</th>\n",
              "      <th>DeviceProtection</th>\n",
              "      <th>TechSupport</th>\n",
              "      <th>StreamingTV</th>\n",
              "      <th>StreamingMovies</th>\n",
              "      <th>Contract</th>\n",
              "      <th>PaperlessBilling</th>\n",
              "      <th>PaymentMethod</th>\n",
              "      <th>MonthlyCharges</th>\n",
              "      <th>TotalCharges</th>\n",
              "      <th>Churn</th>\n",
              "    </tr>\n",
              "  </thead>\n",
              "  <tbody>\n",
              "    <tr>\n",
              "      <th>0</th>\n",
              "      <td>7590-VHVEG</td>\n",
              "      <td>Female</td>\n",
              "      <td>0</td>\n",
              "      <td>Yes</td>\n",
              "      <td>No</td>\n",
              "      <td>1</td>\n",
              "      <td>No</td>\n",
              "      <td>No phone service</td>\n",
              "      <td>DSL</td>\n",
              "      <td>No</td>\n",
              "      <td>Yes</td>\n",
              "      <td>No</td>\n",
              "      <td>No</td>\n",
              "      <td>No</td>\n",
              "      <td>No</td>\n",
              "      <td>Month-to-month</td>\n",
              "      <td>Yes</td>\n",
              "      <td>Electronic check</td>\n",
              "      <td>29.85</td>\n",
              "      <td>29.85</td>\n",
              "      <td>No</td>\n",
              "    </tr>\n",
              "    <tr>\n",
              "      <th>1</th>\n",
              "      <td>5575-GNVDE</td>\n",
              "      <td>Male</td>\n",
              "      <td>0</td>\n",
              "      <td>No</td>\n",
              "      <td>No</td>\n",
              "      <td>34</td>\n",
              "      <td>Yes</td>\n",
              "      <td>No</td>\n",
              "      <td>DSL</td>\n",
              "      <td>Yes</td>\n",
              "      <td>No</td>\n",
              "      <td>Yes</td>\n",
              "      <td>No</td>\n",
              "      <td>No</td>\n",
              "      <td>No</td>\n",
              "      <td>One year</td>\n",
              "      <td>No</td>\n",
              "      <td>Mailed check</td>\n",
              "      <td>56.95</td>\n",
              "      <td>1889.5</td>\n",
              "      <td>No</td>\n",
              "    </tr>\n",
              "    <tr>\n",
              "      <th>2</th>\n",
              "      <td>3668-QPYBK</td>\n",
              "      <td>Male</td>\n",
              "      <td>0</td>\n",
              "      <td>No</td>\n",
              "      <td>No</td>\n",
              "      <td>2</td>\n",
              "      <td>Yes</td>\n",
              "      <td>No</td>\n",
              "      <td>DSL</td>\n",
              "      <td>Yes</td>\n",
              "      <td>Yes</td>\n",
              "      <td>No</td>\n",
              "      <td>No</td>\n",
              "      <td>No</td>\n",
              "      <td>No</td>\n",
              "      <td>Month-to-month</td>\n",
              "      <td>Yes</td>\n",
              "      <td>Mailed check</td>\n",
              "      <td>53.85</td>\n",
              "      <td>108.15</td>\n",
              "      <td>Yes</td>\n",
              "    </tr>\n",
              "    <tr>\n",
              "      <th>3</th>\n",
              "      <td>7795-CFOCW</td>\n",
              "      <td>Male</td>\n",
              "      <td>0</td>\n",
              "      <td>No</td>\n",
              "      <td>No</td>\n",
              "      <td>45</td>\n",
              "      <td>No</td>\n",
              "      <td>No phone service</td>\n",
              "      <td>DSL</td>\n",
              "      <td>Yes</td>\n",
              "      <td>No</td>\n",
              "      <td>Yes</td>\n",
              "      <td>Yes</td>\n",
              "      <td>No</td>\n",
              "      <td>No</td>\n",
              "      <td>One year</td>\n",
              "      <td>No</td>\n",
              "      <td>Bank transfer (automatic)</td>\n",
              "      <td>42.30</td>\n",
              "      <td>1840.75</td>\n",
              "      <td>No</td>\n",
              "    </tr>\n",
              "    <tr>\n",
              "      <th>4</th>\n",
              "      <td>9237-HQITU</td>\n",
              "      <td>Female</td>\n",
              "      <td>0</td>\n",
              "      <td>No</td>\n",
              "      <td>No</td>\n",
              "      <td>2</td>\n",
              "      <td>Yes</td>\n",
              "      <td>No</td>\n",
              "      <td>Fiber optic</td>\n",
              "      <td>No</td>\n",
              "      <td>No</td>\n",
              "      <td>No</td>\n",
              "      <td>No</td>\n",
              "      <td>No</td>\n",
              "      <td>No</td>\n",
              "      <td>Month-to-month</td>\n",
              "      <td>Yes</td>\n",
              "      <td>Electronic check</td>\n",
              "      <td>70.70</td>\n",
              "      <td>151.65</td>\n",
              "      <td>Yes</td>\n",
              "    </tr>\n",
              "  </tbody>\n",
              "</table>\n",
              "</div>"
            ],
            "text/plain": [
              "   customerID  gender  SeniorCitizen  ... MonthlyCharges TotalCharges  Churn\n",
              "0  7590-VHVEG  Female              0  ...          29.85        29.85     No\n",
              "1  5575-GNVDE    Male              0  ...          56.95       1889.5     No\n",
              "2  3668-QPYBK    Male              0  ...          53.85       108.15    Yes\n",
              "3  7795-CFOCW    Male              0  ...          42.30      1840.75     No\n",
              "4  9237-HQITU  Female              0  ...          70.70       151.65    Yes\n",
              "\n",
              "[5 rows x 21 columns]"
            ]
          },
          "metadata": {},
          "execution_count": 2
        }
      ]
    },
    {
      "cell_type": "code",
      "metadata": {
        "id": "7uvXvRs8WpZd"
      },
      "source": [
        "# here we see target variable is churn and is a classification dataset \n",
        "# here we have to predict whether customer subscribe the service or not "
      ],
      "execution_count": null,
      "outputs": []
    },
    {
      "cell_type": "code",
      "metadata": {
        "colab": {
          "base_uri": "https://localhost:8080/"
        },
        "id": "OcvaRQfLWpci",
        "outputId": "fbc07b75-36e4-4758-df50-54c64dc34fec"
      },
      "source": [
        "# solve EDA\n",
        "df.info()"
      ],
      "execution_count": null,
      "outputs": [
        {
          "output_type": "stream",
          "name": "stdout",
          "text": [
            "<class 'pandas.core.frame.DataFrame'>\n",
            "RangeIndex: 7043 entries, 0 to 7042\n",
            "Data columns (total 21 columns):\n",
            " #   Column            Non-Null Count  Dtype  \n",
            "---  ------            --------------  -----  \n",
            " 0   customerID        7043 non-null   object \n",
            " 1   gender            7043 non-null   object \n",
            " 2   SeniorCitizen     7043 non-null   int64  \n",
            " 3   Partner           7043 non-null   object \n",
            " 4   Dependents        7043 non-null   object \n",
            " 5   tenure            7043 non-null   int64  \n",
            " 6   PhoneService      7043 non-null   object \n",
            " 7   MultipleLines     7043 non-null   object \n",
            " 8   InternetService   7043 non-null   object \n",
            " 9   OnlineSecurity    7043 non-null   object \n",
            " 10  OnlineBackup      7043 non-null   object \n",
            " 11  DeviceProtection  7043 non-null   object \n",
            " 12  TechSupport       7043 non-null   object \n",
            " 13  StreamingTV       7043 non-null   object \n",
            " 14  StreamingMovies   7043 non-null   object \n",
            " 15  Contract          7043 non-null   object \n",
            " 16  PaperlessBilling  7043 non-null   object \n",
            " 17  PaymentMethod     7043 non-null   object \n",
            " 18  MonthlyCharges    7043 non-null   float64\n",
            " 19  TotalCharges      7043 non-null   object \n",
            " 20  Churn             7043 non-null   object \n",
            "dtypes: float64(1), int64(2), object(18)\n",
            "memory usage: 1.1+ MB\n"
          ]
        }
      ]
    },
    {
      "cell_type": "code",
      "metadata": {
        "colab": {
          "base_uri": "https://localhost:8080/"
        },
        "id": "pOnCHCSmWpfS",
        "outputId": "12975d9d-adc5-42e5-e210-ed8578e3abac"
      },
      "source": [
        "# here we can see above 7043 rows and 21 columns and there is no any null values\n",
        "# check null value\n",
        "df.isna().sum()"
      ],
      "execution_count": null,
      "outputs": [
        {
          "output_type": "execute_result",
          "data": {
            "text/plain": [
              "customerID          0\n",
              "gender              0\n",
              "SeniorCitizen       0\n",
              "Partner             0\n",
              "Dependents          0\n",
              "tenure              0\n",
              "PhoneService        0\n",
              "MultipleLines       0\n",
              "InternetService     0\n",
              "OnlineSecurity      0\n",
              "OnlineBackup        0\n",
              "DeviceProtection    0\n",
              "TechSupport         0\n",
              "StreamingTV         0\n",
              "StreamingMovies     0\n",
              "Contract            0\n",
              "PaperlessBilling    0\n",
              "PaymentMethod       0\n",
              "MonthlyCharges      0\n",
              "TotalCharges        0\n",
              "Churn               0\n",
              "dtype: int64"
            ]
          },
          "metadata": {},
          "execution_count": 5
        }
      ]
    },
    {
      "cell_type": "code",
      "metadata": {
        "colab": {
          "base_uri": "https://localhost:8080/",
          "height": 347
        },
        "id": "S1nuKW4KWpiF",
        "outputId": "88c3864c-bca8-4ac7-c2a9-fca1178208f3"
      },
      "source": [
        "# visulaize null value\n",
        "sns.heatmap(df.isna())\n",
        "plt.show()"
      ],
      "execution_count": null,
      "outputs": [
        {
          "output_type": "display_data",
          "data": {
            "image/png": "[encoded data removed]",
            "text/plain": [
              "<Figure size 432x288 with 2 Axes>"
            ]
          },
          "metadata": {
            "needs_background": "light"
          }
        }
      ]
    },
    {
      "cell_type": "code",
      "metadata": {
        "id": "1irbc0EHWpk3"
      },
      "source": [
        "# first we delte customerID \n",
        "df.drop('customerID',axis=1,inplace=True)"
      ],
      "execution_count": null,
      "outputs": []
    },
    {
      "cell_type": "code",
      "metadata": {
        "colab": {
          "base_uri": "https://localhost:8080/",
          "height": 290
        },
        "id": "qOtdRISaWpoD",
        "outputId": "b0acc187-c72a-41cb-c72c-194ce417126b"
      },
      "source": [
        "df.head()"
      ],
      "execution_count": null,
      "outputs": [
        {
          "output_type": "execute_result",
          "data": {
            "text/html": [
              "<div>\n",
              "<style scoped>\n",
              "    .dataframe tbody tr th:only-of-type {\n",
              "        vertical-align: middle;\n",
              "    }\n",
              "\n",
              "    .dataframe tbody tr th {\n",
              "        vertical-align: top;\n",
              "    }\n",
              "\n",
              "    .dataframe thead th {\n",
              "        text-align: right;\n",
              "    }\n",
              "</style>\n",
              "<table border=\"1\" class=\"dataframe\">\n",
              "  <thead>\n",
              "    <tr style=\"text-align: right;\">\n",
              "      <th></th>\n",
              "      <th>gender</th>\n",
              "      <th>SeniorCitizen</th>\n",
              "      <th>Partner</th>\n",
              "      <th>Dependents</th>\n",
              "      <th>tenure</th>\n",
              "      <th>PhoneService</th>\n",
              "      <th>MultipleLines</th>\n",
              "      <th>InternetService</th>\n",
              "      <th>OnlineSecurity</th>\n",
              "      <th>OnlineBackup</th>\n",
              "      <th>DeviceProtection</th>\n",
              "      <th>TechSupport</th>\n",
              "      <th>StreamingTV</th>\n",
              "      <th>StreamingMovies</th>\n",
              "      <th>Contract</th>\n",
              "      <th>PaperlessBilling</th>\n",
              "      <th>PaymentMethod</th>\n",
              "      <th>MonthlyCharges</th>\n",
              "      <th>TotalCharges</th>\n",
              "      <th>Churn</th>\n",
              "    </tr>\n",
              "  </thead>\n",
              "  <tbody>\n",
              "    <tr>\n",
              "      <th>0</th>\n",
              "      <td>Female</td>\n",
              "      <td>0</td>\n",
              "      <td>Yes</td>\n",
              "      <td>No</td>\n",
              "      <td>1</td>\n",
              "      <td>No</td>\n",
              "      <td>No phone service</td>\n",
              "      <td>DSL</td>\n",
              "      <td>No</td>\n",
              "      <td>Yes</td>\n",
              "      <td>No</td>\n",
              "      <td>No</td>\n",
              "      <td>No</td>\n",
              "      <td>No</td>\n",
              "      <td>Month-to-month</td>\n",
              "      <td>Yes</td>\n",
              "      <td>Electronic check</td>\n",
              "      <td>29.85</td>\n",
              "      <td>29.85</td>\n",
              "      <td>No</td>\n",
              "    </tr>\n",
              "    <tr>\n",
              "      <th>1</th>\n",
              "      <td>Male</td>\n",
              "      <td>0</td>\n",
              "      <td>No</td>\n",
              "      <td>No</td>\n",
              "      <td>34</td>\n",
              "      <td>Yes</td>\n",
              "      <td>No</td>\n",
              "      <td>DSL</td>\n",
              "      <td>Yes</td>\n",
              "      <td>No</td>\n",
              "      <td>Yes</td>\n",
              "      <td>No</td>\n",
              "      <td>No</td>\n",
              "      <td>No</td>\n",
              "      <td>One year</td>\n",
              "      <td>No</td>\n",
              "      <td>Mailed check</td>\n",
              "      <td>56.95</td>\n",
              "      <td>1889.5</td>\n",
              "      <td>No</td>\n",
              "    </tr>\n",
              "    <tr>\n",
              "      <th>2</th>\n",
              "      <td>Male</td>\n",
              "      <td>0</td>\n",
              "      <td>No</td>\n",
              "      <td>No</td>\n",
              "      <td>2</td>\n",
              "      <td>Yes</td>\n",
              "      <td>No</td>\n",
              "      <td>DSL</td>\n",
              "      <td>Yes</td>\n",
              "      <td>Yes</td>\n",
              "      <td>No</td>\n",
              "      <td>No</td>\n",
              "      <td>No</td>\n",
              "      <td>No</td>\n",
              "      <td>Month-to-month</td>\n",
              "      <td>Yes</td>\n",
              "      <td>Mailed check</td>\n",
              "      <td>53.85</td>\n",
              "      <td>108.15</td>\n",
              "      <td>Yes</td>\n",
              "    </tr>\n",
              "    <tr>\n",
              "      <th>3</th>\n",
              "      <td>Male</td>\n",
              "      <td>0</td>\n",
              "      <td>No</td>\n",
              "      <td>No</td>\n",
              "      <td>45</td>\n",
              "      <td>No</td>\n",
              "      <td>No phone service</td>\n",
              "      <td>DSL</td>\n",
              "      <td>Yes</td>\n",
              "      <td>No</td>\n",
              "      <td>Yes</td>\n",
              "      <td>Yes</td>\n",
              "      <td>No</td>\n",
              "      <td>No</td>\n",
              "      <td>One year</td>\n",
              "      <td>No</td>\n",
              "      <td>Bank transfer (automatic)</td>\n",
              "      <td>42.30</td>\n",
              "      <td>1840.75</td>\n",
              "      <td>No</td>\n",
              "    </tr>\n",
              "    <tr>\n",
              "      <th>4</th>\n",
              "      <td>Female</td>\n",
              "      <td>0</td>\n",
              "      <td>No</td>\n",
              "      <td>No</td>\n",
              "      <td>2</td>\n",
              "      <td>Yes</td>\n",
              "      <td>No</td>\n",
              "      <td>Fiber optic</td>\n",
              "      <td>No</td>\n",
              "      <td>No</td>\n",
              "      <td>No</td>\n",
              "      <td>No</td>\n",
              "      <td>No</td>\n",
              "      <td>No</td>\n",
              "      <td>Month-to-month</td>\n",
              "      <td>Yes</td>\n",
              "      <td>Electronic check</td>\n",
              "      <td>70.70</td>\n",
              "      <td>151.65</td>\n",
              "      <td>Yes</td>\n",
              "    </tr>\n",
              "  </tbody>\n",
              "</table>\n",
              "</div>"
            ],
            "text/plain": [
              "   gender  SeniorCitizen Partner  ... MonthlyCharges  TotalCharges Churn\n",
              "0  Female              0     Yes  ...          29.85         29.85    No\n",
              "1    Male              0      No  ...          56.95        1889.5    No\n",
              "2    Male              0      No  ...          53.85        108.15   Yes\n",
              "3    Male              0      No  ...          42.30       1840.75    No\n",
              "4  Female              0      No  ...          70.70        151.65   Yes\n",
              "\n",
              "[5 rows x 20 columns]"
            ]
          },
          "metadata": {},
          "execution_count": 8
        }
      ]
    },
    {
      "cell_type": "code",
      "metadata": {
        "colab": {
          "base_uri": "https://localhost:8080/"
        },
        "id": "SucNVPx7WprT",
        "outputId": "620e33bc-2552-4d50-a321-101992e8da6b"
      },
      "source": [
        "# we got TotalCharges column have numeric value but its datatype is object lets check\n",
        "df['TotalCharges'].unique()\n"
      ],
      "execution_count": null,
      "outputs": [
        {
          "output_type": "execute_result",
          "data": {
            "text/plain": [
              "array(['29.85', '1889.5', '108.15', ..., '346.45', '306.6', '6844.5'],\n",
              "      dtype=object)"
            ]
          },
          "metadata": {},
          "execution_count": 9
        }
      ]
    },
    {
      "cell_type": "code",
      "metadata": {
        "colab": {
          "base_uri": "https://localhost:8080/"
        },
        "id": "GDSzP0FCWpuQ",
        "outputId": "81a798a1-f663-4bcf-ad65-cd23895175e6"
      },
      "source": [
        "df['TotalCharges'].value_counts()"
      ],
      "execution_count": null,
      "outputs": [
        {
          "output_type": "execute_result",
          "data": {
            "text/plain": [
              "20.2       11\n",
              "           11\n",
              "19.75       9\n",
              "19.65       8\n",
              "20.05       8\n",
              "           ..\n",
              "1530.6      1\n",
              "216.45      1\n",
              "1652.1      1\n",
              "4156.8      1\n",
              "4370.75     1\n",
              "Name: TotalCharges, Length: 6531, dtype: int64"
            ]
          },
          "metadata": {},
          "execution_count": 10
        }
      ]
    },
    {
      "cell_type": "code",
      "metadata": {
        "id": "UiZNyLvuWpxT"
      },
      "source": [
        "#here we got space because of that its datatype is object now we replace that by mean value\n",
        "df['TotalCharges']=df['TotalCharges'].replace(' ',np.nan)"
      ],
      "execution_count": null,
      "outputs": []
    },
    {
      "cell_type": "code",
      "metadata": {
        "colab": {
          "base_uri": "https://localhost:8080/"
        },
        "id": "Ib1eVZDcWpz7",
        "outputId": "a43186bd-2c48-44b1-8e72-9bbf39af64a3"
      },
      "source": [
        "df['TotalCharges'].isna().sum()"
      ],
      "execution_count": null,
      "outputs": [
        {
          "output_type": "execute_result",
          "data": {
            "text/plain": [
              "11"
            ]
          },
          "metadata": {},
          "execution_count": 12
        }
      ]
    },
    {
      "cell_type": "code",
      "metadata": {
        "id": "SXkLoB8oWp2_"
      },
      "source": [
        "df['TotalCharges']=df['TotalCharges'].astype('float')"
      ],
      "execution_count": null,
      "outputs": []
    },
    {
      "cell_type": "code",
      "metadata": {
        "colab": {
          "base_uri": "https://localhost:8080/"
        },
        "id": "zGcLOk6tWp6H",
        "outputId": "cf0cb534-ab9c-4e72-c4b9-9e91a2c0dbcd"
      },
      "source": [
        "df.info()"
      ],
      "execution_count": null,
      "outputs": [
        {
          "output_type": "stream",
          "name": "stdout",
          "text": [
            "<class 'pandas.core.frame.DataFrame'>\n",
            "RangeIndex: 7043 entries, 0 to 7042\n",
            "Data columns (total 20 columns):\n",
            " #   Column            Non-Null Count  Dtype  \n",
            "---  ------            --------------  -----  \n",
            " 0   gender            7043 non-null   object \n",
            " 1   SeniorCitizen     7043 non-null   int64  \n",
            " 2   Partner           7043 non-null   object \n",
            " 3   Dependents        7043 non-null   object \n",
            " 4   tenure            7043 non-null   int64  \n",
            " 5   PhoneService      7043 non-null   object \n",
            " 6   MultipleLines     7043 non-null   object \n",
            " 7   InternetService   7043 non-null   object \n",
            " 8   OnlineSecurity    7043 non-null   object \n",
            " 9   OnlineBackup      7043 non-null   object \n",
            " 10  DeviceProtection  7043 non-null   object \n",
            " 11  TechSupport       7043 non-null   object \n",
            " 12  StreamingTV       7043 non-null   object \n",
            " 13  StreamingMovies   7043 non-null   object \n",
            " 14  Contract          7043 non-null   object \n",
            " 15  PaperlessBilling  7043 non-null   object \n",
            " 16  PaymentMethod     7043 non-null   object \n",
            " 17  MonthlyCharges    7043 non-null   float64\n",
            " 18  TotalCharges      7032 non-null   float64\n",
            " 19  Churn             7043 non-null   object \n",
            "dtypes: float64(2), int64(2), object(16)\n",
            "memory usage: 1.1+ MB\n"
          ]
        }
      ]
    },
    {
      "cell_type": "code",
      "metadata": {
        "id": "cL24sr2gWp9B"
      },
      "source": [
        "df['TotalCharges'].fillna(df['TotalCharges'].mean(),inplace=True)"
      ],
      "execution_count": null,
      "outputs": []
    },
    {
      "cell_type": "code",
      "metadata": {
        "colab": {
          "base_uri": "https://localhost:8080/"
        },
        "id": "Ldv4ph1UWqAI",
        "outputId": "00cd303c-5970-433b-ce1a-9753fde05bf5"
      },
      "source": [
        "df['TotalCharges'].value_counts()"
      ],
      "execution_count": null,
      "outputs": [
        {
          "output_type": "execute_result",
          "data": {
            "text/plain": [
              "20.200000      11\n",
              "2283.300441    11\n",
              "19.750000       9\n",
              "19.900000       8\n",
              "19.650000       8\n",
              "               ..\n",
              "1066.150000     1\n",
              "249.950000      1\n",
              "8333.950000     1\n",
              "7171.700000     1\n",
              "1024.000000     1\n",
              "Name: TotalCharges, Length: 6531, dtype: int64"
            ]
          },
          "metadata": {},
          "execution_count": 16
        }
      ]
    },
    {
      "cell_type": "code",
      "metadata": {
        "colab": {
          "base_uri": "https://localhost:8080/"
        },
        "id": "mx9J4JjpWqDF",
        "outputId": "48686584-f613-40f7-b3dd-82df852ad008"
      },
      "source": [
        "df.isna().sum()"
      ],
      "execution_count": null,
      "outputs": [
        {
          "output_type": "execute_result",
          "data": {
            "text/plain": [
              "gender              0\n",
              "SeniorCitizen       0\n",
              "Partner             0\n",
              "Dependents          0\n",
              "tenure              0\n",
              "PhoneService        0\n",
              "MultipleLines       0\n",
              "InternetService     0\n",
              "OnlineSecurity      0\n",
              "OnlineBackup        0\n",
              "DeviceProtection    0\n",
              "TechSupport         0\n",
              "StreamingTV         0\n",
              "StreamingMovies     0\n",
              "Contract            0\n",
              "PaperlessBilling    0\n",
              "PaymentMethod       0\n",
              "MonthlyCharges      0\n",
              "TotalCharges        0\n",
              "Churn               0\n",
              "dtype: int64"
            ]
          },
          "metadata": {},
          "execution_count": 17
        }
      ]
    },
    {
      "cell_type": "code",
      "metadata": {
        "colab": {
          "base_uri": "https://localhost:8080/"
        },
        "id": "lIkEElisWqGN",
        "outputId": "0edc4eab-1a49-4f66-c71e-6badb47b35d9"
      },
      "source": [
        "df['Churn'].value_counts()"
      ],
      "execution_count": null,
      "outputs": [
        {
          "output_type": "execute_result",
          "data": {
            "text/plain": [
              "No     5174\n",
              "Yes    1869\n",
              "Name: Churn, dtype: int64"
            ]
          },
          "metadata": {},
          "execution_count": 18
        }
      ]
    },
    {
      "cell_type": "code",
      "metadata": {
        "colab": {
          "base_uri": "https://localhost:8080/",
          "height": 279
        },
        "id": "Ve9jF985WqJR",
        "outputId": "ab47f87a-9fa6-4bf8-82a3-e1389ec7d9f2"
      },
      "source": [
        "sns.countplot(data=df,x='Churn')\n",
        "plt.show()"
      ],
      "execution_count": null,
      "outputs": [
        {
          "output_type": "display_data",
          "data": {
            "image/png": "[encoded data removed]",
            "text/plain": [
              "<Figure size 432x288 with 1 Axes>"
            ]
          },
          "metadata": {
            "needs_background": "light"
          }
        }
      ]
    },
    {
      "cell_type": "code",
      "metadata": {
        "id": "Ee_S3kEIWqMP"
      },
      "source": [
        "# first we select data separatly object type and numberic type then convert it into numberic type \n",
        "df_num=df.select_dtypes(['int64','float64'])\n",
        "df_cat=df.select_dtypes('object')"
      ],
      "execution_count": null,
      "outputs": []
    },
    {
      "cell_type": "code",
      "metadata": {
        "colab": {
          "base_uri": "https://localhost:8080/",
          "height": 290
        },
        "id": "tEdc_hBXWqPV",
        "outputId": "846eaa3f-ab51-4017-f52c-cee3a62cbd19"
      },
      "source": [
        "df_cat.head()"
      ],
      "execution_count": null,
      "outputs": [
        {
          "output_type": "execute_result",
          "data": {
            "text/html": [
              "<div>\n",
              "<style scoped>\n",
              "    .dataframe tbody tr th:only-of-type {\n",
              "        vertical-align: middle;\n",
              "    }\n",
              "\n",
              "    .dataframe tbody tr th {\n",
              "        vertical-align: top;\n",
              "    }\n",
              "\n",
              "    .dataframe thead th {\n",
              "        text-align: right;\n",
              "    }\n",
              "</style>\n",
              "<table border=\"1\" class=\"dataframe\">\n",
              "  <thead>\n",
              "    <tr style=\"text-align: right;\">\n",
              "      <th></th>\n",
              "      <th>gender</th>\n",
              "      <th>Partner</th>\n",
              "      <th>Dependents</th>\n",
              "      <th>PhoneService</th>\n",
              "      <th>MultipleLines</th>\n",
              "      <th>InternetService</th>\n",
              "      <th>OnlineSecurity</th>\n",
              "      <th>OnlineBackup</th>\n",
              "      <th>DeviceProtection</th>\n",
              "      <th>TechSupport</th>\n",
              "      <th>StreamingTV</th>\n",
              "      <th>StreamingMovies</th>\n",
              "      <th>Contract</th>\n",
              "      <th>PaperlessBilling</th>\n",
              "      <th>PaymentMethod</th>\n",
              "      <th>Churn</th>\n",
              "    </tr>\n",
              "  </thead>\n",
              "  <tbody>\n",
              "    <tr>\n",
              "      <th>0</th>\n",
              "      <td>Female</td>\n",
              "      <td>Yes</td>\n",
              "      <td>No</td>\n",
              "      <td>No</td>\n",
              "      <td>No phone service</td>\n",
              "      <td>DSL</td>\n",
              "      <td>No</td>\n",
              "      <td>Yes</td>\n",
              "      <td>No</td>\n",
              "      <td>No</td>\n",
              "      <td>No</td>\n",
              "      <td>No</td>\n",
              "      <td>Month-to-month</td>\n",
              "      <td>Yes</td>\n",
              "      <td>Electronic check</td>\n",
              "      <td>No</td>\n",
              "    </tr>\n",
              "    <tr>\n",
              "      <th>1</th>\n",
              "      <td>Male</td>\n",
              "      <td>No</td>\n",
              "      <td>No</td>\n",
              "      <td>Yes</td>\n",
              "      <td>No</td>\n",
              "      <td>DSL</td>\n",
              "      <td>Yes</td>\n",
              "      <td>No</td>\n",
              "      <td>Yes</td>\n",
              "      <td>No</td>\n",
              "      <td>No</td>\n",
              "      <td>No</td>\n",
              "      <td>One year</td>\n",
              "      <td>No</td>\n",
              "      <td>Mailed check</td>\n",
              "      <td>No</td>\n",
              "    </tr>\n",
              "    <tr>\n",
              "      <th>2</th>\n",
              "      <td>Male</td>\n",
              "      <td>No</td>\n",
              "      <td>No</td>\n",
              "      <td>Yes</td>\n",
              "      <td>No</td>\n",
              "      <td>DSL</td>\n",
              "      <td>Yes</td>\n",
              "      <td>Yes</td>\n",
              "      <td>No</td>\n",
              "      <td>No</td>\n",
              "      <td>No</td>\n",
              "      <td>No</td>\n",
              "      <td>Month-to-month</td>\n",
              "      <td>Yes</td>\n",
              "      <td>Mailed check</td>\n",
              "      <td>Yes</td>\n",
              "    </tr>\n",
              "    <tr>\n",
              "      <th>3</th>\n",
              "      <td>Male</td>\n",
              "      <td>No</td>\n",
              "      <td>No</td>\n",
              "      <td>No</td>\n",
              "      <td>No phone service</td>\n",
              "      <td>DSL</td>\n",
              "      <td>Yes</td>\n",
              "      <td>No</td>\n",
              "      <td>Yes</td>\n",
              "      <td>Yes</td>\n",
              "      <td>No</td>\n",
              "      <td>No</td>\n",
              "      <td>One year</td>\n",
              "      <td>No</td>\n",
              "      <td>Bank transfer (automatic)</td>\n",
              "      <td>No</td>\n",
              "    </tr>\n",
              "    <tr>\n",
              "      <th>4</th>\n",
              "      <td>Female</td>\n",
              "      <td>No</td>\n",
              "      <td>No</td>\n",
              "      <td>Yes</td>\n",
              "      <td>No</td>\n",
              "      <td>Fiber optic</td>\n",
              "      <td>No</td>\n",
              "      <td>No</td>\n",
              "      <td>No</td>\n",
              "      <td>No</td>\n",
              "      <td>No</td>\n",
              "      <td>No</td>\n",
              "      <td>Month-to-month</td>\n",
              "      <td>Yes</td>\n",
              "      <td>Electronic check</td>\n",
              "      <td>Yes</td>\n",
              "    </tr>\n",
              "  </tbody>\n",
              "</table>\n",
              "</div>"
            ],
            "text/plain": [
              "   gender Partner Dependents  ... PaperlessBilling              PaymentMethod Churn\n",
              "0  Female     Yes         No  ...              Yes           Electronic check    No\n",
              "1    Male      No         No  ...               No               Mailed check    No\n",
              "2    Male      No         No  ...              Yes               Mailed check   Yes\n",
              "3    Male      No         No  ...               No  Bank transfer (automatic)    No\n",
              "4  Female      No         No  ...              Yes           Electronic check   Yes\n",
              "\n",
              "[5 rows x 16 columns]"
            ]
          },
          "metadata": {},
          "execution_count": 21
        }
      ]
    },
    {
      "cell_type": "code",
      "metadata": {
        "colab": {
          "base_uri": "https://localhost:8080/",
          "height": 203
        },
        "id": "6sMf0_EHWqSY",
        "outputId": "c2200fc9-dfed-4d1d-84bd-0063f604a09c"
      },
      "source": [
        "df_num.head()"
      ],
      "execution_count": null,
      "outputs": [
        {
          "output_type": "execute_result",
          "data": {
            "text/html": [
              "<div>\n",
              "<style scoped>\n",
              "    .dataframe tbody tr th:only-of-type {\n",
              "        vertical-align: middle;\n",
              "    }\n",
              "\n",
              "    .dataframe tbody tr th {\n",
              "        vertical-align: top;\n",
              "    }\n",
              "\n",
              "    .dataframe thead th {\n",
              "        text-align: right;\n",
              "    }\n",
              "</style>\n",
              "<table border=\"1\" class=\"dataframe\">\n",
              "  <thead>\n",
              "    <tr style=\"text-align: right;\">\n",
              "      <th></th>\n",
              "      <th>SeniorCitizen</th>\n",
              "      <th>tenure</th>\n",
              "      <th>MonthlyCharges</th>\n",
              "      <th>TotalCharges</th>\n",
              "    </tr>\n",
              "  </thead>\n",
              "  <tbody>\n",
              "    <tr>\n",
              "      <th>0</th>\n",
              "      <td>0</td>\n",
              "      <td>1</td>\n",
              "      <td>29.85</td>\n",
              "      <td>29.85</td>\n",
              "    </tr>\n",
              "    <tr>\n",
              "      <th>1</th>\n",
              "      <td>0</td>\n",
              "      <td>34</td>\n",
              "      <td>56.95</td>\n",
              "      <td>1889.50</td>\n",
              "    </tr>\n",
              "    <tr>\n",
              "      <th>2</th>\n",
              "      <td>0</td>\n",
              "      <td>2</td>\n",
              "      <td>53.85</td>\n",
              "      <td>108.15</td>\n",
              "    </tr>\n",
              "    <tr>\n",
              "      <th>3</th>\n",
              "      <td>0</td>\n",
              "      <td>45</td>\n",
              "      <td>42.30</td>\n",
              "      <td>1840.75</td>\n",
              "    </tr>\n",
              "    <tr>\n",
              "      <th>4</th>\n",
              "      <td>0</td>\n",
              "      <td>2</td>\n",
              "      <td>70.70</td>\n",
              "      <td>151.65</td>\n",
              "    </tr>\n",
              "  </tbody>\n",
              "</table>\n",
              "</div>"
            ],
            "text/plain": [
              "   SeniorCitizen  tenure  MonthlyCharges  TotalCharges\n",
              "0              0       1           29.85         29.85\n",
              "1              0      34           56.95       1889.50\n",
              "2              0       2           53.85        108.15\n",
              "3              0      45           42.30       1840.75\n",
              "4              0       2           70.70        151.65"
            ]
          },
          "metadata": {},
          "execution_count": 22
        }
      ]
    },
    {
      "cell_type": "code",
      "metadata": {
        "colab": {
          "base_uri": "https://localhost:8080/"
        },
        "id": "Vu4gKXzqWqVP",
        "outputId": "4d1a28d9-31c3-4ea4-8c94-98039d704934"
      },
      "source": [
        "for col in df_cat:\n",
        "  le=LabelEncoder()\n",
        "  df_cat[col]=le.fit_transform(df_cat[col])"
      ],
      "execution_count": null,
      "outputs": [
        {
          "output_type": "stream",
          "name": "stderr",
          "text": [
            "/usr/local/lib/python3.7/dist-packages/ipykernel_launcher.py:3: SettingWithCopyWarning: \n",
            "A value is trying to be set on a copy of a slice from a DataFrame.\n",
            "Try using .loc[row_indexer,col_indexer] = value instead\n",
            "\n",
            "See the caveats in the documentation: https://pandas.pydata.org/pandas-docs/stable/user_guide/indexing.html#returning-a-view-versus-a-copy\n",
            "  This is separate from the ipykernel package so we can avoid doing imports until\n"
          ]
        }
      ]
    },
    {
      "cell_type": "code",
      "metadata": {
        "colab": {
          "base_uri": "https://localhost:8080/",
          "height": 223
        },
        "id": "BmK-bqUAgZ9H",
        "outputId": "6b706476-5594-4e3c-d819-c912959fa50d"
      },
      "source": [
        "df_cat.head()"
      ],
      "execution_count": null,
      "outputs": [
        {
          "output_type": "execute_result",
          "data": {
            "text/html": [
              "<div>\n",
              "<style scoped>\n",
              "    .dataframe tbody tr th:only-of-type {\n",
              "        vertical-align: middle;\n",
              "    }\n",
              "\n",
              "    .dataframe tbody tr th {\n",
              "        vertical-align: top;\n",
              "    }\n",
              "\n",
              "    .dataframe thead th {\n",
              "        text-align: right;\n",
              "    }\n",
              "</style>\n",
              "<table border=\"1\" class=\"dataframe\">\n",
              "  <thead>\n",
              "    <tr style=\"text-align: right;\">\n",
              "      <th></th>\n",
              "      <th>gender</th>\n",
              "      <th>Partner</th>\n",
              "      <th>Dependents</th>\n",
              "      <th>PhoneService</th>\n",
              "      <th>MultipleLines</th>\n",
              "      <th>InternetService</th>\n",
              "      <th>OnlineSecurity</th>\n",
              "      <th>OnlineBackup</th>\n",
              "      <th>DeviceProtection</th>\n",
              "      <th>TechSupport</th>\n",
              "      <th>StreamingTV</th>\n",
              "      <th>StreamingMovies</th>\n",
              "      <th>Contract</th>\n",
              "      <th>PaperlessBilling</th>\n",
              "      <th>PaymentMethod</th>\n",
              "      <th>Churn</th>\n",
              "    </tr>\n",
              "  </thead>\n",
              "  <tbody>\n",
              "    <tr>\n",
              "      <th>0</th>\n",
              "      <td>0</td>\n",
              "      <td>1</td>\n",
              "      <td>0</td>\n",
              "      <td>0</td>\n",
              "      <td>1</td>\n",
              "      <td>0</td>\n",
              "      <td>0</td>\n",
              "      <td>2</td>\n",
              "      <td>0</td>\n",
              "      <td>0</td>\n",
              "      <td>0</td>\n",
              "      <td>0</td>\n",
              "      <td>0</td>\n",
              "      <td>1</td>\n",
              "      <td>2</td>\n",
              "      <td>0</td>\n",
              "    </tr>\n",
              "    <tr>\n",
              "      <th>1</th>\n",
              "      <td>1</td>\n",
              "      <td>0</td>\n",
              "      <td>0</td>\n",
              "      <td>1</td>\n",
              "      <td>0</td>\n",
              "      <td>0</td>\n",
              "      <td>2</td>\n",
              "      <td>0</td>\n",
              "      <td>2</td>\n",
              "      <td>0</td>\n",
              "      <td>0</td>\n",
              "      <td>0</td>\n",
              "      <td>1</td>\n",
              "      <td>0</td>\n",
              "      <td>3</td>\n",
              "      <td>0</td>\n",
              "    </tr>\n",
              "    <tr>\n",
              "      <th>2</th>\n",
              "      <td>1</td>\n",
              "      <td>0</td>\n",
              "      <td>0</td>\n",
              "      <td>1</td>\n",
              "      <td>0</td>\n",
              "      <td>0</td>\n",
              "      <td>2</td>\n",
              "      <td>2</td>\n",
              "      <td>0</td>\n",
              "      <td>0</td>\n",
              "      <td>0</td>\n",
              "      <td>0</td>\n",
              "      <td>0</td>\n",
              "      <td>1</td>\n",
              "      <td>3</td>\n",
              "      <td>1</td>\n",
              "    </tr>\n",
              "    <tr>\n",
              "      <th>3</th>\n",
              "      <td>1</td>\n",
              "      <td>0</td>\n",
              "      <td>0</td>\n",
              "      <td>0</td>\n",
              "      <td>1</td>\n",
              "      <td>0</td>\n",
              "      <td>2</td>\n",
              "      <td>0</td>\n",
              "      <td>2</td>\n",
              "      <td>2</td>\n",
              "      <td>0</td>\n",
              "      <td>0</td>\n",
              "      <td>1</td>\n",
              "      <td>0</td>\n",
              "      <td>0</td>\n",
              "      <td>0</td>\n",
              "    </tr>\n",
              "    <tr>\n",
              "      <th>4</th>\n",
              "      <td>0</td>\n",
              "      <td>0</td>\n",
              "      <td>0</td>\n",
              "      <td>1</td>\n",
              "      <td>0</td>\n",
              "      <td>1</td>\n",
              "      <td>0</td>\n",
              "      <td>0</td>\n",
              "      <td>0</td>\n",
              "      <td>0</td>\n",
              "      <td>0</td>\n",
              "      <td>0</td>\n",
              "      <td>0</td>\n",
              "      <td>1</td>\n",
              "      <td>2</td>\n",
              "      <td>1</td>\n",
              "    </tr>\n",
              "  </tbody>\n",
              "</table>\n",
              "</div>"
            ],
            "text/plain": [
              "   gender  Partner  Dependents  ...  PaperlessBilling  PaymentMethod  Churn\n",
              "0       0        1           0  ...                 1              2      0\n",
              "1       1        0           0  ...                 0              3      0\n",
              "2       1        0           0  ...                 1              3      1\n",
              "3       1        0           0  ...                 0              0      0\n",
              "4       0        0           0  ...                 1              2      1\n",
              "\n",
              "[5 rows x 16 columns]"
            ]
          },
          "metadata": {},
          "execution_count": 24
        }
      ]
    },
    {
      "cell_type": "code",
      "metadata": {
        "colab": {
          "base_uri": "https://localhost:8080/",
          "height": 223
        },
        "id": "A2fyD_hSgaBl",
        "outputId": "2105757f-93f8-4c6c-f53e-cc2a717888d1"
      },
      "source": [
        "df_new=pd.concat([df_cat,df_num],axis=1)\n",
        "df_new.head()"
      ],
      "execution_count": null,
      "outputs": [
        {
          "output_type": "execute_result",
          "data": {
            "text/html": [
              "<div>\n",
              "<style scoped>\n",
              "    .dataframe tbody tr th:only-of-type {\n",
              "        vertical-align: middle;\n",
              "    }\n",
              "\n",
              "    .dataframe tbody tr th {\n",
              "        vertical-align: top;\n",
              "    }\n",
              "\n",
              "    .dataframe thead th {\n",
              "        text-align: right;\n",
              "    }\n",
              "</style>\n",
              "<table border=\"1\" class=\"dataframe\">\n",
              "  <thead>\n",
              "    <tr style=\"text-align: right;\">\n",
              "      <th></th>\n",
              "      <th>gender</th>\n",
              "      <th>Partner</th>\n",
              "      <th>Dependents</th>\n",
              "      <th>PhoneService</th>\n",
              "      <th>MultipleLines</th>\n",
              "      <th>InternetService</th>\n",
              "      <th>OnlineSecurity</th>\n",
              "      <th>OnlineBackup</th>\n",
              "      <th>DeviceProtection</th>\n",
              "      <th>TechSupport</th>\n",
              "      <th>StreamingTV</th>\n",
              "      <th>StreamingMovies</th>\n",
              "      <th>Contract</th>\n",
              "      <th>PaperlessBilling</th>\n",
              "      <th>PaymentMethod</th>\n",
              "      <th>Churn</th>\n",
              "      <th>SeniorCitizen</th>\n",
              "      <th>tenure</th>\n",
              "      <th>MonthlyCharges</th>\n",
              "      <th>TotalCharges</th>\n",
              "    </tr>\n",
              "  </thead>\n",
              "  <tbody>\n",
              "    <tr>\n",
              "      <th>0</th>\n",
              "      <td>0</td>\n",
              "      <td>1</td>\n",
              "      <td>0</td>\n",
              "      <td>0</td>\n",
              "      <td>1</td>\n",
              "      <td>0</td>\n",
              "      <td>0</td>\n",
              "      <td>2</td>\n",
              "      <td>0</td>\n",
              "      <td>0</td>\n",
              "      <td>0</td>\n",
              "      <td>0</td>\n",
              "      <td>0</td>\n",
              "      <td>1</td>\n",
              "      <td>2</td>\n",
              "      <td>0</td>\n",
              "      <td>0</td>\n",
              "      <td>1</td>\n",
              "      <td>29.85</td>\n",
              "      <td>29.85</td>\n",
              "    </tr>\n",
              "    <tr>\n",
              "      <th>1</th>\n",
              "      <td>1</td>\n",
              "      <td>0</td>\n",
              "      <td>0</td>\n",
              "      <td>1</td>\n",
              "      <td>0</td>\n",
              "      <td>0</td>\n",
              "      <td>2</td>\n",
              "      <td>0</td>\n",
              "      <td>2</td>\n",
              "      <td>0</td>\n",
              "      <td>0</td>\n",
              "      <td>0</td>\n",
              "      <td>1</td>\n",
              "      <td>0</td>\n",
              "      <td>3</td>\n",
              "      <td>0</td>\n",
              "      <td>0</td>\n",
              "      <td>34</td>\n",
              "      <td>56.95</td>\n",
              "      <td>1889.50</td>\n",
              "    </tr>\n",
              "    <tr>\n",
              "      <th>2</th>\n",
              "      <td>1</td>\n",
              "      <td>0</td>\n",
              "      <td>0</td>\n",
              "      <td>1</td>\n",
              "      <td>0</td>\n",
              "      <td>0</td>\n",
              "      <td>2</td>\n",
              "      <td>2</td>\n",
              "      <td>0</td>\n",
              "      <td>0</td>\n",
              "      <td>0</td>\n",
              "      <td>0</td>\n",
              "      <td>0</td>\n",
              "      <td>1</td>\n",
              "      <td>3</td>\n",
              "      <td>1</td>\n",
              "      <td>0</td>\n",
              "      <td>2</td>\n",
              "      <td>53.85</td>\n",
              "      <td>108.15</td>\n",
              "    </tr>\n",
              "    <tr>\n",
              "      <th>3</th>\n",
              "      <td>1</td>\n",
              "      <td>0</td>\n",
              "      <td>0</td>\n",
              "      <td>0</td>\n",
              "      <td>1</td>\n",
              "      <td>0</td>\n",
              "      <td>2</td>\n",
              "      <td>0</td>\n",
              "      <td>2</td>\n",
              "      <td>2</td>\n",
              "      <td>0</td>\n",
              "      <td>0</td>\n",
              "      <td>1</td>\n",
              "      <td>0</td>\n",
              "      <td>0</td>\n",
              "      <td>0</td>\n",
              "      <td>0</td>\n",
              "      <td>45</td>\n",
              "      <td>42.30</td>\n",
              "      <td>1840.75</td>\n",
              "    </tr>\n",
              "    <tr>\n",
              "      <th>4</th>\n",
              "      <td>0</td>\n",
              "      <td>0</td>\n",
              "      <td>0</td>\n",
              "      <td>1</td>\n",
              "      <td>0</td>\n",
              "      <td>1</td>\n",
              "      <td>0</td>\n",
              "      <td>0</td>\n",
              "      <td>0</td>\n",
              "      <td>0</td>\n",
              "      <td>0</td>\n",
              "      <td>0</td>\n",
              "      <td>0</td>\n",
              "      <td>1</td>\n",
              "      <td>2</td>\n",
              "      <td>1</td>\n",
              "      <td>0</td>\n",
              "      <td>2</td>\n",
              "      <td>70.70</td>\n",
              "      <td>151.65</td>\n",
              "    </tr>\n",
              "  </tbody>\n",
              "</table>\n",
              "</div>"
            ],
            "text/plain": [
              "   gender  Partner  Dependents  ...  tenure  MonthlyCharges  TotalCharges\n",
              "0       0        1           0  ...       1           29.85         29.85\n",
              "1       1        0           0  ...      34           56.95       1889.50\n",
              "2       1        0           0  ...       2           53.85        108.15\n",
              "3       1        0           0  ...      45           42.30       1840.75\n",
              "4       0        0           0  ...       2           70.70        151.65\n",
              "\n",
              "[5 rows x 20 columns]"
            ]
          },
          "metadata": {},
          "execution_count": 25
        }
      ]
    },
    {
      "cell_type": "code",
      "metadata": {
        "colab": {
          "base_uri": "https://localhost:8080/"
        },
        "id": "yzUyLurTgaEs",
        "outputId": "b4da83cc-eb1d-4e80-ee93-2eeff4639ac1"
      },
      "source": [
        "df_new.info()"
      ],
      "execution_count": null,
      "outputs": [
        {
          "output_type": "stream",
          "name": "stdout",
          "text": [
            "<class 'pandas.core.frame.DataFrame'>\n",
            "RangeIndex: 7043 entries, 0 to 7042\n",
            "Data columns (total 20 columns):\n",
            " #   Column            Non-Null Count  Dtype  \n",
            "---  ------            --------------  -----  \n",
            " 0   gender            7043 non-null   int64  \n",
            " 1   Partner           7043 non-null   int64  \n",
            " 2   Dependents        7043 non-null   int64  \n",
            " 3   PhoneService      7043 non-null   int64  \n",
            " 4   MultipleLines     7043 non-null   int64  \n",
            " 5   InternetService   7043 non-null   int64  \n",
            " 6   OnlineSecurity    7043 non-null   int64  \n",
            " 7   OnlineBackup      7043 non-null   int64  \n",
            " 8   DeviceProtection  7043 non-null   int64  \n",
            " 9   TechSupport       7043 non-null   int64  \n",
            " 10  StreamingTV       7043 non-null   int64  \n",
            " 11  StreamingMovies   7043 non-null   int64  \n",
            " 12  Contract          7043 non-null   int64  \n",
            " 13  PaperlessBilling  7043 non-null   int64  \n",
            " 14  PaymentMethod     7043 non-null   int64  \n",
            " 15  Churn             7043 non-null   int64  \n",
            " 16  SeniorCitizen     7043 non-null   int64  \n",
            " 17  tenure            7043 non-null   int64  \n",
            " 18  MonthlyCharges    7043 non-null   float64\n",
            " 19  TotalCharges      7043 non-null   float64\n",
            "dtypes: float64(2), int64(18)\n",
            "memory usage: 1.1 MB\n"
          ]
        }
      ]
    },
    {
      "cell_type": "code",
      "metadata": {
        "id": "KP8bbWMLhmDB"
      },
      "source": [
        "x=df_new.drop('Churn',axis=1)\n",
        "y=df_new['Churn']"
      ],
      "execution_count": null,
      "outputs": []
    },
    {
      "cell_type": "code",
      "metadata": {
        "colab": {
          "base_uri": "https://localhost:8080/",
          "height": 437
        },
        "id": "5oWHomnUhmGM",
        "outputId": "dec5adaa-39a1-4280-ba45-525efc3f60d5"
      },
      "source": [
        "x"
      ],
      "execution_count": null,
      "outputs": [
        {
          "output_type": "execute_result",
          "data": {
            "text/html": [
              "<div>\n",
              "<style scoped>\n",
              "    .dataframe tbody tr th:only-of-type {\n",
              "        vertical-align: middle;\n",
              "    }\n",
              "\n",
              "    .dataframe tbody tr th {\n",
              "        vertical-align: top;\n",
              "    }\n",
              "\n",
              "    .dataframe thead th {\n",
              "        text-align: right;\n",
              "    }\n",
              "</style>\n",
              "<table border=\"1\" class=\"dataframe\">\n",
              "  <thead>\n",
              "    <tr style=\"text-align: right;\">\n",
              "      <th></th>\n",
              "      <th>gender</th>\n",
              "      <th>Partner</th>\n",
              "      <th>Dependents</th>\n",
              "      <th>PhoneService</th>\n",
              "      <th>MultipleLines</th>\n",
              "      <th>InternetService</th>\n",
              "      <th>OnlineSecurity</th>\n",
              "      <th>OnlineBackup</th>\n",
              "      <th>DeviceProtection</th>\n",
              "      <th>TechSupport</th>\n",
              "      <th>StreamingTV</th>\n",
              "      <th>StreamingMovies</th>\n",
              "      <th>Contract</th>\n",
              "      <th>PaperlessBilling</th>\n",
              "      <th>PaymentMethod</th>\n",
              "      <th>SeniorCitizen</th>\n",
              "      <th>tenure</th>\n",
              "      <th>MonthlyCharges</th>\n",
              "      <th>TotalCharges</th>\n",
              "    </tr>\n",
              "  </thead>\n",
              "  <tbody>\n",
              "    <tr>\n",
              "      <th>0</th>\n",
              "      <td>0</td>\n",
              "      <td>1</td>\n",
              "      <td>0</td>\n",
              "      <td>0</td>\n",
              "      <td>1</td>\n",
              "      <td>0</td>\n",
              "      <td>0</td>\n",
              "      <td>2</td>\n",
              "      <td>0</td>\n",
              "      <td>0</td>\n",
              "      <td>0</td>\n",
              "      <td>0</td>\n",
              "      <td>0</td>\n",
              "      <td>1</td>\n",
              "      <td>2</td>\n",
              "      <td>0</td>\n",
              "      <td>1</td>\n",
              "      <td>29.85</td>\n",
              "      <td>29.85</td>\n",
              "    </tr>\n",
              "    <tr>\n",
              "      <th>1</th>\n",
              "      <td>1</td>\n",
              "      <td>0</td>\n",
              "      <td>0</td>\n",
              "      <td>1</td>\n",
              "      <td>0</td>\n",
              "      <td>0</td>\n",
              "      <td>2</td>\n",
              "      <td>0</td>\n",
              "      <td>2</td>\n",
              "      <td>0</td>\n",
              "      <td>0</td>\n",
              "      <td>0</td>\n",
              "      <td>1</td>\n",
              "      <td>0</td>\n",
              "      <td>3</td>\n",
              "      <td>0</td>\n",
              "      <td>34</td>\n",
              "      <td>56.95</td>\n",
              "      <td>1889.50</td>\n",
              "    </tr>\n",
              "    <tr>\n",
              "      <th>2</th>\n",
              "      <td>1</td>\n",
              "      <td>0</td>\n",
              "      <td>0</td>\n",
              "      <td>1</td>\n",
              "      <td>0</td>\n",
              "      <td>0</td>\n",
              "      <td>2</td>\n",
              "      <td>2</td>\n",
              "      <td>0</td>\n",
              "      <td>0</td>\n",
              "      <td>0</td>\n",
              "      <td>0</td>\n",
              "      <td>0</td>\n",
              "      <td>1</td>\n",
              "      <td>3</td>\n",
              "      <td>0</td>\n",
              "      <td>2</td>\n",
              "      <td>53.85</td>\n",
              "      <td>108.15</td>\n",
              "    </tr>\n",
              "    <tr>\n",
              "      <th>3</th>\n",
              "      <td>1</td>\n",
              "      <td>0</td>\n",
              "      <td>0</td>\n",
              "      <td>0</td>\n",
              "      <td>1</td>\n",
              "      <td>0</td>\n",
              "      <td>2</td>\n",
              "      <td>0</td>\n",
              "      <td>2</td>\n",
              "      <td>2</td>\n",
              "      <td>0</td>\n",
              "      <td>0</td>\n",
              "      <td>1</td>\n",
              "      <td>0</td>\n",
              "      <td>0</td>\n",
              "      <td>0</td>\n",
              "      <td>45</td>\n",
              "      <td>42.30</td>\n",
              "      <td>1840.75</td>\n",
              "    </tr>\n",
              "    <tr>\n",
              "      <th>4</th>\n",
              "      <td>0</td>\n",
              "      <td>0</td>\n",
              "      <td>0</td>\n",
              "      <td>1</td>\n",
              "      <td>0</td>\n",
              "      <td>1</td>\n",
              "      <td>0</td>\n",
              "      <td>0</td>\n",
              "      <td>0</td>\n",
              "      <td>0</td>\n",
              "      <td>0</td>\n",
              "      <td>0</td>\n",
              "      <td>0</td>\n",
              "      <td>1</td>\n",
              "      <td>2</td>\n",
              "      <td>0</td>\n",
              "      <td>2</td>\n",
              "      <td>70.70</td>\n",
              "      <td>151.65</td>\n",
              "    </tr>\n",
              "    <tr>\n",
              "      <th>...</th>\n",
              "      <td>...</td>\n",
              "      <td>...</td>\n",
              "      <td>...</td>\n",
              "      <td>...</td>\n",
              "      <td>...</td>\n",
              "      <td>...</td>\n",
              "      <td>...</td>\n",
              "      <td>...</td>\n",
              "      <td>...</td>\n",
              "      <td>...</td>\n",
              "      <td>...</td>\n",
              "      <td>...</td>\n",
              "      <td>...</td>\n",
              "      <td>...</td>\n",
              "      <td>...</td>\n",
              "      <td>...</td>\n",
              "      <td>...</td>\n",
              "      <td>...</td>\n",
              "      <td>...</td>\n",
              "    </tr>\n",
              "    <tr>\n",
              "      <th>7038</th>\n",
              "      <td>1</td>\n",
              "      <td>1</td>\n",
              "      <td>1</td>\n",
              "      <td>1</td>\n",
              "      <td>2</td>\n",
              "      <td>0</td>\n",
              "      <td>2</td>\n",
              "      <td>0</td>\n",
              "      <td>2</td>\n",
              "      <td>2</td>\n",
              "      <td>2</td>\n",
              "      <td>2</td>\n",
              "      <td>1</td>\n",
              "      <td>1</td>\n",
              "      <td>3</td>\n",
              "      <td>0</td>\n",
              "      <td>24</td>\n",
              "      <td>84.80</td>\n",
              "      <td>1990.50</td>\n",
              "    </tr>\n",
              "    <tr>\n",
              "      <th>7039</th>\n",
              "      <td>0</td>\n",
              "      <td>1</td>\n",
              "      <td>1</td>\n",
              "      <td>1</td>\n",
              "      <td>2</td>\n",
              "      <td>1</td>\n",
              "      <td>0</td>\n",
              "      <td>2</td>\n",
              "      <td>2</td>\n",
              "      <td>0</td>\n",
              "      <td>2</td>\n",
              "      <td>2</td>\n",
              "      <td>1</td>\n",
              "      <td>1</td>\n",
              "      <td>1</td>\n",
              "      <td>0</td>\n",
              "      <td>72</td>\n",
              "      <td>103.20</td>\n",
              "      <td>7362.90</td>\n",
              "    </tr>\n",
              "    <tr>\n",
              "      <th>7040</th>\n",
              "      <td>0</td>\n",
              "      <td>1</td>\n",
              "      <td>1</td>\n",
              "      <td>0</td>\n",
              "      <td>1</td>\n",
              "      <td>0</td>\n",
              "      <td>2</td>\n",
              "      <td>0</td>\n",
              "      <td>0</td>\n",
              "      <td>0</td>\n",
              "      <td>0</td>\n",
              "      <td>0</td>\n",
              "      <td>0</td>\n",
              "      <td>1</td>\n",
              "      <td>2</td>\n",
              "      <td>0</td>\n",
              "      <td>11</td>\n",
              "      <td>29.60</td>\n",
              "      <td>346.45</td>\n",
              "    </tr>\n",
              "    <tr>\n",
              "      <th>7041</th>\n",
              "      <td>1</td>\n",
              "      <td>1</td>\n",
              "      <td>0</td>\n",
              "      <td>1</td>\n",
              "      <td>2</td>\n",
              "      <td>1</td>\n",
              "      <td>0</td>\n",
              "      <td>0</td>\n",
              "      <td>0</td>\n",
              "      <td>0</td>\n",
              "      <td>0</td>\n",
              "      <td>0</td>\n",
              "      <td>0</td>\n",
              "      <td>1</td>\n",
              "      <td>3</td>\n",
              "      <td>1</td>\n",
              "      <td>4</td>\n",
              "      <td>74.40</td>\n",
              "      <td>306.60</td>\n",
              "    </tr>\n",
              "    <tr>\n",
              "      <th>7042</th>\n",
              "      <td>1</td>\n",
              "      <td>0</td>\n",
              "      <td>0</td>\n",
              "      <td>1</td>\n",
              "      <td>0</td>\n",
              "      <td>1</td>\n",
              "      <td>2</td>\n",
              "      <td>0</td>\n",
              "      <td>2</td>\n",
              "      <td>2</td>\n",
              "      <td>2</td>\n",
              "      <td>2</td>\n",
              "      <td>2</td>\n",
              "      <td>1</td>\n",
              "      <td>0</td>\n",
              "      <td>0</td>\n",
              "      <td>66</td>\n",
              "      <td>105.65</td>\n",
              "      <td>6844.50</td>\n",
              "    </tr>\n",
              "  </tbody>\n",
              "</table>\n",
              "<p>7043 rows × 19 columns</p>\n",
              "</div>"
            ],
            "text/plain": [
              "      gender  Partner  Dependents  ...  tenure  MonthlyCharges  TotalCharges\n",
              "0          0        1           0  ...       1           29.85         29.85\n",
              "1          1        0           0  ...      34           56.95       1889.50\n",
              "2          1        0           0  ...       2           53.85        108.15\n",
              "3          1        0           0  ...      45           42.30       1840.75\n",
              "4          0        0           0  ...       2           70.70        151.65\n",
              "...      ...      ...         ...  ...     ...             ...           ...\n",
              "7038       1        1           1  ...      24           84.80       1990.50\n",
              "7039       0        1           1  ...      72          103.20       7362.90\n",
              "7040       0        1           1  ...      11           29.60        346.45\n",
              "7041       1        1           0  ...       4           74.40        306.60\n",
              "7042       1        0           0  ...      66          105.65       6844.50\n",
              "\n",
              "[7043 rows x 19 columns]"
            ]
          },
          "metadata": {},
          "execution_count": 28
        }
      ]
    },
    {
      "cell_type": "code",
      "metadata": {
        "colab": {
          "base_uri": "https://localhost:8080/"
        },
        "id": "QtdfKrNShmJA",
        "outputId": "40e327ba-9efd-46f4-cc42-6269d84af4b6"
      },
      "source": [
        "y"
      ],
      "execution_count": null,
      "outputs": [
        {
          "output_type": "execute_result",
          "data": {
            "text/plain": [
              "0       0\n",
              "1       0\n",
              "2       1\n",
              "3       0\n",
              "4       1\n",
              "       ..\n",
              "7038    0\n",
              "7039    0\n",
              "7040    0\n",
              "7041    1\n",
              "7042    0\n",
              "Name: Churn, Length: 7043, dtype: int64"
            ]
          },
          "metadata": {},
          "execution_count": 29
        }
      ]
    },
    {
      "cell_type": "code",
      "metadata": {
        "id": "3uj3k24AhmMJ"
      },
      "source": [
        "xtrain,xtest,ytrain,ytest=train_test_split(x,y,test_size=0.3,random_state=1)"
      ],
      "execution_count": null,
      "outputs": []
    },
    {
      "cell_type": "code",
      "metadata": {
        "colab": {
          "base_uri": "https://localhost:8080/"
        },
        "id": "xHRTbCCHhmPA",
        "outputId": "49c4cd4f-332f-4926-d4c4-8e9e36604e0e"
      },
      "source": [
        "from sklearn.linear_model import LogisticRegression\n",
        "lr = LogisticRegression()\n",
        "lr.fit(xtrain, ytrain)\n",
        "ypred = lr.predict(xtest)\n",
        "print(classification_report(ytest,ypred))"
      ],
      "execution_count": null,
      "outputs": [
        {
          "output_type": "stream",
          "name": "stdout",
          "text": [
            "              precision    recall  f1-score   support\n",
            "\n",
            "           0       0.86      0.88      0.87      1585\n",
            "           1       0.62      0.58      0.60       528\n",
            "\n",
            "    accuracy                           0.81      2113\n",
            "   macro avg       0.74      0.73      0.74      2113\n",
            "weighted avg       0.80      0.81      0.81      2113\n",
            "\n"
          ]
        },
        {
          "output_type": "stream",
          "name": "stderr",
          "text": [
            "/usr/local/lib/python3.7/dist-packages/sklearn/linear_model/_logistic.py:940: ConvergenceWarning: lbfgs failed to converge (status=1):\n",
            "STOP: TOTAL NO. of ITERATIONS REACHED LIMIT.\n",
            "\n",
            "Increase the number of iterations (max_iter) or scale the data as shown in:\n",
            "    https://scikit-learn.org/stable/modules/preprocessing.html\n",
            "Please also refer to the documentation for alternative solver options:\n",
            "    https://scikit-learn.org/stable/modules/linear_model.html#logistic-regression\n",
            "  extra_warning_msg=_LOGISTIC_SOLVER_CONVERGENCE_MSG)\n"
          ]
        }
      ]
    },
    {
      "cell_type": "code",
      "metadata": {
        "id": "nYdTgsU3hmeH"
      },
      "source": [
        "from sklearn.neighbors import KNeighborsClassifier\n",
        "from sklearn.svm import SVC\n",
        "from sklearn.ensemble import RandomForestClassifier"
      ],
      "execution_count": null,
      "outputs": []
    },
    {
      "cell_type": "code",
      "metadata": {
        "id": "jIVFFQSkhmhO"
      },
      "source": [
        "lr=LogisticRegression()\n",
        "knn=KNeighborsClassifier()\n",
        "svm=SVC()\n",
        "svml=SVC(kernel=\"linear\")\n",
        "rt=RandomForestClassifier()"
      ],
      "execution_count": null,
      "outputs": []
    },
    {
      "cell_type": "code",
      "metadata": {
        "id": "HHMFUSdNhmkY"
      },
      "source": [
        "model=[]\n",
        "model.append(lr)\n",
        "model.append(knn)\n",
        "model.append(svm)\n",
        "#model.append(svml)\n",
        "model.append(rt)"
      ],
      "execution_count": null,
      "outputs": []
    },
    {
      "cell_type": "code",
      "metadata": {
        "id": "L0Efz-llhmno"
      },
      "source": [
        "def mymodel(model):\n",
        "  model.fit(xtrain,ytrain)\n",
        "  ypred=model.predict(xtest)\n",
        "  print(classification_report(ytest,ypred))"
      ],
      "execution_count": null,
      "outputs": []
    },
    {
      "cell_type": "code",
      "metadata": {
        "colab": {
          "base_uri": "https://localhost:8080/"
        },
        "id": "QyZzde6ghmq5",
        "outputId": "c8af98df-00fc-44ea-ce25-b9478d492946"
      },
      "source": [
        "for i in model:\n",
        "  print(i)\n",
        "  mymodel(i)\n",
        "  print()\n",
        "  print()"
      ],
      "execution_count": null,
      "outputs": [
        {
          "output_type": "stream",
          "name": "stdout",
          "text": [
            "LogisticRegression(C=1.0, class_weight=None, dual=False, fit_intercept=True,\n",
            "                   intercept_scaling=1, l1_ratio=None, max_iter=100,\n",
            "                   multi_class='auto', n_jobs=None, penalty='l2',\n",
            "                   random_state=None, solver='lbfgs', tol=0.0001, verbose=0,\n",
            "                   warm_start=False)\n",
            "              precision    recall  f1-score   support\n",
            "\n",
            "           0       0.86      0.88      0.87      1585\n",
            "           1       0.62      0.58      0.60       528\n",
            "\n",
            "    accuracy                           0.81      2113\n",
            "   macro avg       0.74      0.73      0.74      2113\n",
            "weighted avg       0.80      0.81      0.81      2113\n",
            "\n",
            "\n",
            "\n",
            "KNeighborsClassifier(algorithm='auto', leaf_size=30, metric='minkowski',\n",
            "                     metric_params=None, n_jobs=None, n_neighbors=5, p=2,\n",
            "                     weights='uniform')\n"
          ]
        },
        {
          "output_type": "stream",
          "name": "stderr",
          "text": [
            "/usr/local/lib/python3.7/dist-packages/sklearn/linear_model/_logistic.py:940: ConvergenceWarning: lbfgs failed to converge (status=1):\n",
            "STOP: TOTAL NO. of ITERATIONS REACHED LIMIT.\n",
            "\n",
            "Increase the number of iterations (max_iter) or scale the data as shown in:\n",
            "    https://scikit-learn.org/stable/modules/preprocessing.html\n",
            "Please also refer to the documentation for alternative solver options:\n",
            "    https://scikit-learn.org/stable/modules/linear_model.html#logistic-regression\n",
            "  extra_warning_msg=_LOGISTIC_SOLVER_CONVERGENCE_MSG)\n"
          ]
        },
        {
          "output_type": "stream",
          "name": "stdout",
          "text": [
            "              precision    recall  f1-score   support\n",
            "\n",
            "           0       0.84      0.87      0.85      1585\n",
            "           1       0.56      0.48      0.52       528\n",
            "\n",
            "    accuracy                           0.78      2113\n",
            "   macro avg       0.70      0.68      0.69      2113\n",
            "weighted avg       0.77      0.78      0.77      2113\n",
            "\n",
            "\n",
            "\n",
            "SVC(C=1.0, break_ties=False, cache_size=200, class_weight=None, coef0=0.0,\n",
            "    decision_function_shape='ovr', degree=3, gamma='scale', kernel='rbf',\n",
            "    max_iter=-1, probability=False, random_state=None, shrinking=True,\n",
            "    tol=0.001, verbose=False)\n"
          ]
        },
        {
          "output_type": "stream",
          "name": "stderr",
          "text": [
            "/usr/local/lib/python3.7/dist-packages/sklearn/metrics/_classification.py:1272: UndefinedMetricWarning: Precision and F-score are ill-defined and being set to 0.0 in labels with no predicted samples. Use `zero_division` parameter to control this behavior.\n",
            "  _warn_prf(average, modifier, msg_start, len(result))\n"
          ]
        },
        {
          "output_type": "stream",
          "name": "stdout",
          "text": [
            "              precision    recall  f1-score   support\n",
            "\n",
            "           0       0.75      1.00      0.86      1585\n",
            "           1       0.00      0.00      0.00       528\n",
            "\n",
            "    accuracy                           0.75      2113\n",
            "   macro avg       0.38      0.50      0.43      2113\n",
            "weighted avg       0.56      0.75      0.64      2113\n",
            "\n",
            "\n",
            "\n",
            "RandomForestClassifier(bootstrap=True, ccp_alpha=0.0, class_weight=None,\n",
            "                       criterion='gini', max_depth=None, max_features='auto',\n",
            "                       max_leaf_nodes=None, max_samples=None,\n",
            "                       min_impurity_decrease=0.0, min_impurity_split=None,\n",
            "                       min_samples_leaf=1, min_samples_split=2,\n",
            "                       min_weight_fraction_leaf=0.0, n_estimators=100,\n",
            "                       n_jobs=None, oob_score=False, random_state=None,\n",
            "                       verbose=0, warm_start=False)\n",
            "              precision    recall  f1-score   support\n",
            "\n",
            "           0       0.85      0.89      0.87      1585\n",
            "           1       0.62      0.53      0.57       528\n",
            "\n",
            "    accuracy                           0.80      2113\n",
            "   macro avg       0.73      0.71      0.72      2113\n",
            "weighted avg       0.79      0.80      0.80      2113\n",
            "\n",
            "\n",
            "\n"
          ]
        }
      ]
    },
    {
      "cell_type": "code",
      "metadata": {
        "colab": {
          "base_uri": "https://localhost:8080/"
        },
        "id": "XC0bAhtuhmt6",
        "outputId": "5ff2d4da-196c-4a59-e2ec-651638119039"
      },
      "source": [
        "#here we got best score on Logistic regression and random forest classifier 81% \n",
        "from imblearn.over_sampling import RandomOverSampler\n",
        "ros=RandomOverSampler(random_state=1)\n",
        "xsample,ysample=ros.fit_resample(xtrain,ytrain)"
      ],
      "execution_count": null,
      "outputs": [
        {
          "output_type": "stream",
          "name": "stderr",
          "text": [
            "/usr/local/lib/python3.7/dist-packages/sklearn/utils/deprecation.py:87: FutureWarning: Function safe_indexing is deprecated; safe_indexing is deprecated in version 0.22 and will be removed in version 0.24.\n",
            "  warnings.warn(msg, category=FutureWarning)\n"
          ]
        }
      ]
    },
    {
      "cell_type": "code",
      "metadata": {
        "colab": {
          "base_uri": "https://localhost:8080/"
        },
        "id": "5B9wXTPEhmxU",
        "outputId": "257db66e-75c3-41c4-84eb-aff077f25b3b"
      },
      "source": [
        "ysample.shape"
      ],
      "execution_count": null,
      "outputs": [
        {
          "output_type": "execute_result",
          "data": {
            "text/plain": [
              "(7178,)"
            ]
          },
          "metadata": {},
          "execution_count": 41
        }
      ]
    },
    {
      "cell_type": "code",
      "metadata": {
        "id": "9nNSqMeYhm0d",
        "colab": {
          "base_uri": "https://localhost:8080/"
        },
        "outputId": "26673635-11a4-4fc5-8ebb-6507d807d307"
      },
      "source": [
        "#step :- initalise the model\n",
        "ann=tf.keras.Sequential()\n",
        "#step :- add the hidden layer(optional)\n",
        "ann.add(tf.keras.layers.Dense(units=30,activation='relu')) # unit- is how many hidden box will be created\n",
        "ann.add(tf.keras.layers.Dense(units=20,activation='relu'))\n",
        "                                                     # relu - is rectified linear unit\n",
        "\n",
        " #step 2 :- add the output layer\n",
        "ann.add(tf.keras.layers.Dense(units=1,activation='sigmoid'))\n",
        " #step 3:- estabilish connection between all the layer \n",
        "ann.compile(optimizer='adam',loss='binary_crossentropy',metrics=['accuracy'])\n",
        "# adam is nothing but advance of Gradient Decent\n",
        "#step 4:- train the model     \n",
        "ann.fit(xtrain,ytrain,batch_size=30,epochs=100)                                               "
      ],
      "execution_count": null,
      "outputs": [
        {
          "output_type": "stream",
          "name": "stdout",
          "text": [
            "Epoch 1/100\n",
            "165/165 [==============================] - 1s 2ms/step - loss: 14.7366 - accuracy: 0.6598\n",
            "Epoch 2/100\n",
            "165/165 [==============================] - 0s 2ms/step - loss: 0.6497 - accuracy: 0.7458\n",
            "Epoch 3/100\n",
            "165/165 [==============================] - 0s 2ms/step - loss: 0.5746 - accuracy: 0.7590\n",
            "Epoch 4/100\n",
            "165/165 [==============================] - 0s 2ms/step - loss: 0.9370 - accuracy: 0.7353\n",
            "Epoch 5/100\n",
            "165/165 [==============================] - 0s 2ms/step - loss: 0.6908 - accuracy: 0.7471\n",
            "Epoch 6/100\n",
            "165/165 [==============================] - 0s 2ms/step - loss: 0.6014 - accuracy: 0.7564\n",
            "Epoch 7/100\n",
            "165/165 [==============================] - 0s 2ms/step - loss: 0.5984 - accuracy: 0.7627\n",
            "Epoch 8/100\n",
            "165/165 [==============================] - 0s 2ms/step - loss: 0.7224 - accuracy: 0.7535\n",
            "Epoch 9/100\n",
            "165/165 [==============================] - 0s 2ms/step - loss: 0.5045 - accuracy: 0.7753\n",
            "Epoch 10/100\n",
            "165/165 [==============================] - 0s 2ms/step - loss: 0.5661 - accuracy: 0.7716\n",
            "Epoch 11/100\n",
            "165/165 [==============================] - 0s 2ms/step - loss: 0.5612 - accuracy: 0.7692\n",
            "Epoch 12/100\n",
            "165/165 [==============================] - 0s 2ms/step - loss: 0.6114 - accuracy: 0.7641\n",
            "Epoch 13/100\n",
            "165/165 [==============================] - 0s 2ms/step - loss: 0.7464 - accuracy: 0.7584\n",
            "Epoch 14/100\n",
            "165/165 [==============================] - 0s 2ms/step - loss: 0.6271 - accuracy: 0.7619\n",
            "Epoch 15/100\n",
            "165/165 [==============================] - 0s 2ms/step - loss: 0.5120 - accuracy: 0.7730\n",
            "Epoch 16/100\n",
            "165/165 [==============================] - 0s 2ms/step - loss: 0.5391 - accuracy: 0.7726\n",
            "Epoch 17/100\n",
            "165/165 [==============================] - 0s 2ms/step - loss: 0.6281 - accuracy: 0.7586\n",
            "Epoch 18/100\n",
            "165/165 [==============================] - 0s 2ms/step - loss: 0.6164 - accuracy: 0.7643\n",
            "Epoch 19/100\n",
            "165/165 [==============================] - 0s 2ms/step - loss: 0.5688 - accuracy: 0.7720\n",
            "Epoch 20/100\n",
            "165/165 [==============================] - 0s 2ms/step - loss: 0.7576 - accuracy: 0.7667\n",
            "Epoch 21/100\n",
            "165/165 [==============================] - 0s 2ms/step - loss: 0.6834 - accuracy: 0.7546\n",
            "Epoch 22/100\n",
            "165/165 [==============================] - 0s 2ms/step - loss: 0.4749 - accuracy: 0.7842\n",
            "Epoch 23/100\n",
            "165/165 [==============================] - 0s 2ms/step - loss: 0.5474 - accuracy: 0.7742\n",
            "Epoch 24/100\n",
            "165/165 [==============================] - 0s 2ms/step - loss: 0.6051 - accuracy: 0.7625\n",
            "Epoch 25/100\n",
            "165/165 [==============================] - 0s 2ms/step - loss: 0.5502 - accuracy: 0.7738\n",
            "Epoch 26/100\n",
            "165/165 [==============================] - 0s 2ms/step - loss: 0.5267 - accuracy: 0.7682\n",
            "Epoch 27/100\n",
            "165/165 [==============================] - 0s 2ms/step - loss: 0.5708 - accuracy: 0.7710\n",
            "Epoch 28/100\n",
            "165/165 [==============================] - 0s 2ms/step - loss: 0.5554 - accuracy: 0.7763\n",
            "Epoch 29/100\n",
            "165/165 [==============================] - 0s 2ms/step - loss: 0.6914 - accuracy: 0.7606\n",
            "Epoch 30/100\n",
            "165/165 [==============================] - 0s 2ms/step - loss: 0.5789 - accuracy: 0.7684\n",
            "Epoch 31/100\n",
            "165/165 [==============================] - 0s 2ms/step - loss: 0.5034 - accuracy: 0.7755\n",
            "Epoch 32/100\n",
            "165/165 [==============================] - 0s 2ms/step - loss: 0.5583 - accuracy: 0.7694\n",
            "Epoch 33/100\n",
            "165/165 [==============================] - 0s 2ms/step - loss: 0.4896 - accuracy: 0.7791\n",
            "Epoch 34/100\n",
            "165/165 [==============================] - 0s 2ms/step - loss: 0.5855 - accuracy: 0.7682\n",
            "Epoch 35/100\n",
            "165/165 [==============================] - 0s 2ms/step - loss: 0.5651 - accuracy: 0.7736\n",
            "Epoch 36/100\n",
            "165/165 [==============================] - 0s 2ms/step - loss: 0.4832 - accuracy: 0.7822\n",
            "Epoch 37/100\n",
            "165/165 [==============================] - 0s 2ms/step - loss: 0.5884 - accuracy: 0.7714\n",
            "Epoch 38/100\n",
            "165/165 [==============================] - 0s 2ms/step - loss: 0.5077 - accuracy: 0.7779\n",
            "Epoch 39/100\n",
            "165/165 [==============================] - 0s 2ms/step - loss: 0.5385 - accuracy: 0.7742\n",
            "Epoch 40/100\n",
            "165/165 [==============================] - 0s 2ms/step - loss: 0.5527 - accuracy: 0.7734\n",
            "Epoch 41/100\n",
            "165/165 [==============================] - 0s 2ms/step - loss: 0.4910 - accuracy: 0.7815\n",
            "Epoch 42/100\n",
            "165/165 [==============================] - 0s 2ms/step - loss: 0.5465 - accuracy: 0.7748\n",
            "Epoch 43/100\n",
            "165/165 [==============================] - 0s 2ms/step - loss: 0.6098 - accuracy: 0.7671\n",
            "Epoch 44/100\n",
            "165/165 [==============================] - 0s 2ms/step - loss: 0.6773 - accuracy: 0.7609\n",
            "Epoch 45/100\n",
            "165/165 [==============================] - 0s 2ms/step - loss: 0.5157 - accuracy: 0.7817\n",
            "Epoch 46/100\n",
            "165/165 [==============================] - 0s 2ms/step - loss: 0.5760 - accuracy: 0.7688\n",
            "Epoch 47/100\n",
            "165/165 [==============================] - 0s 2ms/step - loss: 0.5273 - accuracy: 0.7771\n",
            "Epoch 48/100\n",
            "165/165 [==============================] - 0s 2ms/step - loss: 0.5348 - accuracy: 0.7728\n",
            "Epoch 49/100\n",
            "165/165 [==============================] - 0s 2ms/step - loss: 0.5016 - accuracy: 0.7817\n",
            "Epoch 50/100\n",
            "165/165 [==============================] - 0s 2ms/step - loss: 0.5293 - accuracy: 0.7787\n",
            "Epoch 51/100\n",
            "165/165 [==============================] - 0s 2ms/step - loss: 0.5238 - accuracy: 0.7761\n",
            "Epoch 52/100\n",
            "165/165 [==============================] - 0s 2ms/step - loss: 0.4936 - accuracy: 0.7854\n",
            "Epoch 53/100\n",
            "165/165 [==============================] - 0s 2ms/step - loss: 0.5375 - accuracy: 0.7680\n",
            "Epoch 54/100\n",
            "165/165 [==============================] - 0s 2ms/step - loss: 0.5539 - accuracy: 0.7732\n",
            "Epoch 55/100\n",
            "165/165 [==============================] - 0s 2ms/step - loss: 0.5445 - accuracy: 0.7771\n",
            "Epoch 56/100\n",
            "165/165 [==============================] - 0s 2ms/step - loss: 0.5095 - accuracy: 0.7724\n",
            "Epoch 57/100\n",
            "165/165 [==============================] - 0s 2ms/step - loss: 0.5504 - accuracy: 0.7724\n",
            "Epoch 58/100\n",
            "165/165 [==============================] - 0s 2ms/step - loss: 0.5502 - accuracy: 0.7649\n",
            "Epoch 59/100\n",
            "165/165 [==============================] - 0s 2ms/step - loss: 0.5514 - accuracy: 0.7732\n",
            "Epoch 60/100\n",
            "165/165 [==============================] - 0s 2ms/step - loss: 0.4825 - accuracy: 0.7870\n",
            "Epoch 61/100\n",
            "165/165 [==============================] - 0s 2ms/step - loss: 0.4887 - accuracy: 0.7838\n",
            "Epoch 62/100\n",
            "165/165 [==============================] - 0s 2ms/step - loss: 0.4556 - accuracy: 0.7921\n",
            "Epoch 63/100\n",
            "165/165 [==============================] - 0s 2ms/step - loss: 0.5099 - accuracy: 0.7826\n",
            "Epoch 64/100\n",
            "165/165 [==============================] - 0s 2ms/step - loss: 0.4726 - accuracy: 0.7832\n",
            "Epoch 65/100\n",
            "165/165 [==============================] - 0s 2ms/step - loss: 0.5113 - accuracy: 0.7730\n",
            "Epoch 66/100\n",
            "165/165 [==============================] - 0s 2ms/step - loss: 0.5299 - accuracy: 0.7783\n",
            "Epoch 67/100\n",
            "165/165 [==============================] - 0s 2ms/step - loss: 0.4865 - accuracy: 0.7779\n",
            "Epoch 68/100\n",
            "165/165 [==============================] - 0s 2ms/step - loss: 0.5041 - accuracy: 0.7799\n",
            "Epoch 69/100\n",
            "165/165 [==============================] - 0s 2ms/step - loss: 0.5005 - accuracy: 0.7826\n",
            "Epoch 70/100\n",
            "165/165 [==============================] - 0s 2ms/step - loss: 0.4860 - accuracy: 0.7840\n",
            "Epoch 71/100\n",
            "165/165 [==============================] - 0s 2ms/step - loss: 0.4964 - accuracy: 0.7838\n",
            "Epoch 72/100\n",
            "165/165 [==============================] - 0s 2ms/step - loss: 0.4744 - accuracy: 0.7803\n",
            "Epoch 73/100\n",
            "165/165 [==============================] - 0s 2ms/step - loss: 0.4656 - accuracy: 0.7886\n",
            "Epoch 74/100\n",
            "165/165 [==============================] - 0s 2ms/step - loss: 0.4760 - accuracy: 0.7854\n",
            "Epoch 75/100\n",
            "165/165 [==============================] - 0s 2ms/step - loss: 0.4788 - accuracy: 0.7815\n",
            "Epoch 76/100\n",
            "165/165 [==============================] - 0s 2ms/step - loss: 0.5105 - accuracy: 0.7777\n",
            "Epoch 77/100\n",
            "165/165 [==============================] - 0s 2ms/step - loss: 0.4586 - accuracy: 0.7870\n",
            "Epoch 78/100\n",
            "165/165 [==============================] - 0s 2ms/step - loss: 0.5079 - accuracy: 0.7809\n",
            "Epoch 79/100\n",
            "165/165 [==============================] - 0s 2ms/step - loss: 0.4942 - accuracy: 0.7815\n",
            "Epoch 80/100\n",
            "165/165 [==============================] - 0s 2ms/step - loss: 0.4637 - accuracy: 0.7799\n",
            "Epoch 81/100\n",
            "165/165 [==============================] - 0s 2ms/step - loss: 0.5100 - accuracy: 0.7779\n",
            "Epoch 82/100\n",
            "165/165 [==============================] - 0s 2ms/step - loss: 0.4724 - accuracy: 0.7801\n",
            "Epoch 83/100\n",
            "165/165 [==============================] - 0s 2ms/step - loss: 0.4644 - accuracy: 0.7880\n",
            "Epoch 84/100\n",
            "165/165 [==============================] - 0s 2ms/step - loss: 0.4586 - accuracy: 0.7911\n",
            "Epoch 85/100\n",
            "165/165 [==============================] - 0s 2ms/step - loss: 0.4959 - accuracy: 0.7785\n",
            "Epoch 86/100\n",
            "165/165 [==============================] - 0s 2ms/step - loss: 0.4768 - accuracy: 0.7771\n",
            "Epoch 87/100\n",
            "165/165 [==============================] - 0s 2ms/step - loss: 0.4539 - accuracy: 0.7888\n",
            "Epoch 88/100\n",
            "165/165 [==============================] - 0s 2ms/step - loss: 0.4784 - accuracy: 0.7832\n",
            "Epoch 89/100\n",
            "165/165 [==============================] - 0s 2ms/step - loss: 0.4894 - accuracy: 0.7834\n",
            "Epoch 90/100\n",
            "165/165 [==============================] - 0s 2ms/step - loss: 0.4498 - accuracy: 0.7925\n",
            "Epoch 91/100\n",
            "165/165 [==============================] - 0s 2ms/step - loss: 0.4552 - accuracy: 0.7846\n",
            "Epoch 92/100\n",
            "165/165 [==============================] - 0s 2ms/step - loss: 0.4656 - accuracy: 0.7856\n",
            "Epoch 93/100\n",
            "165/165 [==============================] - 0s 2ms/step - loss: 0.4557 - accuracy: 0.7850\n",
            "Epoch 94/100\n",
            "165/165 [==============================] - 0s 2ms/step - loss: 0.4484 - accuracy: 0.7895\n",
            "Epoch 95/100\n",
            "165/165 [==============================] - 0s 2ms/step - loss: 0.4553 - accuracy: 0.7872\n",
            "Epoch 96/100\n",
            "165/165 [==============================] - 0s 2ms/step - loss: 0.4591 - accuracy: 0.7882\n",
            "Epoch 97/100\n",
            "165/165 [==============================] - 0s 2ms/step - loss: 0.4541 - accuracy: 0.7897\n",
            "Epoch 98/100\n",
            "165/165 [==============================] - 0s 2ms/step - loss: 0.4556 - accuracy: 0.7866\n",
            "Epoch 99/100\n",
            "165/165 [==============================] - 0s 2ms/step - loss: 0.4449 - accuracy: 0.7907\n",
            "Epoch 100/100\n",
            "165/165 [==============================] - 0s 2ms/step - loss: 0.4406 - accuracy: 0.7925\n"
          ]
        },
        {
          "output_type": "execute_result",
          "data": {
            "text/plain": [
              "<keras.callbacks.History at 0x7f4ac6ba7450>"
            ]
          },
          "metadata": {},
          "execution_count": 52
        }
      ]
    },
    {
      "cell_type": "code",
      "metadata": {
        "id": "fhRbDXUshm3p",
        "colab": {
          "base_uri": "https://localhost:8080/"
        },
        "outputId": "536ab89e-e5b0-47eb-939b-4e0f2da53657"
      },
      "source": [
        "from sklearn.metrics import classification_report\n",
        "\n",
        "ypred=ann.predict(xtest)\n",
        "ypred=ypred>0.5\n",
        "print(classification_report(ytest,ypred))"
      ],
      "execution_count": null,
      "outputs": [
        {
          "output_type": "stream",
          "name": "stdout",
          "text": [
            "              precision    recall  f1-score   support\n",
            "\n",
            "           0       0.75      1.00      0.86      1585\n",
            "           1       0.00      0.00      0.00       528\n",
            "\n",
            "    accuracy                           0.75      2113\n",
            "   macro avg       0.38      0.50      0.43      2113\n",
            "weighted avg       0.56      0.75      0.64      2113\n",
            "\n"
          ]
        },
        {
          "output_type": "stream",
          "name": "stderr",
          "text": [
            "/usr/local/lib/python3.7/dist-packages/sklearn/metrics/_classification.py:1272: UndefinedMetricWarning: Precision and F-score are ill-defined and being set to 0.0 in labels with no predicted samples. Use `zero_division` parameter to control this behavior.\n",
            "  _warn_prf(average, modifier, msg_start, len(result))\n"
          ]
        }
      ]
    },
    {
      "cell_type": "code",
      "metadata": {
        "id": "SvqDugt7hm6u",
        "colab": {
          "base_uri": "https://localhost:8080/"
        },
        "outputId": "226ebbb8-078d-4fd4-90f6-e5e3fb01a512"
      },
      "source": [
        "\n",
        "#step :- initalise the model\n",
        "ann=tf.keras.Sequential()\n",
        "#step :- add the hidden layer(optional)\n",
        "ann.add(tf.keras.layers.Dense(units=20,activation='relu')) # unit- is how many hidden box will be created\n",
        "                                                         # relu - is rectified linear unit\n",
        "ann.add(tf.keras.layers.Dense(units=15,activation='relu'))\n",
        "\n",
        " #step 2 :- add the output layer\n",
        "ann.add(tf.keras.layers.Dense(units=1,activation='sigmoid'))\n",
        " #step 3:- estabilish connection between all the layer \n",
        "ann.compile(optimizer='adam',loss='binary_crossentropy')\n",
        "# adam is nothing but advance of Gradient Decent\n",
        "#step 4:- train the model     \n",
        "ann.fit(xtrain,ytrain,validation_data=(xtest,ytest),epochs=100) "
      ],
      "execution_count": null,
      "outputs": [
        {
          "output_type": "stream",
          "name": "stdout",
          "text": [
            "Epoch 1/100\n",
            "155/155 [==============================] - 1s 3ms/step - loss: 49.8997 - val_loss: 0.5628\n",
            "Epoch 2/100\n",
            "155/155 [==============================] - 0s 2ms/step - loss: 0.9713 - val_loss: 1.1400\n",
            "Epoch 3/100\n",
            "155/155 [==============================] - 0s 2ms/step - loss: 1.1366 - val_loss: 0.5587\n",
            "Epoch 4/100\n",
            "155/155 [==============================] - 0s 3ms/step - loss: 0.6246 - val_loss: 0.4366\n",
            "Epoch 5/100\n",
            "155/155 [==============================] - 0s 2ms/step - loss: 0.8141 - val_loss: 1.1332\n",
            "Epoch 6/100\n",
            "155/155 [==============================] - 0s 2ms/step - loss: 0.9193 - val_loss: 0.8837\n",
            "Epoch 7/100\n",
            "155/155 [==============================] - 0s 2ms/step - loss: 0.7901 - val_loss: 0.5252\n",
            "Epoch 8/100\n",
            "155/155 [==============================] - 0s 3ms/step - loss: 0.6162 - val_loss: 0.4663\n",
            "Epoch 9/100\n",
            "155/155 [==============================] - 0s 2ms/step - loss: 0.6310 - val_loss: 0.4927\n",
            "Epoch 10/100\n",
            "155/155 [==============================] - 0s 2ms/step - loss: 0.7044 - val_loss: 0.4528\n",
            "Epoch 11/100\n",
            "155/155 [==============================] - 0s 2ms/step - loss: 0.5382 - val_loss: 0.4610\n",
            "Epoch 12/100\n",
            "155/155 [==============================] - 0s 2ms/step - loss: 0.6839 - val_loss: 0.5782\n",
            "Epoch 13/100\n",
            "155/155 [==============================] - 0s 2ms/step - loss: 0.6533 - val_loss: 0.4577\n",
            "Epoch 14/100\n",
            "155/155 [==============================] - 0s 2ms/step - loss: 0.6896 - val_loss: 0.5047\n",
            "Epoch 15/100\n",
            "155/155 [==============================] - 0s 2ms/step - loss: 0.9349 - val_loss: 0.5890\n",
            "Epoch 16/100\n",
            "155/155 [==============================] - 0s 2ms/step - loss: 0.6077 - val_loss: 0.5075\n",
            "Epoch 17/100\n",
            "155/155 [==============================] - 0s 3ms/step - loss: 0.5455 - val_loss: 3.0146\n",
            "Epoch 18/100\n",
            "155/155 [==============================] - 0s 2ms/step - loss: 0.6917 - val_loss: 0.4038\n",
            "Epoch 19/100\n",
            "155/155 [==============================] - 0s 2ms/step - loss: 0.6730 - val_loss: 0.4574\n",
            "Epoch 20/100\n",
            "155/155 [==============================] - 0s 3ms/step - loss: 0.5037 - val_loss: 0.5307\n",
            "Epoch 21/100\n",
            "155/155 [==============================] - 0s 2ms/step - loss: 0.6970 - val_loss: 0.4853\n",
            "Epoch 22/100\n",
            "155/155 [==============================] - 0s 3ms/step - loss: 0.6110 - val_loss: 0.7740\n",
            "Epoch 23/100\n",
            "155/155 [==============================] - 0s 2ms/step - loss: 0.7587 - val_loss: 1.4234\n",
            "Epoch 24/100\n",
            "155/155 [==============================] - 0s 2ms/step - loss: 0.7057 - val_loss: 2.3542\n",
            "Epoch 25/100\n",
            "155/155 [==============================] - 0s 2ms/step - loss: 0.9972 - val_loss: 1.1835\n",
            "Epoch 26/100\n",
            "155/155 [==============================] - 0s 2ms/step - loss: 0.6921 - val_loss: 0.8250\n",
            "Epoch 27/100\n",
            "155/155 [==============================] - 0s 3ms/step - loss: 0.6312 - val_loss: 0.7433\n",
            "Epoch 28/100\n",
            "155/155 [==============================] - 0s 2ms/step - loss: 0.6319 - val_loss: 0.8305\n",
            "Epoch 29/100\n",
            "155/155 [==============================] - 0s 2ms/step - loss: 0.7377 - val_loss: 0.7135\n",
            "Epoch 30/100\n",
            "155/155 [==============================] - 0s 2ms/step - loss: 0.6594 - val_loss: 1.8544\n",
            "Epoch 31/100\n",
            "155/155 [==============================] - 0s 2ms/step - loss: 0.5687 - val_loss: 1.1549\n",
            "Epoch 32/100\n",
            "155/155 [==============================] - 0s 3ms/step - loss: 0.6478 - val_loss: 0.5768\n",
            "Epoch 33/100\n",
            "155/155 [==============================] - 0s 2ms/step - loss: 0.6410 - val_loss: 0.4672\n",
            "Epoch 34/100\n",
            "155/155 [==============================] - 0s 3ms/step - loss: 0.6390 - val_loss: 0.4966\n",
            "Epoch 35/100\n",
            "155/155 [==============================] - 0s 2ms/step - loss: 0.5727 - val_loss: 3.3825\n",
            "Epoch 36/100\n",
            "155/155 [==============================] - 0s 3ms/step - loss: 0.9836 - val_loss: 0.5932\n",
            "Epoch 37/100\n",
            "155/155 [==============================] - 0s 2ms/step - loss: 0.6225 - val_loss: 0.8363\n",
            "Epoch 38/100\n",
            "155/155 [==============================] - 0s 3ms/step - loss: 0.5734 - val_loss: 0.5801\n",
            "Epoch 39/100\n",
            "155/155 [==============================] - 0s 2ms/step - loss: 0.5678 - val_loss: 0.9755\n",
            "Epoch 40/100\n",
            "155/155 [==============================] - 0s 2ms/step - loss: 0.6534 - val_loss: 0.4195\n",
            "Epoch 41/100\n",
            "155/155 [==============================] - 0s 2ms/step - loss: 0.6114 - val_loss: 0.4143\n",
            "Epoch 42/100\n",
            "155/155 [==============================] - 0s 2ms/step - loss: 0.6511 - val_loss: 0.8868\n",
            "Epoch 43/100\n",
            "155/155 [==============================] - 0s 2ms/step - loss: 0.5623 - val_loss: 1.2657\n",
            "Epoch 44/100\n",
            "155/155 [==============================] - 0s 2ms/step - loss: 0.7331 - val_loss: 0.4677\n",
            "Epoch 45/100\n",
            "155/155 [==============================] - 0s 2ms/step - loss: 0.5591 - val_loss: 0.8194\n",
            "Epoch 46/100\n",
            "155/155 [==============================] - 0s 2ms/step - loss: 0.6024 - val_loss: 0.8668\n",
            "Epoch 47/100\n",
            "155/155 [==============================] - 0s 2ms/step - loss: 0.5432 - val_loss: 0.7954\n",
            "Epoch 48/100\n",
            "155/155 [==============================] - 0s 2ms/step - loss: 0.7678 - val_loss: 1.2423\n",
            "Epoch 49/100\n",
            "155/155 [==============================] - 0s 3ms/step - loss: 0.6130 - val_loss: 0.5529\n",
            "Epoch 50/100\n",
            "155/155 [==============================] - 0s 3ms/step - loss: 0.6233 - val_loss: 0.4045\n",
            "Epoch 51/100\n",
            "155/155 [==============================] - 0s 2ms/step - loss: 0.5936 - val_loss: 0.4272\n",
            "Epoch 52/100\n",
            "155/155 [==============================] - 0s 2ms/step - loss: 0.5280 - val_loss: 0.5582\n",
            "Epoch 53/100\n",
            "155/155 [==============================] - 0s 2ms/step - loss: 0.5985 - val_loss: 0.8443\n",
            "Epoch 54/100\n",
            "155/155 [==============================] - 0s 2ms/step - loss: 0.5690 - val_loss: 0.6670\n",
            "Epoch 55/100\n",
            "155/155 [==============================] - 0s 2ms/step - loss: 0.5353 - val_loss: 0.5985\n",
            "Epoch 56/100\n",
            "155/155 [==============================] - 0s 2ms/step - loss: 0.6464 - val_loss: 2.0119\n",
            "Epoch 57/100\n",
            "155/155 [==============================] - 0s 2ms/step - loss: 0.6436 - val_loss: 1.3283\n",
            "Epoch 58/100\n",
            "155/155 [==============================] - 0s 2ms/step - loss: 0.5910 - val_loss: 2.5132\n",
            "Epoch 59/100\n",
            "155/155 [==============================] - 0s 2ms/step - loss: 0.7041 - val_loss: 1.9573\n",
            "Epoch 60/100\n",
            "155/155 [==============================] - 0s 2ms/step - loss: 0.5684 - val_loss: 1.0205\n",
            "Epoch 61/100\n",
            "155/155 [==============================] - 0s 2ms/step - loss: 0.6948 - val_loss: 0.5904\n",
            "Epoch 62/100\n",
            "155/155 [==============================] - 0s 2ms/step - loss: 0.5013 - val_loss: 0.4255\n",
            "Epoch 63/100\n",
            "155/155 [==============================] - 0s 2ms/step - loss: 0.5634 - val_loss: 0.5485\n",
            "Epoch 64/100\n",
            "155/155 [==============================] - 0s 3ms/step - loss: 0.5571 - val_loss: 0.5701\n",
            "Epoch 65/100\n",
            "155/155 [==============================] - 0s 2ms/step - loss: 0.5347 - val_loss: 0.5296\n",
            "Epoch 66/100\n",
            "155/155 [==============================] - 0s 2ms/step - loss: 0.5339 - val_loss: 0.8045\n",
            "Epoch 67/100\n",
            "155/155 [==============================] - 0s 3ms/step - loss: 0.5103 - val_loss: 0.7036\n",
            "Epoch 68/100\n",
            "155/155 [==============================] - 0s 2ms/step - loss: 0.6134 - val_loss: 0.4007\n",
            "Epoch 69/100\n",
            "155/155 [==============================] - 0s 3ms/step - loss: 0.6047 - val_loss: 0.4495\n",
            "Epoch 70/100\n",
            "155/155 [==============================] - 0s 2ms/step - loss: 0.5083 - val_loss: 0.4138\n",
            "Epoch 71/100\n",
            "155/155 [==============================] - 0s 2ms/step - loss: 0.5378 - val_loss: 0.8097\n",
            "Epoch 72/100\n",
            "155/155 [==============================] - 0s 2ms/step - loss: 0.5443 - val_loss: 0.4025\n",
            "Epoch 73/100\n",
            "155/155 [==============================] - 0s 2ms/step - loss: 0.4975 - val_loss: 0.4355\n",
            "Epoch 74/100\n",
            "155/155 [==============================] - 0s 2ms/step - loss: 0.5551 - val_loss: 0.7142\n",
            "Epoch 75/100\n",
            "155/155 [==============================] - 0s 2ms/step - loss: 0.5623 - val_loss: 0.6886\n",
            "Epoch 76/100\n",
            "155/155 [==============================] - 0s 2ms/step - loss: 0.6344 - val_loss: 0.4104\n",
            "Epoch 77/100\n",
            "155/155 [==============================] - 0s 3ms/step - loss: 0.4957 - val_loss: 0.7138\n",
            "Epoch 78/100\n",
            "155/155 [==============================] - 0s 2ms/step - loss: 0.5109 - val_loss: 0.4230\n",
            "Epoch 79/100\n",
            "155/155 [==============================] - 0s 2ms/step - loss: 0.5495 - val_loss: 0.4905\n",
            "Epoch 80/100\n",
            "155/155 [==============================] - 0s 2ms/step - loss: 0.5216 - val_loss: 0.5446\n",
            "Epoch 81/100\n",
            "155/155 [==============================] - 0s 2ms/step - loss: 0.6171 - val_loss: 0.4063\n",
            "Epoch 82/100\n",
            "155/155 [==============================] - 0s 3ms/step - loss: 0.4766 - val_loss: 0.4027\n",
            "Epoch 83/100\n",
            "155/155 [==============================] - 0s 3ms/step - loss: 0.4726 - val_loss: 0.4063\n",
            "Epoch 84/100\n",
            "155/155 [==============================] - 0s 2ms/step - loss: 0.5005 - val_loss: 0.4023\n",
            "Epoch 85/100\n",
            "155/155 [==============================] - 0s 2ms/step - loss: 0.5039 - val_loss: 0.8900\n",
            "Epoch 86/100\n",
            "155/155 [==============================] - 0s 2ms/step - loss: 0.5223 - val_loss: 0.8366\n",
            "Epoch 87/100\n",
            "155/155 [==============================] - 0s 2ms/step - loss: 0.5009 - val_loss: 0.4268\n",
            "Epoch 88/100\n",
            "155/155 [==============================] - 0s 2ms/step - loss: 0.5395 - val_loss: 0.4436\n",
            "Epoch 89/100\n",
            "155/155 [==============================] - 0s 2ms/step - loss: 0.5019 - val_loss: 0.4017\n",
            "Epoch 90/100\n",
            "155/155 [==============================] - 0s 2ms/step - loss: 0.5328 - val_loss: 0.4174\n",
            "Epoch 91/100\n",
            "155/155 [==============================] - 0s 2ms/step - loss: 0.5802 - val_loss: 0.5252\n",
            "Epoch 92/100\n",
            "155/155 [==============================] - 0s 2ms/step - loss: 0.5133 - val_loss: 0.4089\n",
            "Epoch 93/100\n",
            "155/155 [==============================] - 0s 2ms/step - loss: 0.5669 - val_loss: 0.8520\n",
            "Epoch 94/100\n",
            "155/155 [==============================] - 0s 2ms/step - loss: 0.5514 - val_loss: 0.4571\n",
            "Epoch 95/100\n",
            "155/155 [==============================] - 0s 2ms/step - loss: 0.5077 - val_loss: 0.3977\n",
            "Epoch 96/100\n",
            "155/155 [==============================] - 0s 2ms/step - loss: 0.5086 - val_loss: 0.5254\n",
            "Epoch 97/100\n",
            "155/155 [==============================] - 0s 2ms/step - loss: 0.5781 - val_loss: 0.4248\n",
            "Epoch 98/100\n",
            "155/155 [==============================] - 0s 2ms/step - loss: 0.5668 - val_loss: 0.5384\n",
            "Epoch 99/100\n",
            "155/155 [==============================] - 0s 2ms/step - loss: 0.6809 - val_loss: 0.4039\n",
            "Epoch 100/100\n",
            "155/155 [==============================] - 0s 3ms/step - loss: 0.6691 - val_loss: 1.4098\n"
          ]
        },
        {
          "output_type": "execute_result",
          "data": {
            "text/plain": [
              "<keras.callbacks.History at 0x7f4ac68f1190>"
            ]
          },
          "metadata": {},
          "execution_count": 54
        }
      ]
    },
    {
      "cell_type": "code",
      "metadata": {
        "id": "d3mrYZQ0gaHi",
        "colab": {
          "base_uri": "https://localhost:8080/",
          "height": 282
        },
        "outputId": "a6f4fb02-fd63-4324-99a2-58ed7009981f"
      },
      "source": [
        "lossdf=pd.DataFrame(ann.history.history)\n",
        "lossdf.plot()"
      ],
      "execution_count": null,
      "outputs": [
        {
          "output_type": "execute_result",
          "data": {
            "text/plain": [
              "<matplotlib.axes._subplots.AxesSubplot at 0x7f4ac6a76790>"
            ]
          },
          "metadata": {},
          "execution_count": 55
        },
        {
          "output_type": "display_data",
          "data": {
            "image/png": "[encoded data removed]",
            "text/plain": [
              "<Figure size 432x288 with 1 Axes>"
            ]
          },
          "metadata": {
            "needs_background": "light"
          }
        }
      ]
    },
    {
      "cell_type": "code",
      "metadata": {
        "id": "c1DJ86cEgaKf"
      },
      "source": [
        "ann=tf.keras.Sequential()\n",
        "ann.add(tf.keras.layers.Dense(units=30,activation='relu'))\n",
        "ann.add(tf.keras.layers.Dense(units=20,activation='relu'))\n",
        "ann.add(tf.keras.layers.Dense(units=1,activation='sigmoid'))\n",
        "ann.compile(optimizer='adam',loss='binary_crossentropy')"
      ],
      "execution_count": null,
      "outputs": []
    },
    {
      "cell_type": "code",
      "metadata": {
        "id": "gqiNEDcRgaNq",
        "colab": {
          "base_uri": "https://localhost:8080/"
        },
        "outputId": "c76970f6-f388-4c0e-8409-55f383a92072"
      },
      "source": [
        "from tensorflow.keras.callbacks import EarlyStopping\n",
        "earlystop = EarlyStopping(monitor=\"val_loss\", mode=\"min\", verbose=1, patience=25)\n",
        "ann.fit(xtrain, ytrain, epochs=600, validation_data=(xtest, ytest), callbacks=[earlystop])"
      ],
      "execution_count": null,
      "outputs": [
        {
          "output_type": "stream",
          "name": "stdout",
          "text": [
            "Epoch 1/600\n",
            "155/155 [==============================] - 1s 3ms/step - loss: 29.0549 - val_loss: 0.4925\n",
            "Epoch 2/600\n",
            "155/155 [==============================] - 0s 3ms/step - loss: 0.8176 - val_loss: 0.4656\n",
            "Epoch 3/600\n",
            "155/155 [==============================] - 0s 2ms/step - loss: 0.8726 - val_loss: 2.0336\n",
            "Epoch 4/600\n",
            "155/155 [==============================] - 0s 3ms/step - loss: 0.7996 - val_loss: 0.5828\n",
            "Epoch 5/600\n",
            "155/155 [==============================] - 0s 2ms/step - loss: 1.0703 - val_loss: 1.4815\n",
            "Epoch 6/600\n",
            "155/155 [==============================] - 0s 2ms/step - loss: 1.2660 - val_loss: 2.3147\n",
            "Epoch 7/600\n",
            "155/155 [==============================] - 0s 2ms/step - loss: 1.1532 - val_loss: 0.4400\n",
            "Epoch 8/600\n",
            "155/155 [==============================] - 0s 2ms/step - loss: 0.9896 - val_loss: 0.5699\n",
            "Epoch 9/600\n",
            "155/155 [==============================] - 0s 2ms/step - loss: 0.7469 - val_loss: 2.3109\n",
            "Epoch 10/600\n",
            "155/155 [==============================] - 0s 2ms/step - loss: 1.0433 - val_loss: 0.4851\n",
            "Epoch 11/600\n",
            "155/155 [==============================] - 0s 2ms/step - loss: 0.9253 - val_loss: 1.4697\n",
            "Epoch 12/600\n",
            "155/155 [==============================] - 0s 2ms/step - loss: 0.7703 - val_loss: 0.4377\n",
            "Epoch 13/600\n",
            "155/155 [==============================] - 0s 2ms/step - loss: 0.8331 - val_loss: 1.0893\n",
            "Epoch 14/600\n",
            "155/155 [==============================] - 0s 2ms/step - loss: 1.2864 - val_loss: 0.7501\n",
            "Epoch 15/600\n",
            "155/155 [==============================] - 0s 2ms/step - loss: 0.7163 - val_loss: 1.9462\n",
            "Epoch 16/600\n",
            "155/155 [==============================] - 0s 2ms/step - loss: 0.8558 - val_loss: 2.4312\n",
            "Epoch 17/600\n",
            "155/155 [==============================] - 0s 2ms/step - loss: 0.8989 - val_loss: 0.4777\n",
            "Epoch 18/600\n",
            "155/155 [==============================] - 0s 2ms/step - loss: 0.8815 - val_loss: 0.5051\n",
            "Epoch 19/600\n",
            "155/155 [==============================] - 0s 2ms/step - loss: 1.0373 - val_loss: 0.7067\n",
            "Epoch 20/600\n",
            "155/155 [==============================] - 0s 2ms/step - loss: 0.9706 - val_loss: 1.0308\n",
            "Epoch 21/600\n",
            "155/155 [==============================] - 0s 3ms/step - loss: 0.9156 - val_loss: 0.7001\n",
            "Epoch 22/600\n",
            "155/155 [==============================] - 0s 2ms/step - loss: 0.8264 - val_loss: 0.5168\n",
            "Epoch 23/600\n",
            "155/155 [==============================] - 0s 2ms/step - loss: 0.7516 - val_loss: 0.6928\n",
            "Epoch 24/600\n",
            "155/155 [==============================] - 0s 2ms/step - loss: 0.8477 - val_loss: 0.4136\n",
            "Epoch 25/600\n",
            "155/155 [==============================] - 0s 3ms/step - loss: 0.9934 - val_loss: 0.6427\n",
            "Epoch 26/600\n",
            "155/155 [==============================] - 0s 2ms/step - loss: 1.0597 - val_loss: 0.5337\n",
            "Epoch 27/600\n",
            "155/155 [==============================] - 0s 2ms/step - loss: 0.6025 - val_loss: 0.4268\n",
            "Epoch 28/600\n",
            "155/155 [==============================] - 0s 2ms/step - loss: 0.7883 - val_loss: 1.3909\n",
            "Epoch 29/600\n",
            "155/155 [==============================] - 0s 2ms/step - loss: 0.8264 - val_loss: 0.5545\n",
            "Epoch 30/600\n",
            "155/155 [==============================] - 0s 2ms/step - loss: 0.6957 - val_loss: 0.5669\n",
            "Epoch 31/600\n",
            "155/155 [==============================] - 0s 2ms/step - loss: 1.1399 - val_loss: 0.4238\n",
            "Epoch 32/600\n",
            "155/155 [==============================] - 0s 2ms/step - loss: 0.9092 - val_loss: 0.8808\n",
            "Epoch 33/600\n",
            "155/155 [==============================] - 0s 2ms/step - loss: 0.6251 - val_loss: 0.6520\n",
            "Epoch 34/600\n",
            "155/155 [==============================] - 0s 2ms/step - loss: 0.8996 - val_loss: 1.0430\n",
            "Epoch 35/600\n",
            "155/155 [==============================] - 0s 2ms/step - loss: 0.8532 - val_loss: 0.7430\n",
            "Epoch 36/600\n",
            "155/155 [==============================] - 0s 2ms/step - loss: 0.6549 - val_loss: 1.0877\n",
            "Epoch 37/600\n",
            "155/155 [==============================] - 0s 2ms/step - loss: 0.5852 - val_loss: 0.4153\n",
            "Epoch 38/600\n",
            "155/155 [==============================] - 0s 3ms/step - loss: 0.8728 - val_loss: 0.7232\n",
            "Epoch 39/600\n",
            "155/155 [==============================] - 0s 2ms/step - loss: 0.8906 - val_loss: 0.5231\n",
            "Epoch 40/600\n",
            "155/155 [==============================] - 0s 2ms/step - loss: 0.8628 - val_loss: 0.4499\n",
            "Epoch 41/600\n",
            "155/155 [==============================] - 0s 2ms/step - loss: 0.7035 - val_loss: 0.5137\n",
            "Epoch 42/600\n",
            "155/155 [==============================] - 0s 2ms/step - loss: 0.6578 - val_loss: 0.6536\n",
            "Epoch 43/600\n",
            "155/155 [==============================] - 0s 2ms/step - loss: 0.7797 - val_loss: 0.6090\n",
            "Epoch 44/600\n",
            "155/155 [==============================] - 0s 2ms/step - loss: 0.8495 - val_loss: 0.7681\n",
            "Epoch 45/600\n",
            "155/155 [==============================] - 0s 2ms/step - loss: 0.7728 - val_loss: 0.9132\n",
            "Epoch 46/600\n",
            "155/155 [==============================] - 0s 2ms/step - loss: 0.7835 - val_loss: 0.4112\n",
            "Epoch 47/600\n",
            "155/155 [==============================] - 0s 2ms/step - loss: 0.7446 - val_loss: 1.0884\n",
            "Epoch 48/600\n",
            "155/155 [==============================] - 0s 2ms/step - loss: 0.7121 - val_loss: 0.4534\n",
            "Epoch 49/600\n",
            "155/155 [==============================] - 0s 2ms/step - loss: 0.7553 - val_loss: 1.1898\n",
            "Epoch 50/600\n",
            "155/155 [==============================] - 0s 2ms/step - loss: 0.8070 - val_loss: 1.0058\n",
            "Epoch 51/600\n",
            "155/155 [==============================] - 0s 2ms/step - loss: 0.7174 - val_loss: 0.8805\n",
            "Epoch 52/600\n",
            "155/155 [==============================] - 0s 2ms/step - loss: 0.9422 - val_loss: 1.0293\n",
            "Epoch 53/600\n",
            "155/155 [==============================] - 0s 2ms/step - loss: 1.1863 - val_loss: 0.4701\n",
            "Epoch 54/600\n",
            "155/155 [==============================] - 0s 2ms/step - loss: 0.6030 - val_loss: 0.4476\n",
            "Epoch 55/600\n",
            "155/155 [==============================] - 0s 2ms/step - loss: 0.6415 - val_loss: 0.4170\n",
            "Epoch 56/600\n",
            "155/155 [==============================] - 0s 2ms/step - loss: 0.5952 - val_loss: 1.0362\n",
            "Epoch 57/600\n",
            "155/155 [==============================] - 0s 2ms/step - loss: 0.9490 - val_loss: 0.7825\n",
            "Epoch 58/600\n",
            "155/155 [==============================] - 0s 2ms/step - loss: 0.6587 - val_loss: 0.4839\n",
            "Epoch 59/600\n",
            "155/155 [==============================] - 0s 2ms/step - loss: 0.6276 - val_loss: 1.9740\n",
            "Epoch 60/600\n",
            "155/155 [==============================] - 0s 2ms/step - loss: 0.7125 - val_loss: 0.9558\n",
            "Epoch 61/600\n",
            "155/155 [==============================] - 0s 2ms/step - loss: 0.5939 - val_loss: 0.6326\n",
            "Epoch 62/600\n",
            "155/155 [==============================] - 0s 2ms/step - loss: 0.7391 - val_loss: 0.5951\n",
            "Epoch 63/600\n",
            "155/155 [==============================] - 0s 2ms/step - loss: 0.6277 - val_loss: 0.8230\n",
            "Epoch 64/600\n",
            "155/155 [==============================] - 0s 3ms/step - loss: 0.6586 - val_loss: 0.4622\n",
            "Epoch 65/600\n",
            "155/155 [==============================] - 0s 2ms/step - loss: 0.6430 - val_loss: 0.6133\n",
            "Epoch 66/600\n",
            "155/155 [==============================] - 0s 2ms/step - loss: 0.5487 - val_loss: 1.5143\n",
            "Epoch 67/600\n",
            "155/155 [==============================] - 0s 2ms/step - loss: 0.6613 - val_loss: 0.4882\n",
            "Epoch 68/600\n",
            "155/155 [==============================] - 0s 2ms/step - loss: 0.6521 - val_loss: 0.4316\n",
            "Epoch 69/600\n",
            "155/155 [==============================] - 0s 2ms/step - loss: 0.7402 - val_loss: 0.5123\n",
            "Epoch 70/600\n",
            "155/155 [==============================] - 0s 2ms/step - loss: 0.6737 - val_loss: 0.6715\n",
            "Epoch 71/600\n",
            "155/155 [==============================] - 0s 2ms/step - loss: 0.6618 - val_loss: 0.4120\n",
            "Epoch 00071: early stopping\n"
          ]
        },
        {
          "output_type": "execute_result",
          "data": {
            "text/plain": [
              "<keras.callbacks.History at 0x7f4ac65f7190>"
            ]
          },
          "metadata": {},
          "execution_count": 60
        }
      ]
    },
    {
      "cell_type": "code",
      "metadata": {
        "id": "CyiUPozDgaQu",
        "colab": {
          "base_uri": "https://localhost:8080/",
          "height": 283
        },
        "outputId": "1a243780-bbf2-4387-d27c-2f5cfb72ea53"
      },
      "source": [
        "lossdf=pd.DataFrame(ann.history.history)\n",
        "lossdf.plot()"
      ],
      "execution_count": null,
      "outputs": [
        {
          "output_type": "execute_result",
          "data": {
            "text/plain": [
              "<matplotlib.axes._subplots.AxesSubplot at 0x7f4ac6473110>"
            ]
          },
          "metadata": {},
          "execution_count": 61
        },
        {
          "output_type": "display_data",
          "data": {
            "image/png": "[encoded data removed]",
            "text/plain": [
              "<Figure size 432x288 with 1 Axes>"
            ]
          },
          "metadata": {
            "needs_background": "light"
          }
        }
      ]
    },
    {
      "cell_type": "code",
      "metadata": {
        "id": "TUBjSviGgaTV"
      },
      "source": [
        "\n",
        "from tensorflow.keras.layers import Dropout\n",
        "ann = tf.keras.Sequential()\n",
        "\n",
        "ann.add(tf.keras.layers.Dense(units=30, activation=\"relu\"))\n",
        "ann.add(Dropout(rate=0.5))\n",
        "\n",
        "ann.add(tf.keras.layers.Dense(units=15, activation=\"relu\"))\n",
        "ann.add(Dropout(rate=0.5))\n",
        "\n",
        "ann.add(tf.keras.layers.Dense(units=1, activation=\"sigmoid\"))\n",
        "\n",
        "ann.compile(optimizer=\"adam\", loss=\"binary_crossentropy\")"
      ],
      "execution_count": null,
      "outputs": []
    },
    {
      "cell_type": "code",
      "metadata": {
        "colab": {
          "base_uri": "https://localhost:8080/"
        },
        "id": "3Gs6PHiFyjiQ",
        "outputId": "b517d7cf-043a-4483-db0c-2e1091d08ffe"
      },
      "source": [
        "ann.fit(xtrain, ytrain, epochs=600, validation_data=(xtest, ytest), callbacks=[earlystop])"
      ],
      "execution_count": null,
      "outputs": [
        {
          "output_type": "stream",
          "name": "stdout",
          "text": [
            "Epoch 1/600\n",
            "155/155 [==============================] - 1s 3ms/step - loss: 173.4493 - val_loss: 38.4401\n",
            "Epoch 2/600\n",
            "155/155 [==============================] - 0s 2ms/step - loss: 55.7080 - val_loss: 1.0327\n",
            "Epoch 3/600\n",
            "155/155 [==============================] - 0s 2ms/step - loss: 20.7856 - val_loss: 0.6227\n",
            "Epoch 4/600\n",
            "155/155 [==============================] - 0s 2ms/step - loss: 8.6209 - val_loss: 0.6316\n",
            "Epoch 5/600\n",
            "155/155 [==============================] - 0s 2ms/step - loss: 4.7579 - val_loss: 0.5973\n",
            "Epoch 6/600\n",
            "155/155 [==============================] - 0s 2ms/step - loss: 3.2641 - val_loss: 0.5821\n",
            "Epoch 7/600\n",
            "155/155 [==============================] - 0s 2ms/step - loss: 2.5056 - val_loss: 0.5714\n",
            "Epoch 8/600\n",
            "155/155 [==============================] - 0s 2ms/step - loss: 1.7854 - val_loss: 0.5853\n",
            "Epoch 9/600\n",
            "155/155 [==============================] - 0s 2ms/step - loss: 1.6353 - val_loss: 0.5715\n",
            "Epoch 10/600\n",
            "155/155 [==============================] - 0s 2ms/step - loss: 1.6548 - val_loss: 0.5576\n",
            "Epoch 11/600\n",
            "155/155 [==============================] - 0s 2ms/step - loss: 0.9992 - val_loss: 0.5522\n",
            "Epoch 12/600\n",
            "155/155 [==============================] - 0s 2ms/step - loss: 1.1324 - val_loss: 0.5620\n",
            "Epoch 13/600\n",
            "155/155 [==============================] - 0s 2ms/step - loss: 1.1661 - val_loss: 0.5629\n",
            "Epoch 14/600\n",
            "155/155 [==============================] - 0s 2ms/step - loss: 0.8889 - val_loss: 0.5649\n",
            "Epoch 15/600\n",
            "155/155 [==============================] - 0s 2ms/step - loss: 0.8618 - val_loss: 0.5643\n",
            "Epoch 16/600\n",
            "155/155 [==============================] - 0s 2ms/step - loss: 0.7900 - val_loss: 0.5659\n",
            "Epoch 17/600\n",
            "155/155 [==============================] - 0s 2ms/step - loss: 0.8344 - val_loss: 0.5656\n",
            "Epoch 18/600\n",
            "155/155 [==============================] - 0s 2ms/step - loss: 0.8338 - val_loss: 0.5654\n",
            "Epoch 19/600\n",
            "155/155 [==============================] - 0s 2ms/step - loss: 0.7092 - val_loss: 0.5653\n",
            "Epoch 20/600\n",
            "155/155 [==============================] - 0s 2ms/step - loss: 0.7697 - val_loss: 0.5649\n",
            "Epoch 21/600\n",
            "155/155 [==============================] - 0s 2ms/step - loss: 0.7752 - val_loss: 0.5647\n",
            "Epoch 22/600\n",
            "155/155 [==============================] - 0s 2ms/step - loss: 0.7757 - val_loss: 0.5649\n",
            "Epoch 23/600\n",
            "155/155 [==============================] - 0s 2ms/step - loss: 0.7013 - val_loss: 0.5648\n",
            "Epoch 24/600\n",
            "155/155 [==============================] - 0s 2ms/step - loss: 0.7231 - val_loss: 0.5646\n",
            "Epoch 25/600\n",
            "155/155 [==============================] - 0s 3ms/step - loss: 0.6818 - val_loss: 0.5644\n",
            "Epoch 26/600\n",
            "155/155 [==============================] - 0s 2ms/step - loss: 0.6858 - val_loss: 0.5642\n",
            "Epoch 27/600\n",
            "155/155 [==============================] - 0s 2ms/step - loss: 0.6322 - val_loss: 0.5641\n",
            "Epoch 28/600\n",
            "155/155 [==============================] - 0s 2ms/step - loss: 0.6443 - val_loss: 0.5641\n",
            "Epoch 29/600\n",
            "155/155 [==============================] - 0s 2ms/step - loss: 0.6413 - val_loss: 0.5641\n",
            "Epoch 30/600\n",
            "155/155 [==============================] - 0s 3ms/step - loss: 0.6230 - val_loss: 0.5640\n",
            "Epoch 31/600\n",
            "155/155 [==============================] - 0s 2ms/step - loss: 0.6380 - val_loss: 0.5639\n",
            "Epoch 32/600\n",
            "155/155 [==============================] - 0s 2ms/step - loss: 0.6109 - val_loss: 0.5639\n",
            "Epoch 33/600\n",
            "155/155 [==============================] - 0s 2ms/step - loss: 0.5949 - val_loss: 0.5639\n",
            "Epoch 34/600\n",
            "155/155 [==============================] - 0s 2ms/step - loss: 0.6143 - val_loss: 0.5640\n",
            "Epoch 35/600\n",
            "155/155 [==============================] - 0s 2ms/step - loss: 0.6000 - val_loss: 0.5639\n",
            "Epoch 36/600\n",
            "155/155 [==============================] - 0s 2ms/step - loss: 0.5921 - val_loss: 0.5638\n",
            "Epoch 00036: early stopping\n"
          ]
        },
        {
          "output_type": "execute_result",
          "data": {
            "text/plain": [
              "<keras.callbacks.History at 0x7f4ac64c01d0>"
            ]
          },
          "metadata": {},
          "execution_count": 70
        }
      ]
    },
    {
      "cell_type": "code",
      "metadata": {
        "colab": {
          "base_uri": "https://localhost:8080/",
          "height": 282
        },
        "id": "M8Mf4rWTyjuq",
        "outputId": "149a9a5e-21e2-424d-9514-612a70349509"
      },
      "source": [
        "lossdf=pd.DataFrame(ann.history.history)\n",
        "lossdf.plot()"
      ],
      "execution_count": null,
      "outputs": [
        {
          "output_type": "execute_result",
          "data": {
            "text/plain": [
              "<matplotlib.axes._subplots.AxesSubplot at 0x7f4ac1b646d0>"
            ]
          },
          "metadata": {},
          "execution_count": 71
        },
        {
          "output_type": "display_data",
          "data": {
            "image/png": "[encoded data removed]",
            "text/plain": [
              "<Figure size 432x288 with 1 Axes>"
            ]
          },
          "metadata": {
            "needs_background": "light"
          }
        }
      ]
    },
    {
      "cell_type": "code",
      "metadata": {
        "id": "gKXRVhX6gaWF",
        "colab": {
          "base_uri": "https://localhost:8080/"
        },
        "outputId": "0668ed81-24c3-4339-d79f-818e718ae3f1"
      },
      "source": [
        "ypred=ann.predict(xtest)\n",
        "ypred=ypred>0.5\n",
        "print(classification_report(ytest,ypred))"
      ],
      "execution_count": null,
      "outputs": [
        {
          "output_type": "stream",
          "name": "stdout",
          "text": [
            "              precision    recall  f1-score   support\n",
            "\n",
            "           0       0.75      1.00      0.86      1585\n",
            "           1       0.00      0.00      0.00       528\n",
            "\n",
            "    accuracy                           0.75      2113\n",
            "   macro avg       0.38      0.50      0.43      2113\n",
            "weighted avg       0.56      0.75      0.64      2113\n",
            "\n"
          ]
        },
        {
          "output_type": "stream",
          "name": "stderr",
          "text": [
            "/usr/local/lib/python3.7/dist-packages/sklearn/metrics/_classification.py:1272: UndefinedMetricWarning: Precision and F-score are ill-defined and being set to 0.0 in labels with no predicted samples. Use `zero_division` parameter to control this behavior.\n",
            "  _warn_prf(average, modifier, msg_start, len(result))\n"
          ]
        }
      ]
    }
  ]
}