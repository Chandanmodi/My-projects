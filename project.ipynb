{
  "nbformat": 4,
  "nbformat_minor": 0,
  "metadata": {
    "colab": {
      "name": "project.ipynb",
      "provenance": [],
      "collapsed_sections": []
    },
    "kernelspec": {
      "name": "python3",
      "display_name": "Python 3"
    },
    "language_info": {
      "name": "python"
    }
  },
  "cells": [
    {
      "cell_type": "code",
      "metadata": {
        "id": "OEptY2A0w_0T"
      },
      "source": [
        "# important library\n",
        "import numpy as np\n",
        "import pandas as pd \n",
        "import matplotlib.pyplot as plt\n",
        "import seaborn as sns\n",
        "import warnings\n",
        "warnings.filterwarnings('ignore')\n"
      ],
      "execution_count": 2,
      "outputs": []
    },
    {
      "cell_type": "code",
      "metadata": {
        "colab": {
          "base_uri": "https://localhost:8080/",
          "height": 223
        },
        "id": "x-ujnQDExmuY",
        "outputId": "df59caf6-ea32-40c4-8f49-1603e8679dfe"
      },
      "source": [
        "df=pd.read_csv('/content/drive/MyDrive/creditcard.csv')\n",
        "df.head()"
      ],
      "execution_count": 3,
      "outputs": [
        {
          "output_type": "execute_result",
          "data": {
            "text/html": [
              "<div>\n",
              "<style scoped>\n",
              "    .dataframe tbody tr th:only-of-type {\n",
              "        vertical-align: middle;\n",
              "    }\n",
              "\n",
              "    .dataframe tbody tr th {\n",
              "        vertical-align: top;\n",
              "    }\n",
              "\n",
              "    .dataframe thead th {\n",
              "        text-align: right;\n",
              "    }\n",
              "</style>\n",
              "<table border=\"1\" class=\"dataframe\">\n",
              "  <thead>\n",
              "    <tr style=\"text-align: right;\">\n",
              "      <th></th>\n",
              "      <th>Time</th>\n",
              "      <th>V1</th>\n",
              "      <th>V2</th>\n",
              "      <th>V3</th>\n",
              "      <th>V4</th>\n",
              "      <th>V5</th>\n",
              "      <th>V6</th>\n",
              "      <th>V7</th>\n",
              "      <th>V8</th>\n",
              "      <th>V9</th>\n",
              "      <th>V10</th>\n",
              "      <th>V11</th>\n",
              "      <th>V12</th>\n",
              "      <th>V13</th>\n",
              "      <th>V14</th>\n",
              "      <th>V15</th>\n",
              "      <th>V16</th>\n",
              "      <th>V17</th>\n",
              "      <th>V18</th>\n",
              "      <th>V19</th>\n",
              "      <th>V20</th>\n",
              "      <th>V21</th>\n",
              "      <th>V22</th>\n",
              "      <th>V23</th>\n",
              "      <th>V24</th>\n",
              "      <th>V25</th>\n",
              "      <th>V26</th>\n",
              "      <th>V27</th>\n",
              "      <th>V28</th>\n",
              "      <th>Amount</th>\n",
              "      <th>Class</th>\n",
              "    </tr>\n",
              "  </thead>\n",
              "  <tbody>\n",
              "    <tr>\n",
              "      <th>0</th>\n",
              "      <td>0.0</td>\n",
              "      <td>-1.359807</td>\n",
              "      <td>-0.072781</td>\n",
              "      <td>2.536347</td>\n",
              "      <td>1.378155</td>\n",
              "      <td>-0.338321</td>\n",
              "      <td>0.462388</td>\n",
              "      <td>0.239599</td>\n",
              "      <td>0.098698</td>\n",
              "      <td>0.363787</td>\n",
              "      <td>0.090794</td>\n",
              "      <td>-0.551600</td>\n",
              "      <td>-0.617801</td>\n",
              "      <td>-0.991390</td>\n",
              "      <td>-0.311169</td>\n",
              "      <td>1.468177</td>\n",
              "      <td>-0.470401</td>\n",
              "      <td>0.207971</td>\n",
              "      <td>0.025791</td>\n",
              "      <td>0.403993</td>\n",
              "      <td>0.251412</td>\n",
              "      <td>-0.018307</td>\n",
              "      <td>0.277838</td>\n",
              "      <td>-0.110474</td>\n",
              "      <td>0.066928</td>\n",
              "      <td>0.128539</td>\n",
              "      <td>-0.189115</td>\n",
              "      <td>0.133558</td>\n",
              "      <td>-0.021053</td>\n",
              "      <td>149.62</td>\n",
              "      <td>0</td>\n",
              "    </tr>\n",
              "    <tr>\n",
              "      <th>1</th>\n",
              "      <td>0.0</td>\n",
              "      <td>1.191857</td>\n",
              "      <td>0.266151</td>\n",
              "      <td>0.166480</td>\n",
              "      <td>0.448154</td>\n",
              "      <td>0.060018</td>\n",
              "      <td>-0.082361</td>\n",
              "      <td>-0.078803</td>\n",
              "      <td>0.085102</td>\n",
              "      <td>-0.255425</td>\n",
              "      <td>-0.166974</td>\n",
              "      <td>1.612727</td>\n",
              "      <td>1.065235</td>\n",
              "      <td>0.489095</td>\n",
              "      <td>-0.143772</td>\n",
              "      <td>0.635558</td>\n",
              "      <td>0.463917</td>\n",
              "      <td>-0.114805</td>\n",
              "      <td>-0.183361</td>\n",
              "      <td>-0.145783</td>\n",
              "      <td>-0.069083</td>\n",
              "      <td>-0.225775</td>\n",
              "      <td>-0.638672</td>\n",
              "      <td>0.101288</td>\n",
              "      <td>-0.339846</td>\n",
              "      <td>0.167170</td>\n",
              "      <td>0.125895</td>\n",
              "      <td>-0.008983</td>\n",
              "      <td>0.014724</td>\n",
              "      <td>2.69</td>\n",
              "      <td>0</td>\n",
              "    </tr>\n",
              "    <tr>\n",
              "      <th>2</th>\n",
              "      <td>1.0</td>\n",
              "      <td>-1.358354</td>\n",
              "      <td>-1.340163</td>\n",
              "      <td>1.773209</td>\n",
              "      <td>0.379780</td>\n",
              "      <td>-0.503198</td>\n",
              "      <td>1.800499</td>\n",
              "      <td>0.791461</td>\n",
              "      <td>0.247676</td>\n",
              "      <td>-1.514654</td>\n",
              "      <td>0.207643</td>\n",
              "      <td>0.624501</td>\n",
              "      <td>0.066084</td>\n",
              "      <td>0.717293</td>\n",
              "      <td>-0.165946</td>\n",
              "      <td>2.345865</td>\n",
              "      <td>-2.890083</td>\n",
              "      <td>1.109969</td>\n",
              "      <td>-0.121359</td>\n",
              "      <td>-2.261857</td>\n",
              "      <td>0.524980</td>\n",
              "      <td>0.247998</td>\n",
              "      <td>0.771679</td>\n",
              "      <td>0.909412</td>\n",
              "      <td>-0.689281</td>\n",
              "      <td>-0.327642</td>\n",
              "      <td>-0.139097</td>\n",
              "      <td>-0.055353</td>\n",
              "      <td>-0.059752</td>\n",
              "      <td>378.66</td>\n",
              "      <td>0</td>\n",
              "    </tr>\n",
              "    <tr>\n",
              "      <th>3</th>\n",
              "      <td>1.0</td>\n",
              "      <td>-0.966272</td>\n",
              "      <td>-0.185226</td>\n",
              "      <td>1.792993</td>\n",
              "      <td>-0.863291</td>\n",
              "      <td>-0.010309</td>\n",
              "      <td>1.247203</td>\n",
              "      <td>0.237609</td>\n",
              "      <td>0.377436</td>\n",
              "      <td>-1.387024</td>\n",
              "      <td>-0.054952</td>\n",
              "      <td>-0.226487</td>\n",
              "      <td>0.178228</td>\n",
              "      <td>0.507757</td>\n",
              "      <td>-0.287924</td>\n",
              "      <td>-0.631418</td>\n",
              "      <td>-1.059647</td>\n",
              "      <td>-0.684093</td>\n",
              "      <td>1.965775</td>\n",
              "      <td>-1.232622</td>\n",
              "      <td>-0.208038</td>\n",
              "      <td>-0.108300</td>\n",
              "      <td>0.005274</td>\n",
              "      <td>-0.190321</td>\n",
              "      <td>-1.175575</td>\n",
              "      <td>0.647376</td>\n",
              "      <td>-0.221929</td>\n",
              "      <td>0.062723</td>\n",
              "      <td>0.061458</td>\n",
              "      <td>123.50</td>\n",
              "      <td>0</td>\n",
              "    </tr>\n",
              "    <tr>\n",
              "      <th>4</th>\n",
              "      <td>2.0</td>\n",
              "      <td>-1.158233</td>\n",
              "      <td>0.877737</td>\n",
              "      <td>1.548718</td>\n",
              "      <td>0.403034</td>\n",
              "      <td>-0.407193</td>\n",
              "      <td>0.095921</td>\n",
              "      <td>0.592941</td>\n",
              "      <td>-0.270533</td>\n",
              "      <td>0.817739</td>\n",
              "      <td>0.753074</td>\n",
              "      <td>-0.822843</td>\n",
              "      <td>0.538196</td>\n",
              "      <td>1.345852</td>\n",
              "      <td>-1.119670</td>\n",
              "      <td>0.175121</td>\n",
              "      <td>-0.451449</td>\n",
              "      <td>-0.237033</td>\n",
              "      <td>-0.038195</td>\n",
              "      <td>0.803487</td>\n",
              "      <td>0.408542</td>\n",
              "      <td>-0.009431</td>\n",
              "      <td>0.798278</td>\n",
              "      <td>-0.137458</td>\n",
              "      <td>0.141267</td>\n",
              "      <td>-0.206010</td>\n",
              "      <td>0.502292</td>\n",
              "      <td>0.219422</td>\n",
              "      <td>0.215153</td>\n",
              "      <td>69.99</td>\n",
              "      <td>0</td>\n",
              "    </tr>\n",
              "  </tbody>\n",
              "</table>\n",
              "</div>"
            ],
            "text/plain": [
              "   Time        V1        V2        V3  ...       V27       V28  Amount  Class\n",
              "0   0.0 -1.359807 -0.072781  2.536347  ...  0.133558 -0.021053  149.62      0\n",
              "1   0.0  1.191857  0.266151  0.166480  ... -0.008983  0.014724    2.69      0\n",
              "2   1.0 -1.358354 -1.340163  1.773209  ... -0.055353 -0.059752  378.66      0\n",
              "3   1.0 -0.966272 -0.185226  1.792993  ...  0.062723  0.061458  123.50      0\n",
              "4   2.0 -1.158233  0.877737  1.548718  ...  0.219422  0.215153   69.99      0\n",
              "\n",
              "[5 rows x 31 columns]"
            ]
          },
          "metadata": {},
          "execution_count": 3
        }
      ]
    },
    {
      "cell_type": "code",
      "metadata": {
        "id": "ndyLp0WGNZfC",
        "colab": {
          "base_uri": "https://localhost:8080/"
        },
        "outputId": "2fcdd876-8137-4f4b-d9c8-4183c95b1a98"
      },
      "source": [
        "df.info()"
      ],
      "execution_count": 4,
      "outputs": [
        {
          "output_type": "stream",
          "name": "stdout",
          "text": [
            "<class 'pandas.core.frame.DataFrame'>\n",
            "RangeIndex: 284807 entries, 0 to 284806\n",
            "Data columns (total 31 columns):\n",
            " #   Column  Non-Null Count   Dtype  \n",
            "---  ------  --------------   -----  \n",
            " 0   Time    284807 non-null  float64\n",
            " 1   V1      284807 non-null  float64\n",
            " 2   V2      284807 non-null  float64\n",
            " 3   V3      284807 non-null  float64\n",
            " 4   V4      284807 non-null  float64\n",
            " 5   V5      284807 non-null  float64\n",
            " 6   V6      284807 non-null  float64\n",
            " 7   V7      284807 non-null  float64\n",
            " 8   V8      284807 non-null  float64\n",
            " 9   V9      284807 non-null  float64\n",
            " 10  V10     284807 non-null  float64\n",
            " 11  V11     284807 non-null  float64\n",
            " 12  V12     284807 non-null  float64\n",
            " 13  V13     284807 non-null  float64\n",
            " 14  V14     284807 non-null  float64\n",
            " 15  V15     284807 non-null  float64\n",
            " 16  V16     284807 non-null  float64\n",
            " 17  V17     284807 non-null  float64\n",
            " 18  V18     284807 non-null  float64\n",
            " 19  V19     284807 non-null  float64\n",
            " 20  V20     284807 non-null  float64\n",
            " 21  V21     284807 non-null  float64\n",
            " 22  V22     284807 non-null  float64\n",
            " 23  V23     284807 non-null  float64\n",
            " 24  V24     284807 non-null  float64\n",
            " 25  V25     284807 non-null  float64\n",
            " 26  V26     284807 non-null  float64\n",
            " 27  V27     284807 non-null  float64\n",
            " 28  V28     284807 non-null  float64\n",
            " 29  Amount  284807 non-null  float64\n",
            " 30  Class   284807 non-null  int64  \n",
            "dtypes: float64(30), int64(1)\n",
            "memory usage: 67.4 MB\n"
          ]
        }
      ]
    },
    {
      "cell_type": "code",
      "metadata": {
        "colab": {
          "base_uri": "https://localhost:8080/"
        },
        "id": "AIGayvFp3Q_T",
        "outputId": "64cd53f1-eeb4-4570-d14e-34bc2dd83ae4"
      },
      "source": [
        "df.isnull().sum()"
      ],
      "execution_count": 5,
      "outputs": [
        {
          "output_type": "execute_result",
          "data": {
            "text/plain": [
              "Time      0\n",
              "V1        0\n",
              "V2        0\n",
              "V3        0\n",
              "V4        0\n",
              "V5        0\n",
              "V6        0\n",
              "V7        0\n",
              "V8        0\n",
              "V9        0\n",
              "V10       0\n",
              "V11       0\n",
              "V12       0\n",
              "V13       0\n",
              "V14       0\n",
              "V15       0\n",
              "V16       0\n",
              "V17       0\n",
              "V18       0\n",
              "V19       0\n",
              "V20       0\n",
              "V21       0\n",
              "V22       0\n",
              "V23       0\n",
              "V24       0\n",
              "V25       0\n",
              "V26       0\n",
              "V27       0\n",
              "V28       0\n",
              "Amount    0\n",
              "Class     0\n",
              "dtype: int64"
            ]
          },
          "metadata": {},
          "execution_count": 5
        }
      ]
    },
    {
      "cell_type": "code",
      "metadata": {
        "colab": {
          "base_uri": "https://localhost:8080/",
          "height": 286
        },
        "id": "tqUnjDjC5PDc",
        "outputId": "846d47da-5a79-435b-eb28-e2792306d22a"
      },
      "source": [
        "sns.heatmap(df.isnull())\n",
        "plt.show()"
      ],
      "execution_count": 6,
      "outputs": [
        {
          "output_type": "display_data",
          "data": {
            "image/png": "[encoded data removed]",
            "text/plain": [
              "<Figure size 432x288 with 2 Axes>"
            ]
          },
          "metadata": {
            "needs_background": "light"
          }
        }
      ]
    },
    {
      "cell_type": "code",
      "metadata": {
        "id": "8JOspq805wRY"
      },
      "source": [
        "X=df.drop('Class',axis=1)\n",
        "Y=df['Class']"
      ],
      "execution_count": 7,
      "outputs": []
    },
    {
      "cell_type": "code",
      "metadata": {
        "colab": {
          "base_uri": "https://localhost:8080/"
        },
        "id": "pQUOgvGL56fe",
        "outputId": "b0af5d40-a658-42ff-8e6c-3adab2d833e3"
      },
      "source": [
        "df['Class'].value_counts()"
      ],
      "execution_count": 8,
      "outputs": [
        {
          "output_type": "execute_result",
          "data": {
            "text/plain": [
              "0    284315\n",
              "1       492\n",
              "Name: Class, dtype: int64"
            ]
          },
          "metadata": {},
          "execution_count": 8
        }
      ]
    },
    {
      "cell_type": "code",
      "metadata": {
        "colab": {
          "base_uri": "https://localhost:8080/",
          "height": 279
        },
        "id": "0U8jPuOR8yK2",
        "outputId": "0eb6b221-3d93-496d-db6d-16b52415cc40"
      },
      "source": [
        "sns.countplot(data=df,x=\"Class\")\n",
        "c=df[\"Class\"].value_counts()\n",
        "plt.yticks(c)\n",
        "plt.show()"
      ],
      "execution_count": 9,
      "outputs": [
        {
          "output_type": "display_data",
          "data": {
            "image/png": "[encoded data removed]",
            "text/plain": [
              "<Figure size 432x288 with 1 Axes>"
            ]
          },
          "metadata": {
            "needs_background": "light"
          }
        }
      ]
    },
    {
      "cell_type": "code",
      "metadata": {
        "id": "lyLLNJg-59UO"
      },
      "source": [
        "# as we see there is data imbalncing so to balnce the dataset we have to use \n",
        "#sampling technique"
      ],
      "execution_count": 10,
      "outputs": []
    },
    {
      "cell_type": "code",
      "metadata": {
        "id": "rYSrRVcO59i2"
      },
      "source": [
        "# split the dataset\n",
        "#split data into training and tetsing 70 and 30 percent\n",
        "from sklearn.model_selection import train_test_split\n",
        "X_train,X_test,Y_train,Y_test=train_test_split(X,Y,test_size=0.3,random_state=1)"
      ],
      "execution_count": 11,
      "outputs": []
    },
    {
      "cell_type": "code",
      "metadata": {
        "id": "I3-EsZnZ6nJY"
      },
      "source": [
        "from sklearn.linear_model import LogisticRegression\n",
        "from sklearn.metrics import classification_report,confusion_matrix"
      ],
      "execution_count": 12,
      "outputs": []
    },
    {
      "cell_type": "code",
      "metadata": {
        "id": "TiC7dtxX6nLh"
      },
      "source": [
        "def create_model(model):\n",
        "    model.fit(X_train,Y_train)\n",
        "    Y_pred=model.predict(X_test)\n",
        "    print('score',model.score(X_test,Y_test))\n",
        "    print(classification_report(Y_test,Y_pred))\n",
        "    print('fonfusion matrix')\n",
        "    print(confusion_matrix(Y_test,Y_pred))\n",
        "    return model"
      ],
      "execution_count": 13,
      "outputs": []
    },
    {
      "cell_type": "code",
      "metadata": {
        "colab": {
          "base_uri": "https://localhost:8080/"
        },
        "id": "sYiopQW96nPJ",
        "outputId": "4a103dd5-254f-48d1-bbb6-97ff5f2d2720"
      },
      "source": [
        "lr=LogisticRegression()\n",
        "lr=create_model(lr)"
      ],
      "execution_count": 14,
      "outputs": [
        {
          "output_type": "stream",
          "name": "stdout",
          "text": [
            "score 0.9989817773252344\n",
            "              precision    recall  f1-score   support\n",
            "\n",
            "           0       1.00      1.00      1.00     85308\n",
            "           1       0.70      0.63      0.66       135\n",
            "\n",
            "    accuracy                           1.00     85443\n",
            "   macro avg       0.85      0.81      0.83     85443\n",
            "weighted avg       1.00      1.00      1.00     85443\n",
            "\n",
            "fonfusion matrix\n",
            "[[85271    37]\n",
            " [   50    85]]\n"
          ]
        }
      ]
    },
    {
      "cell_type": "code",
      "metadata": {
        "colab": {
          "base_uri": "https://localhost:8080/"
        },
        "id": "VuGfKFde6nRz",
        "outputId": "799dbfa7-2ebd-45c9-aa8a-dd270715fb05"
      },
      "source": [
        "# check data balancing of Y_train\n",
        "pd.Series(Y_train).value_counts()\n"
      ],
      "execution_count": 15,
      "outputs": [
        {
          "output_type": "execute_result",
          "data": {
            "text/plain": [
              "0    199007\n",
              "1       357\n",
              "Name: Class, dtype: int64"
            ]
          },
          "metadata": {},
          "execution_count": 15
        }
      ]
    },
    {
      "cell_type": "code",
      "metadata": {
        "id": "1BWBlho36nU_"
      },
      "source": [
        "#we see there is much difference in yes and No data on training data manority is\n",
        "# very less so can't use under sampling because if we use under sampling lost much \n",
        "# data and if we use under sampling we have to train model in less data its not \n",
        "# good so we use Over Sampling method \n",
        "from imblearn.over_sampling import RandomOverSampler\n",
        "ros=RandomOverSampler()\n",
        "X_train1,Y_train1=ros.fit_resample(X_train,Y_train)"
      ],
      "execution_count": 16,
      "outputs": []
    },
    {
      "cell_type": "code",
      "metadata": {
        "colab": {
          "base_uri": "https://localhost:8080/"
        },
        "id": "1gZY9tuf6nX7",
        "outputId": "7c4fb140-fa62-4861-c070-261b0e5a1dca"
      },
      "source": [
        "# check after balancing of Y_train\n",
        "pd.Series(Y_train1).value_counts()"
      ],
      "execution_count": 17,
      "outputs": [
        {
          "output_type": "execute_result",
          "data": {
            "text/plain": [
              "1    199007\n",
              "0    199007\n",
              "dtype: int64"
            ]
          },
          "metadata": {},
          "execution_count": 17
        }
      ]
    },
    {
      "cell_type": "code",
      "metadata": {
        "colab": {
          "base_uri": "https://localhost:8080/"
        },
        "id": "_pVQE8EE6naz",
        "outputId": "ea6d0487-2ce2-4629-926e-9debcf9f22b4"
      },
      "source": [
        "# check data balancing of Y_test\n",
        "pd.Series(Y_test).value_counts()"
      ],
      "execution_count": 18,
      "outputs": [
        {
          "output_type": "execute_result",
          "data": {
            "text/plain": [
              "0    85308\n",
              "1      135\n",
              "Name: Class, dtype: int64"
            ]
          },
          "metadata": {},
          "execution_count": 18
        }
      ]
    },
    {
      "cell_type": "code",
      "metadata": {
        "id": "8utTL-FY6ndh"
      },
      "source": [
        "X_test1,Y_test1=ros.fit_resample(X_test,Y_test)"
      ],
      "execution_count": 19,
      "outputs": []
    },
    {
      "cell_type": "code",
      "metadata": {
        "colab": {
          "base_uri": "https://localhost:8080/"
        },
        "id": "lj64-Jnz6ng6",
        "outputId": "b84ae166-87ec-4747-a686-6442c4eff9d7"
      },
      "source": [
        "# check after balancing of Y_test\n",
        "pd.Series(Y_test1).value_counts()"
      ],
      "execution_count": 20,
      "outputs": [
        {
          "output_type": "execute_result",
          "data": {
            "text/plain": [
              "1    85308\n",
              "0    85308\n",
              "dtype: int64"
            ]
          },
          "metadata": {},
          "execution_count": 20
        }
      ]
    },
    {
      "cell_type": "code",
      "metadata": {
        "colab": {
          "base_uri": "https://localhost:8080/"
        },
        "id": "mrhyQIbn6nj7",
        "outputId": "b3c66ddb-051b-44d1-fa64-06b2c593cbb0"
      },
      "source": [
        "lr.fit(X_train1,Y_train1)\n",
        "Y_pred=lr.predict(X_test1)\n",
        "print(classification_report(Y_test1,Y_pred))\n",
        "print(confusion_matrix(Y_test1,Y_pred))"
      ],
      "execution_count": 21,
      "outputs": [
        {
          "output_type": "stream",
          "name": "stdout",
          "text": [
            "              precision    recall  f1-score   support\n",
            "\n",
            "           0       0.88      0.97      0.92     85308\n",
            "           1       0.97      0.87      0.91     85308\n",
            "\n",
            "    accuracy                           0.92    170616\n",
            "   macro avg       0.92      0.92      0.92    170616\n",
            "weighted avg       0.92      0.92      0.92    170616\n",
            "\n",
            "[[82826  2482]\n",
            " [11484 73824]]\n"
          ]
        }
      ]
    },
    {
      "cell_type": "code",
      "metadata": {
        "colab": {
          "base_uri": "https://localhost:8080/"
        },
        "id": "53HZg6N76nnq",
        "outputId": "e8209af9-c0e9-463b-8dc2-95eefceabe93"
      },
      "source": [
        "# we got 84% recall after using sampling technique\n",
        "# use Decision tree\n",
        "from sklearn.tree import DecisionTreeClassifier\n",
        "dt=DecisionTreeClassifier()\n",
        "dt.fit(X_train1,Y_train1)\n",
        "Y_pred=dt.predict(X_test1)\n",
        "dt.score(X_test1,Y_test1)"
      ],
      "execution_count": 22,
      "outputs": [
        {
          "output_type": "execute_result",
          "data": {
            "text/plain": [
              "0.8324951938856848"
            ]
          },
          "metadata": {},
          "execution_count": 22
        }
      ]
    },
    {
      "cell_type": "code",
      "metadata": {
        "id": "RuWt0oBV6npy"
      },
      "source": [
        "# we got 85% score \n",
        "# now use purning technique\n",
        "# two type of purning technique\n",
        "# 1. max_depth 2. min_sample_leaf"
      ],
      "execution_count": 23,
      "outputs": []
    },
    {
      "cell_type": "code",
      "metadata": {
        "id": "dUQ432bt6ntK"
      },
      "source": [
        "def create_model(model):\n",
        "    model.fit(X_train1,Y_train1)\n",
        "    Y_pred=model.predict(X_test1)\n",
        "    print('score',model.score(X_test1,Y_test1))\n",
        "    print(classification_report(Y_test1,Y_pred))\n",
        "    print('fonfusion matrix')\n",
        "    print(confusion_matrix(Y_test1,Y_pred))\n",
        "    return model"
      ],
      "execution_count": 24,
      "outputs": []
    },
    {
      "cell_type": "code",
      "metadata": {
        "colab": {
          "base_uri": "https://localhost:8080/"
        },
        "id": "dA7cCChm6n6O",
        "outputId": "217e9fdf-bd4d-4536-94d0-b638bad751e3"
      },
      "source": [
        "dt1=DecisionTreeClassifier(max_depth=8)# max_depth can't take more than 8\n",
        "dt1=create_model(dt1)"
      ],
      "execution_count": 25,
      "outputs": [
        {
          "output_type": "stream",
          "name": "stdout",
          "text": [
            "score 0.9048799643644206\n",
            "              precision    recall  f1-score   support\n",
            "\n",
            "           0       0.85      0.99      0.91     85308\n",
            "           1       0.99      0.82      0.90     85308\n",
            "\n",
            "    accuracy                           0.90    170616\n",
            "   macro avg       0.92      0.90      0.90    170616\n",
            "weighted avg       0.92      0.90      0.90    170616\n",
            "\n",
            "fonfusion matrix\n",
            "[[84393   915]\n",
            " [15314 69994]]\n"
          ]
        }
      ]
    },
    {
      "cell_type": "code",
      "metadata": {
        "colab": {
          "base_uri": "https://localhost:8080/"
        },
        "id": "FnJQvE0o6n8f",
        "outputId": "2ee6e543-103e-45a9-effe-11b1a32f80cf"
      },
      "source": [
        "# after using max_depth purning method increase recall from 85 to 82 but it is not also much good \n",
        "# try other one min sample leaf \n",
        "dt2=DecisionTreeClassifier(min_samples_leaf=45) # bydefault it is gini index\n",
        "dt2=create_model(dt2)"
      ],
      "execution_count": 26,
      "outputs": [
        {
          "output_type": "stream",
          "name": "stdout",
          "text": [
            "score 0.9050382144699207\n",
            "              precision    recall  f1-score   support\n",
            "\n",
            "           0       0.84      1.00      0.91     85308\n",
            "           1       1.00      0.81      0.90     85308\n",
            "\n",
            "    accuracy                           0.91    170616\n",
            "   macro avg       0.92      0.91      0.90    170616\n",
            "weighted avg       0.92      0.91      0.90    170616\n",
            "\n",
            "fonfusion matrix\n",
            "[[85089   219]\n",
            " [15983 69325]]\n"
          ]
        }
      ]
    },
    {
      "cell_type": "code",
      "metadata": {
        "colab": {
          "base_uri": "https://localhost:8080/"
        },
        "id": "IGRJFl096n_-",
        "outputId": "d056e57f-2175-4e7b-8209-a6520d1927bf"
      },
      "source": [
        "#  now entropy method of max_depth\n",
        "dt3=DecisionTreeClassifier(max_depth=8,criterion='entropy')# max_depth can't take more than 8\n",
        "dt3=create_model(dt3)"
      ],
      "execution_count": 27,
      "outputs": [
        {
          "output_type": "stream",
          "name": "stdout",
          "text": [
            "score 0.874730388709148\n",
            "              precision    recall  f1-score   support\n",
            "\n",
            "           0       0.80      1.00      0.89     85308\n",
            "           1       0.99      0.75      0.86     85308\n",
            "\n",
            "    accuracy                           0.87    170616\n",
            "   macro avg       0.90      0.87      0.87    170616\n",
            "weighted avg       0.90      0.87      0.87    170616\n",
            "\n",
            "fonfusion matrix\n",
            "[[84902   406]\n",
            " [20967 64341]]\n"
          ]
        }
      ]
    },
    {
      "cell_type": "code",
      "metadata": {
        "colab": {
          "base_uri": "https://localhost:8080/"
        },
        "id": "q4PGo5NP6oC_",
        "outputId": "a86177c7-deab-4f66-8660-fcf4f9f5bdb3"
      },
      "source": [
        "dt4=DecisionTreeClassifier(min_samples_leaf=45,criterion='entropy') # min sample leaf of entropy\n",
        "dt4=create_model(dt4)"
      ],
      "execution_count": 28,
      "outputs": [
        {
          "output_type": "stream",
          "name": "stdout",
          "text": [
            "score 0.8975066816711211\n",
            "              precision    recall  f1-score   support\n",
            "\n",
            "           0       0.83      1.00      0.91     85308\n",
            "           1       1.00      0.80      0.89     85308\n",
            "\n",
            "    accuracy                           0.90    170616\n",
            "   macro avg       0.91      0.90      0.90    170616\n",
            "weighted avg       0.91      0.90      0.90    170616\n",
            "\n",
            "fonfusion matrix\n",
            "[[85124   184]\n",
            " [17303 68005]]\n"
          ]
        }
      ]
    },
    {
      "cell_type": "code",
      "metadata": {
        "id": "GnvObnHgE0qC"
      },
      "source": [
        "# now we see the min_sample_leaf entropy method is not good but max_depth of both and min_sample leaf of gini have same\n",
        "#score of recall\n",
        "# now use Ensembpling technique\n",
        "# here there of four types \n",
        "#1.Naive aggregation\n",
        "# a. hard voting b. soft voting \n",
        "lr=LogisticRegression()\n",
        "dt=DecisionTreeClassifier()\n",
        "dt1=DecisionTreeClassifier(criterion='entropy')"
      ],
      "execution_count": 29,
      "outputs": []
    },
    {
      "cell_type": "code",
      "metadata": {
        "colab": {
          "base_uri": "https://localhost:8080/"
        },
        "id": "bpNMLKENE0sx",
        "outputId": "d39377fe-2cd0-4e70-c280-34b94fac41ca"
      },
      "source": [
        "model_list=[('logistic',lr),('dt gini',dt),('dt entropy',dt1)]\n",
        "from sklearn.ensemble import VotingClassifier\n",
        "hvc=VotingClassifier(estimators=model_list)# bydefault hard voting\n",
        "hvc=create_model(hvc)"
      ],
      "execution_count": 30,
      "outputs": [
        {
          "output_type": "stream",
          "name": "stdout",
          "text": [
            "score 0.8876893140150982\n",
            "              precision    recall  f1-score   support\n",
            "\n",
            "           0       0.82      1.00      0.90     85308\n",
            "           1       1.00      0.78      0.87     85308\n",
            "\n",
            "    accuracy                           0.89    170616\n",
            "   macro avg       0.91      0.89      0.89    170616\n",
            "weighted avg       0.91      0.89      0.89    170616\n",
            "\n",
            "fonfusion matrix\n",
            "[[85277    31]\n",
            " [19131 66177]]\n"
          ]
        }
      ]
    },
    {
      "cell_type": "code",
      "metadata": {
        "colab": {
          "base_uri": "https://localhost:8080/"
        },
        "id": "l5dRMc8vE0uu",
        "outputId": "8d525732-096f-4749-ff4e-10bcd635fba5"
      },
      "source": [
        "# we got 78% score of reacall and heigh score of FN and have to reduce it\n",
        "svc=VotingClassifier(estimators=model_list,voting='soft') # soft voting\n",
        "svc=create_model(hvc)"
      ],
      "execution_count": 31,
      "outputs": [
        {
          "output_type": "stream",
          "name": "stdout",
          "text": [
            "score 0.8839675059783373\n",
            "              precision    recall  f1-score   support\n",
            "\n",
            "           0       0.81      1.00      0.90     85308\n",
            "           1       1.00      0.77      0.87     85308\n",
            "\n",
            "    accuracy                           0.88    170616\n",
            "   macro avg       0.91      0.88      0.88    170616\n",
            "weighted avg       0.91      0.88      0.88    170616\n",
            "\n",
            "fonfusion matrix\n",
            "[[85278    30]\n",
            " [19767 65541]]\n"
          ]
        }
      ]
    },
    {
      "cell_type": "code",
      "metadata": {
        "colab": {
          "base_uri": "https://localhost:8080/"
        },
        "id": "0BonqevTE0xf",
        "outputId": "eab7e517-e9af-4044-8181-e06f4bb9f810"
      },
      "source": [
        "# now use 2nd method of ensembling technique\n",
        "# 2 . bootstraping \n",
        "# a. bagging  b. pasting c. random forest tree\n",
        "from sklearn.ensemble import BaggingClassifier\n",
        "bc=BaggingClassifier(LogisticRegression(),n_estimators=10,max_samples=900,random_state=1)\n",
        "bc=create_model(bc)                   # bagging method"
      ],
      "execution_count": 32,
      "outputs": [
        {
          "output_type": "stream",
          "name": "stdout",
          "text": [
            "score 0.9158226661039996\n",
            "              precision    recall  f1-score   support\n",
            "\n",
            "           0       0.87      0.97      0.92     85308\n",
            "           1       0.97      0.86      0.91     85308\n",
            "\n",
            "    accuracy                           0.92    170616\n",
            "   macro avg       0.92      0.92      0.92    170616\n",
            "weighted avg       0.92      0.92      0.92    170616\n",
            "\n",
            "fonfusion matrix\n",
            "[[83060  2248]\n",
            " [12114 73194]]\n"
          ]
        }
      ]
    },
    {
      "cell_type": "code",
      "metadata": {
        "colab": {
          "base_uri": "https://localhost:8080/"
        },
        "id": "oPjzIE9rE006",
        "outputId": "e7f8ce8a-0e9e-4340-91e8-7275472bcfb1"
      },
      "source": [
        "pc=BaggingClassifier(lr,n_estimators=10,max_samples=780,random_state=1,bootstrap=False)# pasting method\n",
        "pc=create_model(pc)"
      ],
      "execution_count": 33,
      "outputs": [
        {
          "output_type": "stream",
          "name": "stdout",
          "text": [
            "score 0.917188305903315\n",
            "              precision    recall  f1-score   support\n",
            "\n",
            "           0       0.87      0.98      0.92     85308\n",
            "           1       0.97      0.86      0.91     85308\n",
            "\n",
            "    accuracy                           0.92    170616\n",
            "   macro avg       0.92      0.92      0.92    170616\n",
            "weighted avg       0.92      0.92      0.92    170616\n",
            "\n",
            "fonfusion matrix\n",
            "[[83315  1993]\n",
            " [12136 73172]]\n"
          ]
        }
      ]
    },
    {
      "cell_type": "code",
      "metadata": {
        "colab": {
          "base_uri": "https://localhost:8080/"
        },
        "id": "1JN83oA9E03X",
        "outputId": "fedca9d0-b2ad-4c58-bedc-a22146717e93"
      },
      "source": [
        "rft=BaggingClassifier(dt,n_estimators=10,max_samples=780,random_state=1)\n",
        "rft=create_model(rft)    # randomforesttree"
      ],
      "execution_count": 34,
      "outputs": [
        {
          "output_type": "stream",
          "name": "stdout",
          "text": [
            "score 0.9198492521217236\n",
            "              precision    recall  f1-score   support\n",
            "\n",
            "           0       0.87      0.98      0.92     85308\n",
            "           1       0.98      0.86      0.91     85308\n",
            "\n",
            "    accuracy                           0.92    170616\n",
            "   macro avg       0.93      0.92      0.92    170616\n",
            "weighted avg       0.93      0.92      0.92    170616\n",
            "\n",
            "fonfusion matrix\n",
            "[[83869  1439]\n",
            " [12236 73072]]\n"
          ]
        }
      ]
    },
    {
      "cell_type": "code",
      "metadata": {
        "id": "pmxXtVsNE07c"
      },
      "source": [
        "# we got maximum score with random forest tree :87% recall\n",
        "# we got bad recall on bagging and pasting \n",
        "# now use  3rd method of ensempling technique stacking\n",
        "from mlxtend.classifier import StackingClassifier\n"
      ],
      "execution_count": 35,
      "outputs": []
    },
    {
      "cell_type": "code",
      "metadata": {
        "colab": {
          "base_uri": "https://localhost:8080/"
        },
        "id": "Xgi_Y2ICE0-t",
        "outputId": "58ce1fb4-bea8-448d-b33b-7aa3e8fb0eec"
      },
      "source": [
        "lr=LogisticRegression()\n",
        "dt=DecisionTreeClassifier()\n",
        "dt1=DecisionTreeClassifier(criterion='entropy')\n",
        "model_list=[lr,dt,dt1]\n",
        "meta=LogisticRegression()\n",
        "sc=StackingClassifier(classifiers=model_list,meta_classifier=meta)\n",
        "sc=create_model(sc)"
      ],
      "execution_count": 36,
      "outputs": [
        {
          "output_type": "stream",
          "name": "stdout",
          "text": [
            "score 0.8876775917850612\n",
            "              precision    recall  f1-score   support\n",
            "\n",
            "           0       0.82      1.00      0.90     85308\n",
            "           1       1.00      0.78      0.87     85308\n",
            "\n",
            "    accuracy                           0.89    170616\n",
            "   macro avg       0.91      0.89      0.89    170616\n",
            "weighted avg       0.91      0.89      0.89    170616\n",
            "\n",
            "fonfusion matrix\n",
            "[[85275    33]\n",
            " [19131 66177]]\n"
          ]
        }
      ]
    },
    {
      "cell_type": "code",
      "metadata": {
        "colab": {
          "base_uri": "https://localhost:8080/"
        },
        "id": "jv2ZJL9WLnyS",
        "outputId": "e6b1d44e-b9b9-48b8-8e84-e1a059e6704d"
      },
      "source": [
        "# we got 79% recall on stacking it is good but bad on confusion matrix so go ahead\n",
        "# now use 4th technique of ensempling \n",
        "#4 . boosting technique\n",
        "# a. Ada boost b. gradient boost c. Extream gradient boost(XG boost)\n",
        "# a ADA boost \n",
        "from sklearn.ensemble import AdaBoostClassifier\n",
        "ada=AdaBoostClassifier(n_estimators=75)\n",
        "ada=create_model(ada)"
      ],
      "execution_count": 37,
      "outputs": [
        {
          "output_type": "stream",
          "name": "stdout",
          "text": [
            "score 0.9273163126553196\n",
            "              precision    recall  f1-score   support\n",
            "\n",
            "           0       0.88      0.99      0.93     85308\n",
            "           1       0.99      0.86      0.92     85308\n",
            "\n",
            "    accuracy                           0.93    170616\n",
            "   macro avg       0.93      0.93      0.93    170616\n",
            "weighted avg       0.93      0.93      0.93    170616\n",
            "\n",
            "fonfusion matrix\n",
            "[[84447   861]\n",
            " [11540 73768]]\n"
          ]
        }
      ]
    },
    {
      "cell_type": "code",
      "metadata": {
        "colab": {
          "base_uri": "https://localhost:8080/"
        },
        "id": "SJVsevNQLn0z",
        "outputId": "64dfe177-c4a6-4810-e4d1-fe2de5dde6e1"
      },
      "source": [
        "# now use gradient boosting \n",
        "from sklearn.ensemble import GradientBoostingClassifier\n",
        "gbc=GradientBoostingClassifier(n_estimators=75)# n_estimators<=100\n",
        "gbc=create_model(gbc)"
      ],
      "execution_count": 38,
      "outputs": [
        {
          "output_type": "stream",
          "name": "stdout",
          "text": [
            "score 0.925194589018615\n",
            "              precision    recall  f1-score   support\n",
            "\n",
            "           0       0.87      0.99      0.93     85308\n",
            "           1       0.99      0.86      0.92     85308\n",
            "\n",
            "    accuracy                           0.93    170616\n",
            "   macro avg       0.93      0.93      0.92    170616\n",
            "weighted avg       0.93      0.93      0.92    170616\n",
            "\n",
            "fonfusion matrix\n",
            "[[84725   583]\n",
            " [12180 73128]]\n"
          ]
        }
      ]
    },
    {
      "cell_type": "code",
      "metadata": {
        "colab": {
          "base_uri": "https://localhost:8080/"
        },
        "id": "Hvx2zHPgLn35",
        "outputId": "c8e0bdd0-b24c-4d44-80fa-2c3b604fb63a"
      },
      "source": [
        "#!pip install xgboost\n",
        "from xgboost import XGBClassifier\n",
        "xg=XGBClassifier(n_estimators=25,reg_alpha=1)# reg_alpa=1 means handle automatically overfitting\n",
        "# reg means regularization\n",
        "xg=create_model(xg)"
      ],
      "execution_count": 39,
      "outputs": [
        {
          "output_type": "stream",
          "name": "stdout",
          "text": [
            "score 0.9245850330566887\n",
            "              precision    recall  f1-score   support\n",
            "\n",
            "           0       0.87      0.99      0.93     85308\n",
            "           1       0.99      0.86      0.92     85308\n",
            "\n",
            "    accuracy                           0.92    170616\n",
            "   macro avg       0.93      0.92      0.92    170616\n",
            "weighted avg       0.93      0.92      0.92    170616\n",
            "\n",
            "fonfusion matrix\n",
            "[[84684   624]\n",
            " [12243 73065]]\n"
          ]
        }
      ]
    },
    {
      "cell_type": "code",
      "metadata": {
        "id": "BRPldff6Ln8Y",
        "colab": {
          "base_uri": "https://localhost:8080/"
        },
        "outputId": "0665f334-b721-4768-f6ad-4b060dd61ad2"
      },
      "source": [
        "# we got best score with randomforestTree 87% recall and also less score of confusion matrix FN\n",
        "# Now use RandomForestTree separetly \n",
        "from sklearn.ensemble import RandomForestClassifier\n",
        "rfc=RandomForestClassifier(n_estimators=10,max_features=10,random_state=1)\n",
        "rfc=create_model(rfc)\n",
        "\n"
      ],
      "execution_count": 40,
      "outputs": [
        {
          "output_type": "stream",
          "name": "stdout",
          "text": [
            "score 0.8736988324658883\n",
            "              precision    recall  f1-score   support\n",
            "\n",
            "           0       0.80      1.00      0.89     85308\n",
            "           1       1.00      0.75      0.86     85308\n",
            "\n",
            "    accuracy                           0.87    170616\n",
            "   macro avg       0.90      0.87      0.87    170616\n",
            "weighted avg       0.90      0.87      0.87    170616\n",
            "\n",
            "fonfusion matrix\n",
            "[[85299     9]\n",
            " [21540 63768]]\n"
          ]
        }
      ]
    },
    {
      "cell_type": "code",
      "metadata": {
        "colab": {
          "base_uri": "https://localhost:8080/"
        },
        "id": "yE2rKYznWmtI",
        "outputId": "606c4d73-4920-4604-f041-651e374ce657"
      },
      "source": [
        "rfc.feature_importances_"
      ],
      "execution_count": 41,
      "outputs": [
        {
          "output_type": "execute_result",
          "data": {
            "text/plain": [
              "array([0.00634365, 0.00602404, 0.00372959, 0.01246086, 0.03931858,\n",
              "       0.00477004, 0.00311842, 0.00520977, 0.00658442, 0.00926943,\n",
              "       0.08102006, 0.13503917, 0.16043074, 0.01325357, 0.35308046,\n",
              "       0.0058478 , 0.05871538, 0.01368749, 0.00496857, 0.00903254,\n",
              "       0.01275291, 0.0077257 , 0.00471034, 0.00923206, 0.00235851,\n",
              "       0.00483094, 0.00671793, 0.00408264, 0.00321861, 0.01246575])"
            ]
          },
          "metadata": {},
          "execution_count": 41
        }
      ]
    },
    {
      "cell_type": "code",
      "metadata": {
        "colab": {
          "base_uri": "https://localhost:8080/"
        },
        "id": "e21IDx4cWmvm",
        "outputId": "7cfa1103-fb2b-485a-d9f7-92a716e9dc39"
      },
      "source": [
        "X.columns"
      ],
      "execution_count": 42,
      "outputs": [
        {
          "output_type": "execute_result",
          "data": {
            "text/plain": [
              "Index(['Time', 'V1', 'V2', 'V3', 'V4', 'V5', 'V6', 'V7', 'V8', 'V9', 'V10',\n",
              "       'V11', 'V12', 'V13', 'V14', 'V15', 'V16', 'V17', 'V18', 'V19', 'V20',\n",
              "       'V21', 'V22', 'V23', 'V24', 'V25', 'V26', 'V27', 'V28', 'Amount'],\n",
              "      dtype='object')"
            ]
          },
          "metadata": {},
          "execution_count": 42
        }
      ]
    },
    {
      "cell_type": "code",
      "metadata": {
        "id": "cnMtfVTjWm05",
        "colab": {
          "base_uri": "https://localhost:8080/",
          "height": 52
        },
        "outputId": "e4327d86-31d3-4766-a6c3-5be38b5eb36a"
      },
      "source": [
        "#SVM : Support vector machine : It is supervised learning classification algorithm\n",
        "#There are different types of SVM : -\n",
        "'''\n",
        "1. Linear Separable data means Linear Kernal\n",
        "2.  Non -Linear data\n",
        "a. Polynomial Kernal function    \n",
        "b. radial basis kernel function\n",
        "'''"
      ],
      "execution_count": 43,
      "outputs": [
        {
          "output_type": "execute_result",
          "data": {
            "application/vnd.google.colaboratory.intrinsic+json": {
              "type": "string"
            },
            "text/plain": [
              "'\\n1. Linear Separable data means Linear Kernal\\n2.  Non -Linear data\\na. Polynomial Kernal function    \\nb. radial basis kernel function\\n'"
            ]
          },
          "metadata": {},
          "execution_count": 43
        }
      ]
    },
    {
      "cell_type": "code",
      "metadata": {
        "colab": {
          "base_uri": "https://localhost:8080/"
        },
        "id": "ilqes5dJWm3W",
        "outputId": "6c6526c9-5387-4c98-b390-7efc696ddb05"
      },
      "source": [
        "#1. Linear Separable data means Linear Kernal\n",
        "from sklearn.svm import LinearSVC\n",
        "#create the object of LinearSVC class\n",
        "svc=LinearSVC(random_state=1)  #by default hard margin\n",
        "#call function\n",
        "svc=create_model(svc)"
      ],
      "execution_count": 44,
      "outputs": [
        {
          "output_type": "stream",
          "name": "stdout",
          "text": [
            "score 0.8847118675856895\n",
            "              precision    recall  f1-score   support\n",
            "\n",
            "           0       0.83      0.96      0.89     85308\n",
            "           1       0.96      0.81      0.87     85308\n",
            "\n",
            "    accuracy                           0.88    170616\n",
            "   macro avg       0.89      0.88      0.88    170616\n",
            "weighted avg       0.89      0.88      0.88    170616\n",
            "\n",
            "fonfusion matrix\n",
            "[[82208  3100]\n",
            " [16570 68738]]\n"
          ]
        }
      ]
    },
    {
      "cell_type": "code",
      "metadata": {
        "colab": {
          "base_uri": "https://localhost:8080/"
        },
        "id": "jzLGr5RaWm53",
        "outputId": "59f237d7-5276-40b8-e5c1-151455c6b7c1"
      },
      "source": [
        "#here recall is 79 which is good but we can more better\n",
        "#means can be possible ,model is overfit  why \n",
        "#perhaps , can be no error on training time but error on testing time , \n",
        "#what  do we do ,\n",
        "#add some external error on training time  if create a object of \n",
        "#LinearSVC class \n",
        "\n",
        "#Soft margin means to reduced overfitting situation means some error add on\n",
        "#training time \n",
        "#create object of LinearSVC class\n",
        "#Soft Margin\n",
        "svc=LinearSVC(random_state=1,C=0.05)\n",
        "#here C is parameter which is used to\n",
        "#add some error on training time set error 0.05 \n",
        "#call function\n",
        "svc=create_model(svc)"
      ],
      "execution_count": 45,
      "outputs": [
        {
          "output_type": "stream",
          "name": "stdout",
          "text": [
            "score 0.8858137572091714\n",
            "              precision    recall  f1-score   support\n",
            "\n",
            "           0       0.82      0.98      0.90     85308\n",
            "           1       0.98      0.79      0.87     85308\n",
            "\n",
            "    accuracy                           0.89    170616\n",
            "   macro avg       0.90      0.89      0.88    170616\n",
            "weighted avg       0.90      0.89      0.88    170616\n",
            "\n",
            "fonfusion matrix\n",
            "[[83615  1693]\n",
            " [17789 67519]]\n"
          ]
        }
      ]
    },
    {
      "cell_type": "code",
      "metadata": {
        "id": "Fq9nmJ4pWm9z"
      },
      "source": [
        "#recall=0.84 is very good but can be much better .\n",
        "#can be possible , check either dataset is  linear or  dataset is non-linear  .\n",
        "#use Non-linear kernal function of SVM means 2 classes are not separatable \n",
        "#with straight line \n",
        "\n",
        "#there are 2 types of Non-Linear Kernal function\n",
        "#here 1. polynomial kernal function : increase the low dimension to \n",
        "#high dimension\n",
        "#2. radial basis kernal function  both are non-linear data\n"
      ],
      "execution_count": 46,
      "outputs": []
    },
    {
      "cell_type": "code",
      "metadata": {
        "id": "w1F9m4ABZpFq"
      },
      "source": [
        "#2.a  polynomial Kernel function \n",
        "#from sklearn.svm import SVC \n",
        "#SVC inbuilt class for non-linear data\n",
        "#create the object of SVC class\n",
        "#poly_svc=SVC(random_state=1,kernel=\"poly\")\n",
        "#call function\n",
        "#poly_svc=create_model(poly_svc)"
      ],
      "execution_count": 47,
      "outputs": []
    },
    {
      "cell_type": "code",
      "metadata": {
        "id": "uxaGbLPrZpKv"
      },
      "source": [
        "#will not be apply polynomial kernel function in bank dataset\n",
        "#we use 3 . non-linear : radial basis kernel function\n",
        "#create object of SVC class(for radial-basis)\n",
        "#create the object of SVC class\n",
        "#radial_svc=SVC(random_state=1,kernel=\"rbf\")\n",
        "#call function\n",
        "#radial_svc=create_model(radial_svc)"
      ],
      "execution_count": 48,
      "outputs": []
    },
    {
      "cell_type": "code",
      "metadata": {
        "id": "TmGiNGN8ZpNr"
      },
      "source": [
        "# now use Future selection technique\n",
        "# there are of 4 types\n",
        "# 1. filter method\n",
        "# a. correaltion coefficient b. Anova test c. chi_square test\n",
        "# now on correlation coefficient it is used mostly in regression so now we use directly anova test\n",
        "# Anova test\n",
        "from sklearn.feature_selection import SelectKBest,f_regression\n",
        "anova=SelectKBest(score_func=f_regression,k=6)# k means no. of inputs \n",
        "X_train_imp=anova.fit_transform(X_train1,Y_train1)\n",
        "X_test_imp=anova.transform(X_test1)"
      ],
      "execution_count": 49,
      "outputs": []
    },
    {
      "cell_type": "code",
      "metadata": {
        "id": "AQ-B7YibZpTf",
        "colab": {
          "base_uri": "https://localhost:8080/"
        },
        "outputId": "af7df517-8f24-4626-e3a3-d2c75046945c"
      },
      "source": [
        "anova.get_support()"
      ],
      "execution_count": 50,
      "outputs": [
        {
          "output_type": "execute_result",
          "data": {
            "text/plain": [
              "array([False, False, False, False,  True, False, False, False, False,\n",
              "       False,  True,  True,  True, False,  True, False,  True, False,\n",
              "       False, False, False, False, False, False, False, False, False,\n",
              "       False, False, False])"
            ]
          },
          "metadata": {},
          "execution_count": 50
        }
      ]
    },
    {
      "cell_type": "code",
      "metadata": {
        "id": "fbF7D1a0ZpV5",
        "colab": {
          "base_uri": "https://localhost:8080/"
        },
        "outputId": "8e3b19dd-1754-4d56-939a-d06367640e7c"
      },
      "source": [
        "X.columns"
      ],
      "execution_count": 51,
      "outputs": [
        {
          "output_type": "execute_result",
          "data": {
            "text/plain": [
              "Index(['Time', 'V1', 'V2', 'V3', 'V4', 'V5', 'V6', 'V7', 'V8', 'V9', 'V10',\n",
              "       'V11', 'V12', 'V13', 'V14', 'V15', 'V16', 'V17', 'V18', 'V19', 'V20',\n",
              "       'V21', 'V22', 'V23', 'V24', 'V25', 'V26', 'V27', 'V28', 'Amount'],\n",
              "      dtype='object')"
            ]
          },
          "metadata": {},
          "execution_count": 51
        }
      ]
    },
    {
      "cell_type": "code",
      "metadata": {
        "id": "VlxOqSKXZpYp",
        "colab": {
          "base_uri": "https://localhost:8080/"
        },
        "outputId": "3e56059c-5492-49d4-847b-4da6190e4bf6"
      },
      "source": [
        "# imp column v3, v10, v12, v14, v16, v17\n",
        "lr=LogisticRegression()\n",
        "lr.fit(X_train_imp,Y_train1)\n",
        "lr.score(X_test_imp,Y_test1)"
      ],
      "execution_count": 53,
      "outputs": [
        {
          "output_type": "execute_result",
          "data": {
            "text/plain": [
              "0.9270056735593379"
            ]
          },
          "metadata": {},
          "execution_count": 53
        }
      ]
    },
    {
      "cell_type": "code",
      "metadata": {
        "id": "Rcbpv8JiZpaT",
        "colab": {
          "base_uri": "https://localhost:8080/"
        },
        "outputId": "e21e2020-8f23-430c-da3b-b5c9767f78ac"
      },
      "source": [
        "# now check dataset have any negative value because chi2 not applied on negative value \n",
        "for col in X:\n",
        "    print(df[col]<0)"
      ],
      "execution_count": 54,
      "outputs": [
        {
          "output_type": "stream",
          "name": "stdout",
          "text": [
            "0         False\n",
            "1         False\n",
            "2         False\n",
            "3         False\n",
            "4         False\n",
            "          ...  \n",
            "284802    False\n",
            "284803    False\n",
            "284804    False\n",
            "284805    False\n",
            "284806    False\n",
            "Name: Time, Length: 284807, dtype: bool\n",
            "0          True\n",
            "1         False\n",
            "2          True\n",
            "3          True\n",
            "4          True\n",
            "          ...  \n",
            "284802     True\n",
            "284803     True\n",
            "284804    False\n",
            "284805     True\n",
            "284806     True\n",
            "Name: V1, Length: 284807, dtype: bool\n",
            "0          True\n",
            "1         False\n",
            "2          True\n",
            "3          True\n",
            "4         False\n",
            "          ...  \n",
            "284802    False\n",
            "284803     True\n",
            "284804     True\n",
            "284805    False\n",
            "284806     True\n",
            "Name: V2, Length: 284807, dtype: bool\n",
            "0         False\n",
            "1         False\n",
            "2         False\n",
            "3         False\n",
            "4         False\n",
            "          ...  \n",
            "284802     True\n",
            "284803    False\n",
            "284804     True\n",
            "284805    False\n",
            "284806    False\n",
            "Name: V3, Length: 284807, dtype: bool\n",
            "0         False\n",
            "1         False\n",
            "2         False\n",
            "3          True\n",
            "4         False\n",
            "          ...  \n",
            "284802     True\n",
            "284803     True\n",
            "284804     True\n",
            "284805    False\n",
            "284806     True\n",
            "Name: V4, Length: 284807, dtype: bool\n",
            "0          True\n",
            "1         False\n",
            "2          True\n",
            "3          True\n",
            "4          True\n",
            "          ...  \n",
            "284802     True\n",
            "284803    False\n",
            "284804    False\n",
            "284805     True\n",
            "284806     True\n",
            "Name: V5, Length: 284807, dtype: bool\n",
            "0         False\n",
            "1          True\n",
            "2         False\n",
            "3         False\n",
            "4         False\n",
            "          ...  \n",
            "284802     True\n",
            "284803    False\n",
            "284804    False\n",
            "284805    False\n",
            "284806     True\n",
            "Name: V6, Length: 284807, dtype: bool\n",
            "0         False\n",
            "1          True\n",
            "2         False\n",
            "3         False\n",
            "4         False\n",
            "          ...  \n",
            "284802     True\n",
            "284803    False\n",
            "284804     True\n",
            "284805     True\n",
            "284806    False\n",
            "Name: V7, Length: 284807, dtype: bool\n",
            "0         False\n",
            "1         False\n",
            "2         False\n",
            "3         False\n",
            "4          True\n",
            "          ...  \n",
            "284802    False\n",
            "284803    False\n",
            "284804    False\n",
            "284805    False\n",
            "284806     True\n",
            "Name: V8, Length: 284807, dtype: bool\n",
            "0         False\n",
            "1          True\n",
            "2          True\n",
            "3          True\n",
            "4         False\n",
            "          ...  \n",
            "284802    False\n",
            "284803    False\n",
            "284804    False\n",
            "284805    False\n",
            "284806    False\n",
            "Name: V9, Length: 284807, dtype: bool\n",
            "0         False\n",
            "1          True\n",
            "2         False\n",
            "3          True\n",
            "4         False\n",
            "          ...  \n",
            "284802    False\n",
            "284803     True\n",
            "284804     True\n",
            "284805     True\n",
            "284806     True\n",
            "Name: V10, Length: 284807, dtype: bool\n",
            "0          True\n",
            "1         False\n",
            "2         False\n",
            "3          True\n",
            "4          True\n",
            "          ...  \n",
            "284802     True\n",
            "284803     True\n",
            "284804    False\n",
            "284805     True\n",
            "284806     True\n",
            "Name: V11, Length: 284807, dtype: bool\n",
            "0          True\n",
            "1         False\n",
            "2         False\n",
            "3         False\n",
            "4         False\n",
            "          ...  \n",
            "284802    False\n",
            "284803    False\n",
            "284804    False\n",
            "284805     True\n",
            "284806     True\n",
            "Name: V12, Length: 284807, dtype: bool\n",
            "0          True\n",
            "1         False\n",
            "2         False\n",
            "3         False\n",
            "4         False\n",
            "          ...  \n",
            "284802     True\n",
            "284803    False\n",
            "284804     True\n",
            "284805     True\n",
            "284806     True\n",
            "Name: V13, Length: 284807, dtype: bool\n",
            "0          True\n",
            "1          True\n",
            "2          True\n",
            "3          True\n",
            "4          True\n",
            "          ...  \n",
            "284802    False\n",
            "284803     True\n",
            "284804     True\n",
            "284805    False\n",
            "284806     True\n",
            "Name: V14, Length: 284807, dtype: bool\n",
            "0         False\n",
            "1         False\n",
            "2         False\n",
            "3          True\n",
            "4         False\n",
            "          ...  \n",
            "284802     True\n",
            "284803    False\n",
            "284804    False\n",
            "284805    False\n",
            "284806    False\n",
            "Name: V15, Length: 284807, dtype: bool\n",
            "0          True\n",
            "1         False\n",
            "2          True\n",
            "3          True\n",
            "4          True\n",
            "          ...  \n",
            "284802    False\n",
            "284803     True\n",
            "284804    False\n",
            "284805     True\n",
            "284806     True\n",
            "Name: V16, Length: 284807, dtype: bool\n",
            "0         False\n",
            "1          True\n",
            "2         False\n",
            "3          True\n",
            "4          True\n",
            "          ...  \n",
            "284802    False\n",
            "284803     True\n",
            "284804    False\n",
            "284805    False\n",
            "284806     True\n",
            "Name: V17, Length: 284807, dtype: bool\n",
            "0         False\n",
            "1          True\n",
            "2          True\n",
            "3         False\n",
            "4          True\n",
            "          ...  \n",
            "284802    False\n",
            "284803     True\n",
            "284804    False\n",
            "284805    False\n",
            "284806    False\n",
            "Name: V18, Length: 284807, dtype: bool\n",
            "0         False\n",
            "1          True\n",
            "2          True\n",
            "3          True\n",
            "4         False\n",
            "          ...  \n",
            "284802     True\n",
            "284803     True\n",
            "284804     True\n",
            "284805    False\n",
            "284806     True\n",
            "Name: V19, Length: 284807, dtype: bool\n",
            "0         False\n",
            "1          True\n",
            "2         False\n",
            "3          True\n",
            "4         False\n",
            "          ...  \n",
            "284802    False\n",
            "284803    False\n",
            "284804    False\n",
            "284805    False\n",
            "284806    False\n",
            "Name: V20, Length: 284807, dtype: bool\n",
            "0          True\n",
            "1          True\n",
            "2         False\n",
            "3          True\n",
            "4          True\n",
            "          ...  \n",
            "284802    False\n",
            "284803    False\n",
            "284804    False\n",
            "284805    False\n",
            "284806    False\n",
            "Name: V21, Length: 284807, dtype: bool\n",
            "0         False\n",
            "1          True\n",
            "2         False\n",
            "3         False\n",
            "4         False\n",
            "          ...  \n",
            "284802    False\n",
            "284803    False\n",
            "284804    False\n",
            "284805    False\n",
            "284806    False\n",
            "Name: V22, Length: 284807, dtype: bool\n",
            "0          True\n",
            "1         False\n",
            "2         False\n",
            "3          True\n",
            "4          True\n",
            "          ...  \n",
            "284802    False\n",
            "284803    False\n",
            "284804     True\n",
            "284805     True\n",
            "284806    False\n",
            "Name: V23, Length: 284807, dtype: bool\n",
            "0         False\n",
            "1          True\n",
            "2          True\n",
            "3          True\n",
            "4         False\n",
            "          ...  \n",
            "284802     True\n",
            "284803     True\n",
            "284804    False\n",
            "284805    False\n",
            "284806    False\n",
            "Name: V24, Length: 284807, dtype: bool\n",
            "0         False\n",
            "1         False\n",
            "2          True\n",
            "3         False\n",
            "4          True\n",
            "          ...  \n",
            "284802    False\n",
            "284803     True\n",
            "284804    False\n",
            "284805     True\n",
            "284806     True\n",
            "Name: V25, Length: 284807, dtype: bool\n",
            "0          True\n",
            "1         False\n",
            "2          True\n",
            "3          True\n",
            "4         False\n",
            "          ...  \n",
            "284802    False\n",
            "284803     True\n",
            "284804     True\n",
            "284805    False\n",
            "284806     True\n",
            "Name: V26, Length: 284807, dtype: bool\n",
            "0         False\n",
            "1          True\n",
            "2          True\n",
            "3         False\n",
            "4         False\n",
            "          ...  \n",
            "284802    False\n",
            "284803    False\n",
            "284804    False\n",
            "284805    False\n",
            "284806     True\n",
            "Name: V27, Length: 284807, dtype: bool\n",
            "0          True\n",
            "1         False\n",
            "2          True\n",
            "3         False\n",
            "4         False\n",
            "          ...  \n",
            "284802    False\n",
            "284803     True\n",
            "284804     True\n",
            "284805    False\n",
            "284806    False\n",
            "Name: V28, Length: 284807, dtype: bool\n",
            "0         False\n",
            "1         False\n",
            "2         False\n",
            "3         False\n",
            "4         False\n",
            "          ...  \n",
            "284802    False\n",
            "284803    False\n",
            "284804    False\n",
            "284805    False\n",
            "284806    False\n",
            "Name: Amount, Length: 284807, dtype: bool\n"
          ]
        }
      ]
    },
    {
      "cell_type": "code",
      "metadata": {
        "id": "gPS7QYlYZpeR",
        "colab": {
          "base_uri": "https://localhost:8080/"
        },
        "outputId": "7fe9d4cb-e48d-4acb-8ba8-519eeae5d9a7"
      },
      "source": [
        "# we got negative value so can't use chi2 \n",
        "# now 2nd future selection method is wrapper method\n",
        "# a. forward method b. backward method\n",
        "# apply forwad method \n",
        "columns=[]\n",
        "for col in X:\n",
        "    columns.append(col)\n",
        "    X_new=df[columns]\n",
        "    X_train,X_test,Y_train,Y_test=train_test_split(X_new,Y,test_size=0.3,random_state=1)\n",
        "    lr=LogisticRegression()\n",
        "    lr.fit(X_train,Y_train)\n",
        "    score=lr.score(X_test,Y_test)\n",
        "    print('columns:- ',col,'score:- ',score)\n"
      ],
      "execution_count": 55,
      "outputs": [
        {
          "output_type": "stream",
          "name": "stdout",
          "text": [
            "columns:-  Time score:-  0.9984199992977775\n",
            "columns:-  V1 score:-  0.9982795547909132\n",
            "columns:-  V2 score:-  0.9984551104244935\n",
            "columns:-  V3 score:-  0.9983614807532507\n",
            "columns:-  V4 score:-  0.9987828142738434\n",
            "columns:-  V5 score:-  0.9987945179827488\n",
            "columns:-  V6 score:-  0.9984902215512096\n",
            "columns:-  V7 score:-  0.9970974801914727\n",
            "columns:-  V8 score:-  0.9987242957293166\n",
            "columns:-  V9 score:-  0.9977879990168884\n",
            "columns:-  V10 score:-  0.9974251840408226\n",
            "columns:-  V11 score:-  0.9975539248387814\n",
            "columns:-  V12 score:-  0.9985721475135471\n",
            "columns:-  V13 score:-  0.9983263696265346\n",
            "columns:-  V14 score:-  0.9983029622087239\n",
            "columns:-  V15 score:-  0.9989232587807076\n",
            "columns:-  V16 score:-  0.9988530365272755\n",
            "columns:-  V17 score:-  0.9990871107053826\n",
            "columns:-  V18 score:-  0.9989232587807076\n",
            "columns:-  V19 score:-  0.9982561473731025\n",
            "columns:-  V20 score:-  0.9988881476539916\n",
            "columns:-  V21 score:-  0.9983263696265346\n",
            "columns:-  V22 score:-  0.9988881476539916\n",
            "columns:-  V23 score:-  0.9988998513628969\n",
            "columns:-  V24 score:-  0.9988764439450862\n",
            "columns:-  V25 score:-  0.9988998513628969\n",
            "columns:-  V26 score:-  0.9988998513628969\n",
            "columns:-  V27 score:-  0.9988881476539916\n",
            "columns:-  V28 score:-  0.9990402958697612\n",
            "columns:-  Amount score:-  0.9989817773252344\n"
          ]
        }
      ]
    },
    {
      "cell_type": "code",
      "metadata": {
        "id": "hcZfqIqmZpgb",
        "colab": {
          "base_uri": "https://localhost:8080/"
        },
        "outputId": "5a45924f-d69a-4341-a669-826c49e8a133"
      },
      "source": [
        "#Backward Selection  : it is reverse of forward selection\n",
        "# in it we take all input first and train the model then remove one by one from last \n",
        "#declare a empty column\n",
        "columns=[]\n",
        "X_new=X\n",
        "n_col=X_new.shape[1] #no. of columns\n",
        "#print(n_col)\n",
        "for i in range(n_col,0,-1): \n",
        "    columns.append(X_new)\n",
        "    X_train,X_test,y_train,y_test = train_test_split(X_new,Y,test_size=0.3,random_state=1)\n",
        "     #create a object of LinearRegression\n",
        "    lr=LogisticRegression()\n",
        "    #we train the model\n",
        "    lr.fit(X_train,y_train)\n",
        "    #find the score\n",
        "    score1=lr.score(X_test,y_test)\n",
        "    print(\"Column : \",i, \" Score : \",score1)\n",
        "    X_new=X_new.iloc[:,:-1]  #iloc index location iloc[startrow:stoprow ,startcol:-1]\n",
        "    #iloc[rowindex,colindex]\n",
        "    print(\"After Remove Column : \", i)"
      ],
      "execution_count": 56,
      "outputs": [
        {
          "output_type": "stream",
          "name": "stdout",
          "text": [
            "Column :  30  Score :  0.9989817773252344\n",
            "After Remove Column :  30\n",
            "Column :  29  Score :  0.9990402958697612\n",
            "After Remove Column :  29\n",
            "Column :  28  Score :  0.9988881476539916\n",
            "After Remove Column :  28\n",
            "Column :  27  Score :  0.9988998513628969\n",
            "After Remove Column :  27\n",
            "Column :  26  Score :  0.9988998513628969\n",
            "After Remove Column :  26\n",
            "Column :  25  Score :  0.9988764439450862\n",
            "After Remove Column :  25\n",
            "Column :  24  Score :  0.9988998513628969\n",
            "After Remove Column :  24\n",
            "Column :  23  Score :  0.9988881476539916\n",
            "After Remove Column :  23\n",
            "Column :  22  Score :  0.9983263696265346\n",
            "After Remove Column :  22\n",
            "Column :  21  Score :  0.9988881476539916\n",
            "After Remove Column :  21\n",
            "Column :  20  Score :  0.9982561473731025\n",
            "After Remove Column :  20\n",
            "Column :  19  Score :  0.9989232587807076\n",
            "After Remove Column :  19\n",
            "Column :  18  Score :  0.9990871107053826\n",
            "After Remove Column :  18\n",
            "Column :  17  Score :  0.9988530365272755\n",
            "After Remove Column :  17\n",
            "Column :  16  Score :  0.9989232587807076\n",
            "After Remove Column :  16\n",
            "Column :  15  Score :  0.9983029622087239\n",
            "After Remove Column :  15\n",
            "Column :  14  Score :  0.9983263696265346\n",
            "After Remove Column :  14\n",
            "Column :  13  Score :  0.9985721475135471\n",
            "After Remove Column :  13\n",
            "Column :  12  Score :  0.9975539248387814\n",
            "After Remove Column :  12\n",
            "Column :  11  Score :  0.9974251840408226\n",
            "After Remove Column :  11\n",
            "Column :  10  Score :  0.9977879990168884\n",
            "After Remove Column :  10\n",
            "Column :  9  Score :  0.9987242957293166\n",
            "After Remove Column :  9\n",
            "Column :  8  Score :  0.9970974801914727\n",
            "After Remove Column :  8\n",
            "Column :  7  Score :  0.9984902215512096\n",
            "After Remove Column :  7\n",
            "Column :  6  Score :  0.9987945179827488\n",
            "After Remove Column :  6\n",
            "Column :  5  Score :  0.9987828142738434\n",
            "After Remove Column :  5\n",
            "Column :  4  Score :  0.9983614807532507\n",
            "After Remove Column :  4\n",
            "Column :  3  Score :  0.9984551104244935\n",
            "After Remove Column :  3\n",
            "Column :  2  Score :  0.9982795547909132\n",
            "After Remove Column :  2\n",
            "Column :  1  Score :  0.9984199992977775\n",
            "After Remove Column :  1\n"
          ]
        }
      ]
    },
    {
      "cell_type": "code",
      "metadata": {
        "id": "JYQbrcTGZpjd"
      },
      "source": [
        "# now next method is embedded method we can't use it on classification dataset because it is not \n",
        "#relevant for classification type data\n",
        "# so we move to next one PCA method\n",
        "#apply PCA : principal component analysis\n",
        "#4. PCA means Principal Component Analysis\n",
        "#Select input and output from dataset\n",
        "X=df.drop(\"Class\",axis=1)\n",
        "Y=df[\"Class\"]"
      ],
      "execution_count": 57,
      "outputs": []
    },
    {
      "cell_type": "code",
      "metadata": {
        "id": "mvFJ6WdzZpmQ"
      },
      "source": [
        "X_train,X_test,Y_train,Y_test = train_test_split(X,Y,test_size=0.3,random_state=1)\n",
        "     #create a object of LogisticRegression"
      ],
      "execution_count": 58,
      "outputs": []
    },
    {
      "cell_type": "code",
      "metadata": {
        "id": "3lyXXt9RZpqG"
      },
      "source": [
        "\n",
        "from sklearn.decomposition import PCA\n",
        "#Create object of PCA\n",
        "pc=PCA(n_components=10,random_state=1)#n_components : how many principal components"
      ],
      "execution_count": 63,
      "outputs": []
    },
    {
      "cell_type": "code",
      "metadata": {
        "id": "02-yCJKCZptJ"
      },
      "source": [
        "X_train_pc=pc.fit_transform(X_train,Y_train)\n",
        "X_test_pc=pc.transform(X_test)"
      ],
      "execution_count": 64,
      "outputs": []
    },
    {
      "cell_type": "code",
      "metadata": {
        "id": "2V5zxS_FZpvz"
      },
      "source": [
        "#create the object of LogisticRegression class\n",
        "lr=LogisticRegression()"
      ],
      "execution_count": 65,
      "outputs": []
    },
    {
      "cell_type": "code",
      "metadata": {
        "id": "PuA6LSQKZpyO",
        "colab": {
          "base_uri": "https://localhost:8080/"
        },
        "outputId": "1127cd04-c2ca-4cf3-e4b6-2ba9829e534e"
      },
      "source": [
        "#train the model\n",
        "lr.fit(X_train_pc,Y_train)\n",
        "#check score\n",
        "lr.score(X_test_pc,Y_test)"
      ],
      "execution_count": 66,
      "outputs": [
        {
          "output_type": "execute_result",
          "data": {
            "text/plain": [
              "0.9988881476539916"
            ]
          },
          "metadata": {},
          "execution_count": 66
        }
      ]
    }
  ]
}